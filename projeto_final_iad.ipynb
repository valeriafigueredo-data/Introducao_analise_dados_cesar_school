{
  "cells": [
    {
      "cell_type": "markdown",
      "metadata": {
        "id": "view-in-github",
        "colab_type": "text"
      },
      "source": [
        "<a href=\"https://colab.research.google.com/github/valeriafigueredo-data/introducao_analise_dados_cesar_school/blob/main/projeto_final_iad.ipynb\" target=\"_parent\"><img src=\"https://colab.research.google.com/assets/colab-badge.svg\" alt=\"Open In Colab\"/></a>"
      ]
    },
    {
      "cell_type": "code",
      "execution_count": null,
      "metadata": {
        "id": "zXrCnH1yaJOI",
        "colab": {
          "base_uri": "https://localhost:8080/"
        },
        "outputId": "333b26c4-ea69-4faa-9eee-24e6183d7f9b"
      },
      "outputs": [
        {
          "output_type": "stream",
          "name": "stdout",
          "text": [
            "Drive already mounted at /content/drive; to attempt to forcibly remount, call drive.mount(\"/content/drive\", force_remount=True).\n"
          ]
        }
      ],
      "source": [
        "from google.colab import drive\n",
        "drive.mount('/content/drive')"
      ]
    },
    {
      "cell_type": "markdown",
      "metadata": {
        "id": "5xN7qz7xpbBB"
      },
      "source": [
        "# Projeto Final - Introdução à Análise de Dados\n",
        "\n",
        "Professor: Eronides da Silva Neto (efsn@cesar.school)\n",
        "\n",
        "Alunos:\n",
        "\n",
        "Aluno(a) 01: (Tathiana de Souza Martins) -- tsm2@cesar.school\n",
        "\n",
        "Aluno(a) 02: (Valéria Cristina A. R. de Figueredo) -- vcarf@cesar.school\n",
        "\n",
        "Aluno(a) 03: (Ilton Albuquerque Martins de Lima) -- iaml@cesar.school\n",
        "\n",
        "### Objetivo:\n",
        "\n",
        "O objetivo do projeto final é realizar operação de leitura de um conjunto de dados tabulares (DataFrame) e realizar operações: limpeza e análise de dados."
      ]
    },
    {
      "cell_type": "markdown",
      "metadata": {
        "id": "sn14Nzwzop2R"
      },
      "source": [
        "### Descrição dos dados\n",
        "\n",
        "**Sistema de Informação sobre Mortalidade – SIM**\n",
        "\n",
        "O Sistema de Informação sobre Mortalidade (SIM), desenvolvido pelo Ministério da Saúde em 1975, é produto da unificação de mais de quarenta modelos de Declaração de Óbito utilizados ao longo dos anos. Sua finalidade é coletar e fornecer dados sobre a mortalidade no país.\n",
        "\n",
        "Com sua longa série temporal, o SIM é um patrimônio nacional, visto que possui informações fundamentais para que possamos conhecer os aspectos referentes à mortalidade no Brasil e às causas de adoecimento que levaram ao óbito. É, ainda, um dos principais instrumentos para apoiar a elaboração de políticas públicas de saúde e seguridade social mais efetivas visando à prevenção, à promoção e o cuidado em saúde.\n",
        "\n",
        "Os registros são oriundos do sistema SIM, contendo dados socioeconômicos, local de residência e ocorrência, óbitos fetais e não fetais, condições e causas do óbito, e informações de causas externas.\n",
        "\n",
        "\n",
        " Licença: Creative Commons Attribution\n",
        "\n",
        " Formatos: CSV; PDF;\n",
        "\n",
        " Atualização:\n",
        "\n",
        " Última alteração: 23/02/2024 09:01:59\n",
        "\n",
        "[Fonte dos dados:](https://dados.gov.br/dados/conjuntos-dados/sim-1979-2019) Site do Ministério da Saúde\n",
        "\n",
        "[Dicionário dos dados:](https://diaad.s3.sa-east-1.amazonaws.com/sim/Mortalidade_Geral+-+Estrutura.pdf) Arquivo com a descrição do arquivo CSV (Dataframe) utilizado neste projeto como nome, quantidade de colunas e o seu significado.\n"
      ]
    },
    {
      "cell_type": "markdown",
      "metadata": {
        "id": "idJ1c40M4Sv2"
      },
      "source": [
        "###1. Bibliotecas"
      ]
    },
    {
      "cell_type": "code",
      "execution_count": null,
      "metadata": {
        "id": "nawMFNbAJiBt"
      },
      "outputs": [],
      "source": [
        "# Importa bibliotecas\n",
        "import pandas as pd\n",
        "import numpy as np\n",
        "import matplotlib.pyplot as plt"
      ]
    },
    {
      "cell_type": "markdown",
      "metadata": {
        "id": "A6hRdau74hOy"
      },
      "source": [
        "###2. Dataframe"
      ]
    },
    {
      "cell_type": "code",
      "execution_count": null,
      "metadata": {
        "id": "AnhRoH1OBiMZ"
      },
      "outputs": [],
      "source": [
        "df_v1 = pd.read_csv('/content/drive/Shareddrives/projeto_final_iad/Mortalidade_Geral_2023.csv', encoding='utf-8', sep=';', quotechar='\"', dtype=str, low_memory=False)"
      ]
    },
    {
      "cell_type": "code",
      "execution_count": null,
      "metadata": {
        "id": "UJs0cadG8Gmh"
      },
      "outputs": [],
      "source": [
        "cod_ibge_municipios_df = pd.read_excel('/content/drive/Shareddrives/projeto_final_iad/cod_municipios_IBGE_excel.xlsx')"
      ]
    },
    {
      "cell_type": "code",
      "execution_count": null,
      "metadata": {
        "id": "cZcdfPGUJ2TT",
        "colab": {
          "base_uri": "https://localhost:8080/",
          "height": 193
        },
        "outputId": "bf930275-b04e-4804-88ca-4d7b8ef3d048"
      },
      "outputs": [
        {
          "output_type": "execute_result",
          "data": {
            "text/plain": [
              "  contador ORIGEM TIPOBITO   DTOBITO HORAOBITO NATURAL CODMUNNATU    DTNASC  \\\n",
              "0        1      1        2  14022023      0754     827     270300  20061951   \n",
              "1        2      1        2  14022023      0752     190        NaN  16021956   \n",
              "2        3      1        2  14022023      0101     835     352710  07071959   \n",
              "\n",
              "  IDADE SEXO  ... TPRESGINFO TPNIVELINV DTCADINF MORTEPARTO DTCONCASO  \\\n",
              "0   471    1  ...        NaN        NaN      NaN        NaN       NaN   \n",
              "1   466    1  ...        NaN        NaN      NaN        NaN       NaN   \n",
              "2   463    1  ...        NaN        NaN      NaN        NaN       NaN   \n",
              "\n",
              "  ALTCAUSA CAUSABAS_O TPPOS TP_ALTERA CB_ALT  \n",
              "0      NaN       I850     N       NaN    NaN  \n",
              "1      NaN       C349     N       NaN    NaN  \n",
              "2      NaN       I420     N       NaN    NaN  \n",
              "\n",
              "[3 rows x 86 columns]"
            ],
            "text/html": [
              "\n",
              "  <div id=\"df-09d47aff-a44b-467b-bf64-f580b1b6d479\" class=\"colab-df-container\">\n",
              "    <div>\n",
              "<style scoped>\n",
              "    .dataframe tbody tr th:only-of-type {\n",
              "        vertical-align: middle;\n",
              "    }\n",
              "\n",
              "    .dataframe tbody tr th {\n",
              "        vertical-align: top;\n",
              "    }\n",
              "\n",
              "    .dataframe thead th {\n",
              "        text-align: right;\n",
              "    }\n",
              "</style>\n",
              "<table border=\"1\" class=\"dataframe\">\n",
              "  <thead>\n",
              "    <tr style=\"text-align: right;\">\n",
              "      <th></th>\n",
              "      <th>contador</th>\n",
              "      <th>ORIGEM</th>\n",
              "      <th>TIPOBITO</th>\n",
              "      <th>DTOBITO</th>\n",
              "      <th>HORAOBITO</th>\n",
              "      <th>NATURAL</th>\n",
              "      <th>CODMUNNATU</th>\n",
              "      <th>DTNASC</th>\n",
              "      <th>IDADE</th>\n",
              "      <th>SEXO</th>\n",
              "      <th>...</th>\n",
              "      <th>TPRESGINFO</th>\n",
              "      <th>TPNIVELINV</th>\n",
              "      <th>DTCADINF</th>\n",
              "      <th>MORTEPARTO</th>\n",
              "      <th>DTCONCASO</th>\n",
              "      <th>ALTCAUSA</th>\n",
              "      <th>CAUSABAS_O</th>\n",
              "      <th>TPPOS</th>\n",
              "      <th>TP_ALTERA</th>\n",
              "      <th>CB_ALT</th>\n",
              "    </tr>\n",
              "  </thead>\n",
              "  <tbody>\n",
              "    <tr>\n",
              "      <th>0</th>\n",
              "      <td>1</td>\n",
              "      <td>1</td>\n",
              "      <td>2</td>\n",
              "      <td>14022023</td>\n",
              "      <td>0754</td>\n",
              "      <td>827</td>\n",
              "      <td>270300</td>\n",
              "      <td>20061951</td>\n",
              "      <td>471</td>\n",
              "      <td>1</td>\n",
              "      <td>...</td>\n",
              "      <td>NaN</td>\n",
              "      <td>NaN</td>\n",
              "      <td>NaN</td>\n",
              "      <td>NaN</td>\n",
              "      <td>NaN</td>\n",
              "      <td>NaN</td>\n",
              "      <td>I850</td>\n",
              "      <td>N</td>\n",
              "      <td>NaN</td>\n",
              "      <td>NaN</td>\n",
              "    </tr>\n",
              "    <tr>\n",
              "      <th>1</th>\n",
              "      <td>2</td>\n",
              "      <td>1</td>\n",
              "      <td>2</td>\n",
              "      <td>14022023</td>\n",
              "      <td>0752</td>\n",
              "      <td>190</td>\n",
              "      <td>NaN</td>\n",
              "      <td>16021956</td>\n",
              "      <td>466</td>\n",
              "      <td>1</td>\n",
              "      <td>...</td>\n",
              "      <td>NaN</td>\n",
              "      <td>NaN</td>\n",
              "      <td>NaN</td>\n",
              "      <td>NaN</td>\n",
              "      <td>NaN</td>\n",
              "      <td>NaN</td>\n",
              "      <td>C349</td>\n",
              "      <td>N</td>\n",
              "      <td>NaN</td>\n",
              "      <td>NaN</td>\n",
              "    </tr>\n",
              "    <tr>\n",
              "      <th>2</th>\n",
              "      <td>3</td>\n",
              "      <td>1</td>\n",
              "      <td>2</td>\n",
              "      <td>14022023</td>\n",
              "      <td>0101</td>\n",
              "      <td>835</td>\n",
              "      <td>352710</td>\n",
              "      <td>07071959</td>\n",
              "      <td>463</td>\n",
              "      <td>1</td>\n",
              "      <td>...</td>\n",
              "      <td>NaN</td>\n",
              "      <td>NaN</td>\n",
              "      <td>NaN</td>\n",
              "      <td>NaN</td>\n",
              "      <td>NaN</td>\n",
              "      <td>NaN</td>\n",
              "      <td>I420</td>\n",
              "      <td>N</td>\n",
              "      <td>NaN</td>\n",
              "      <td>NaN</td>\n",
              "    </tr>\n",
              "  </tbody>\n",
              "</table>\n",
              "<p>3 rows × 86 columns</p>\n",
              "</div>\n",
              "    <div class=\"colab-df-buttons\">\n",
              "\n",
              "  <div class=\"colab-df-container\">\n",
              "    <button class=\"colab-df-convert\" onclick=\"convertToInteractive('df-09d47aff-a44b-467b-bf64-f580b1b6d479')\"\n",
              "            title=\"Convert this dataframe to an interactive table.\"\n",
              "            style=\"display:none;\">\n",
              "\n",
              "  <svg xmlns=\"http://www.w3.org/2000/svg\" height=\"24px\" viewBox=\"0 -960 960 960\">\n",
              "    <path d=\"M120-120v-720h720v720H120Zm60-500h600v-160H180v160Zm220 220h160v-160H400v160Zm0 220h160v-160H400v160ZM180-400h160v-160H180v160Zm440 0h160v-160H620v160ZM180-180h160v-160H180v160Zm440 0h160v-160H620v160Z\"/>\n",
              "  </svg>\n",
              "    </button>\n",
              "\n",
              "  <style>\n",
              "    .colab-df-container {\n",
              "      display:flex;\n",
              "      gap: 12px;\n",
              "    }\n",
              "\n",
              "    .colab-df-convert {\n",
              "      background-color: #E8F0FE;\n",
              "      border: none;\n",
              "      border-radius: 50%;\n",
              "      cursor: pointer;\n",
              "      display: none;\n",
              "      fill: #1967D2;\n",
              "      height: 32px;\n",
              "      padding: 0 0 0 0;\n",
              "      width: 32px;\n",
              "    }\n",
              "\n",
              "    .colab-df-convert:hover {\n",
              "      background-color: #E2EBFA;\n",
              "      box-shadow: 0px 1px 2px rgba(60, 64, 67, 0.3), 0px 1px 3px 1px rgba(60, 64, 67, 0.15);\n",
              "      fill: #174EA6;\n",
              "    }\n",
              "\n",
              "    .colab-df-buttons div {\n",
              "      margin-bottom: 4px;\n",
              "    }\n",
              "\n",
              "    [theme=dark] .colab-df-convert {\n",
              "      background-color: #3B4455;\n",
              "      fill: #D2E3FC;\n",
              "    }\n",
              "\n",
              "    [theme=dark] .colab-df-convert:hover {\n",
              "      background-color: #434B5C;\n",
              "      box-shadow: 0px 1px 3px 1px rgba(0, 0, 0, 0.15);\n",
              "      filter: drop-shadow(0px 1px 2px rgba(0, 0, 0, 0.3));\n",
              "      fill: #FFFFFF;\n",
              "    }\n",
              "  </style>\n",
              "\n",
              "    <script>\n",
              "      const buttonEl =\n",
              "        document.querySelector('#df-09d47aff-a44b-467b-bf64-f580b1b6d479 button.colab-df-convert');\n",
              "      buttonEl.style.display =\n",
              "        google.colab.kernel.accessAllowed ? 'block' : 'none';\n",
              "\n",
              "      async function convertToInteractive(key) {\n",
              "        const element = document.querySelector('#df-09d47aff-a44b-467b-bf64-f580b1b6d479');\n",
              "        const dataTable =\n",
              "          await google.colab.kernel.invokeFunction('convertToInteractive',\n",
              "                                                    [key], {});\n",
              "        if (!dataTable) return;\n",
              "\n",
              "        const docLinkHtml = 'Like what you see? Visit the ' +\n",
              "          '<a target=\"_blank\" href=https://colab.research.google.com/notebooks/data_table.ipynb>data table notebook</a>'\n",
              "          + ' to learn more about interactive tables.';\n",
              "        element.innerHTML = '';\n",
              "        dataTable['output_type'] = 'display_data';\n",
              "        await google.colab.output.renderOutput(dataTable, element);\n",
              "        const docLink = document.createElement('div');\n",
              "        docLink.innerHTML = docLinkHtml;\n",
              "        element.appendChild(docLink);\n",
              "      }\n",
              "    </script>\n",
              "  </div>\n",
              "\n",
              "\n",
              "<div id=\"df-11a8f650-3924-4259-bd65-93f31aa0cd52\">\n",
              "  <button class=\"colab-df-quickchart\" onclick=\"quickchart('df-11a8f650-3924-4259-bd65-93f31aa0cd52')\"\n",
              "            title=\"Suggest charts\"\n",
              "            style=\"display:none;\">\n",
              "\n",
              "<svg xmlns=\"http://www.w3.org/2000/svg\" height=\"24px\"viewBox=\"0 0 24 24\"\n",
              "     width=\"24px\">\n",
              "    <g>\n",
              "        <path d=\"M19 3H5c-1.1 0-2 .9-2 2v14c0 1.1.9 2 2 2h14c1.1 0 2-.9 2-2V5c0-1.1-.9-2-2-2zM9 17H7v-7h2v7zm4 0h-2V7h2v10zm4 0h-2v-4h2v4z\"/>\n",
              "    </g>\n",
              "</svg>\n",
              "  </button>\n",
              "\n",
              "<style>\n",
              "  .colab-df-quickchart {\n",
              "      --bg-color: #E8F0FE;\n",
              "      --fill-color: #1967D2;\n",
              "      --hover-bg-color: #E2EBFA;\n",
              "      --hover-fill-color: #174EA6;\n",
              "      --disabled-fill-color: #AAA;\n",
              "      --disabled-bg-color: #DDD;\n",
              "  }\n",
              "\n",
              "  [theme=dark] .colab-df-quickchart {\n",
              "      --bg-color: #3B4455;\n",
              "      --fill-color: #D2E3FC;\n",
              "      --hover-bg-color: #434B5C;\n",
              "      --hover-fill-color: #FFFFFF;\n",
              "      --disabled-bg-color: #3B4455;\n",
              "      --disabled-fill-color: #666;\n",
              "  }\n",
              "\n",
              "  .colab-df-quickchart {\n",
              "    background-color: var(--bg-color);\n",
              "    border: none;\n",
              "    border-radius: 50%;\n",
              "    cursor: pointer;\n",
              "    display: none;\n",
              "    fill: var(--fill-color);\n",
              "    height: 32px;\n",
              "    padding: 0;\n",
              "    width: 32px;\n",
              "  }\n",
              "\n",
              "  .colab-df-quickchart:hover {\n",
              "    background-color: var(--hover-bg-color);\n",
              "    box-shadow: 0 1px 2px rgba(60, 64, 67, 0.3), 0 1px 3px 1px rgba(60, 64, 67, 0.15);\n",
              "    fill: var(--button-hover-fill-color);\n",
              "  }\n",
              "\n",
              "  .colab-df-quickchart-complete:disabled,\n",
              "  .colab-df-quickchart-complete:disabled:hover {\n",
              "    background-color: var(--disabled-bg-color);\n",
              "    fill: var(--disabled-fill-color);\n",
              "    box-shadow: none;\n",
              "  }\n",
              "\n",
              "  .colab-df-spinner {\n",
              "    border: 2px solid var(--fill-color);\n",
              "    border-color: transparent;\n",
              "    border-bottom-color: var(--fill-color);\n",
              "    animation:\n",
              "      spin 1s steps(1) infinite;\n",
              "  }\n",
              "\n",
              "  @keyframes spin {\n",
              "    0% {\n",
              "      border-color: transparent;\n",
              "      border-bottom-color: var(--fill-color);\n",
              "      border-left-color: var(--fill-color);\n",
              "    }\n",
              "    20% {\n",
              "      border-color: transparent;\n",
              "      border-left-color: var(--fill-color);\n",
              "      border-top-color: var(--fill-color);\n",
              "    }\n",
              "    30% {\n",
              "      border-color: transparent;\n",
              "      border-left-color: var(--fill-color);\n",
              "      border-top-color: var(--fill-color);\n",
              "      border-right-color: var(--fill-color);\n",
              "    }\n",
              "    40% {\n",
              "      border-color: transparent;\n",
              "      border-right-color: var(--fill-color);\n",
              "      border-top-color: var(--fill-color);\n",
              "    }\n",
              "    60% {\n",
              "      border-color: transparent;\n",
              "      border-right-color: var(--fill-color);\n",
              "    }\n",
              "    80% {\n",
              "      border-color: transparent;\n",
              "      border-right-color: var(--fill-color);\n",
              "      border-bottom-color: var(--fill-color);\n",
              "    }\n",
              "    90% {\n",
              "      border-color: transparent;\n",
              "      border-bottom-color: var(--fill-color);\n",
              "    }\n",
              "  }\n",
              "</style>\n",
              "\n",
              "  <script>\n",
              "    async function quickchart(key) {\n",
              "      const quickchartButtonEl =\n",
              "        document.querySelector('#' + key + ' button');\n",
              "      quickchartButtonEl.disabled = true;  // To prevent multiple clicks.\n",
              "      quickchartButtonEl.classList.add('colab-df-spinner');\n",
              "      try {\n",
              "        const charts = await google.colab.kernel.invokeFunction(\n",
              "            'suggestCharts', [key], {});\n",
              "      } catch (error) {\n",
              "        console.error('Error during call to suggestCharts:', error);\n",
              "      }\n",
              "      quickchartButtonEl.classList.remove('colab-df-spinner');\n",
              "      quickchartButtonEl.classList.add('colab-df-quickchart-complete');\n",
              "    }\n",
              "    (() => {\n",
              "      let quickchartButtonEl =\n",
              "        document.querySelector('#df-11a8f650-3924-4259-bd65-93f31aa0cd52 button');\n",
              "      quickchartButtonEl.style.display =\n",
              "        google.colab.kernel.accessAllowed ? 'block' : 'none';\n",
              "    })();\n",
              "  </script>\n",
              "</div>\n",
              "    </div>\n",
              "  </div>\n"
            ],
            "application/vnd.google.colaboratory.intrinsic+json": {
              "type": "dataframe",
              "variable_name": "df_v1"
            }
          },
          "metadata": {},
          "execution_count": 110
        }
      ],
      "source": [
        "df_v1.head(3)"
      ]
    },
    {
      "cell_type": "code",
      "execution_count": null,
      "metadata": {
        "id": "lpnjZm3KCsR_",
        "colab": {
          "base_uri": "https://localhost:8080/",
          "height": 143
        },
        "outputId": "426a2706-3a7b-4cf4-d7a9-39403da759d4"
      },
      "outputs": [
        {
          "output_type": "execute_result",
          "data": {
            "text/plain": [
              "   CÓDIGO IBGE\\nMUNICÍPIOS    UF     MUNICÍPIO\n",
              "0                   120001  ACRE    ACRELÂNDIA\n",
              "1                   120005  ACRE  ASSIS BRASIL\n",
              "2                   120010  ACRE     BRASILÉIA"
            ],
            "text/html": [
              "\n",
              "  <div id=\"df-12336d59-c215-4432-b035-ba3ec5e026a8\" class=\"colab-df-container\">\n",
              "    <div>\n",
              "<style scoped>\n",
              "    .dataframe tbody tr th:only-of-type {\n",
              "        vertical-align: middle;\n",
              "    }\n",
              "\n",
              "    .dataframe tbody tr th {\n",
              "        vertical-align: top;\n",
              "    }\n",
              "\n",
              "    .dataframe thead th {\n",
              "        text-align: right;\n",
              "    }\n",
              "</style>\n",
              "<table border=\"1\" class=\"dataframe\">\n",
              "  <thead>\n",
              "    <tr style=\"text-align: right;\">\n",
              "      <th></th>\n",
              "      <th>CÓDIGO IBGE\\nMUNICÍPIOS</th>\n",
              "      <th>UF</th>\n",
              "      <th>MUNICÍPIO</th>\n",
              "    </tr>\n",
              "  </thead>\n",
              "  <tbody>\n",
              "    <tr>\n",
              "      <th>0</th>\n",
              "      <td>120001</td>\n",
              "      <td>ACRE</td>\n",
              "      <td>ACRELÂNDIA</td>\n",
              "    </tr>\n",
              "    <tr>\n",
              "      <th>1</th>\n",
              "      <td>120005</td>\n",
              "      <td>ACRE</td>\n",
              "      <td>ASSIS BRASIL</td>\n",
              "    </tr>\n",
              "    <tr>\n",
              "      <th>2</th>\n",
              "      <td>120010</td>\n",
              "      <td>ACRE</td>\n",
              "      <td>BRASILÉIA</td>\n",
              "    </tr>\n",
              "  </tbody>\n",
              "</table>\n",
              "</div>\n",
              "    <div class=\"colab-df-buttons\">\n",
              "\n",
              "  <div class=\"colab-df-container\">\n",
              "    <button class=\"colab-df-convert\" onclick=\"convertToInteractive('df-12336d59-c215-4432-b035-ba3ec5e026a8')\"\n",
              "            title=\"Convert this dataframe to an interactive table.\"\n",
              "            style=\"display:none;\">\n",
              "\n",
              "  <svg xmlns=\"http://www.w3.org/2000/svg\" height=\"24px\" viewBox=\"0 -960 960 960\">\n",
              "    <path d=\"M120-120v-720h720v720H120Zm60-500h600v-160H180v160Zm220 220h160v-160H400v160Zm0 220h160v-160H400v160ZM180-400h160v-160H180v160Zm440 0h160v-160H620v160ZM180-180h160v-160H180v160Zm440 0h160v-160H620v160Z\"/>\n",
              "  </svg>\n",
              "    </button>\n",
              "\n",
              "  <style>\n",
              "    .colab-df-container {\n",
              "      display:flex;\n",
              "      gap: 12px;\n",
              "    }\n",
              "\n",
              "    .colab-df-convert {\n",
              "      background-color: #E8F0FE;\n",
              "      border: none;\n",
              "      border-radius: 50%;\n",
              "      cursor: pointer;\n",
              "      display: none;\n",
              "      fill: #1967D2;\n",
              "      height: 32px;\n",
              "      padding: 0 0 0 0;\n",
              "      width: 32px;\n",
              "    }\n",
              "\n",
              "    .colab-df-convert:hover {\n",
              "      background-color: #E2EBFA;\n",
              "      box-shadow: 0px 1px 2px rgba(60, 64, 67, 0.3), 0px 1px 3px 1px rgba(60, 64, 67, 0.15);\n",
              "      fill: #174EA6;\n",
              "    }\n",
              "\n",
              "    .colab-df-buttons div {\n",
              "      margin-bottom: 4px;\n",
              "    }\n",
              "\n",
              "    [theme=dark] .colab-df-convert {\n",
              "      background-color: #3B4455;\n",
              "      fill: #D2E3FC;\n",
              "    }\n",
              "\n",
              "    [theme=dark] .colab-df-convert:hover {\n",
              "      background-color: #434B5C;\n",
              "      box-shadow: 0px 1px 3px 1px rgba(0, 0, 0, 0.15);\n",
              "      filter: drop-shadow(0px 1px 2px rgba(0, 0, 0, 0.3));\n",
              "      fill: #FFFFFF;\n",
              "    }\n",
              "  </style>\n",
              "\n",
              "    <script>\n",
              "      const buttonEl =\n",
              "        document.querySelector('#df-12336d59-c215-4432-b035-ba3ec5e026a8 button.colab-df-convert');\n",
              "      buttonEl.style.display =\n",
              "        google.colab.kernel.accessAllowed ? 'block' : 'none';\n",
              "\n",
              "      async function convertToInteractive(key) {\n",
              "        const element = document.querySelector('#df-12336d59-c215-4432-b035-ba3ec5e026a8');\n",
              "        const dataTable =\n",
              "          await google.colab.kernel.invokeFunction('convertToInteractive',\n",
              "                                                    [key], {});\n",
              "        if (!dataTable) return;\n",
              "\n",
              "        const docLinkHtml = 'Like what you see? Visit the ' +\n",
              "          '<a target=\"_blank\" href=https://colab.research.google.com/notebooks/data_table.ipynb>data table notebook</a>'\n",
              "          + ' to learn more about interactive tables.';\n",
              "        element.innerHTML = '';\n",
              "        dataTable['output_type'] = 'display_data';\n",
              "        await google.colab.output.renderOutput(dataTable, element);\n",
              "        const docLink = document.createElement('div');\n",
              "        docLink.innerHTML = docLinkHtml;\n",
              "        element.appendChild(docLink);\n",
              "      }\n",
              "    </script>\n",
              "  </div>\n",
              "\n",
              "\n",
              "<div id=\"df-2b4596e1-2f4c-42a5-87ec-8f6cbf440f8b\">\n",
              "  <button class=\"colab-df-quickchart\" onclick=\"quickchart('df-2b4596e1-2f4c-42a5-87ec-8f6cbf440f8b')\"\n",
              "            title=\"Suggest charts\"\n",
              "            style=\"display:none;\">\n",
              "\n",
              "<svg xmlns=\"http://www.w3.org/2000/svg\" height=\"24px\"viewBox=\"0 0 24 24\"\n",
              "     width=\"24px\">\n",
              "    <g>\n",
              "        <path d=\"M19 3H5c-1.1 0-2 .9-2 2v14c0 1.1.9 2 2 2h14c1.1 0 2-.9 2-2V5c0-1.1-.9-2-2-2zM9 17H7v-7h2v7zm4 0h-2V7h2v10zm4 0h-2v-4h2v4z\"/>\n",
              "    </g>\n",
              "</svg>\n",
              "  </button>\n",
              "\n",
              "<style>\n",
              "  .colab-df-quickchart {\n",
              "      --bg-color: #E8F0FE;\n",
              "      --fill-color: #1967D2;\n",
              "      --hover-bg-color: #E2EBFA;\n",
              "      --hover-fill-color: #174EA6;\n",
              "      --disabled-fill-color: #AAA;\n",
              "      --disabled-bg-color: #DDD;\n",
              "  }\n",
              "\n",
              "  [theme=dark] .colab-df-quickchart {\n",
              "      --bg-color: #3B4455;\n",
              "      --fill-color: #D2E3FC;\n",
              "      --hover-bg-color: #434B5C;\n",
              "      --hover-fill-color: #FFFFFF;\n",
              "      --disabled-bg-color: #3B4455;\n",
              "      --disabled-fill-color: #666;\n",
              "  }\n",
              "\n",
              "  .colab-df-quickchart {\n",
              "    background-color: var(--bg-color);\n",
              "    border: none;\n",
              "    border-radius: 50%;\n",
              "    cursor: pointer;\n",
              "    display: none;\n",
              "    fill: var(--fill-color);\n",
              "    height: 32px;\n",
              "    padding: 0;\n",
              "    width: 32px;\n",
              "  }\n",
              "\n",
              "  .colab-df-quickchart:hover {\n",
              "    background-color: var(--hover-bg-color);\n",
              "    box-shadow: 0 1px 2px rgba(60, 64, 67, 0.3), 0 1px 3px 1px rgba(60, 64, 67, 0.15);\n",
              "    fill: var(--button-hover-fill-color);\n",
              "  }\n",
              "\n",
              "  .colab-df-quickchart-complete:disabled,\n",
              "  .colab-df-quickchart-complete:disabled:hover {\n",
              "    background-color: var(--disabled-bg-color);\n",
              "    fill: var(--disabled-fill-color);\n",
              "    box-shadow: none;\n",
              "  }\n",
              "\n",
              "  .colab-df-spinner {\n",
              "    border: 2px solid var(--fill-color);\n",
              "    border-color: transparent;\n",
              "    border-bottom-color: var(--fill-color);\n",
              "    animation:\n",
              "      spin 1s steps(1) infinite;\n",
              "  }\n",
              "\n",
              "  @keyframes spin {\n",
              "    0% {\n",
              "      border-color: transparent;\n",
              "      border-bottom-color: var(--fill-color);\n",
              "      border-left-color: var(--fill-color);\n",
              "    }\n",
              "    20% {\n",
              "      border-color: transparent;\n",
              "      border-left-color: var(--fill-color);\n",
              "      border-top-color: var(--fill-color);\n",
              "    }\n",
              "    30% {\n",
              "      border-color: transparent;\n",
              "      border-left-color: var(--fill-color);\n",
              "      border-top-color: var(--fill-color);\n",
              "      border-right-color: var(--fill-color);\n",
              "    }\n",
              "    40% {\n",
              "      border-color: transparent;\n",
              "      border-right-color: var(--fill-color);\n",
              "      border-top-color: var(--fill-color);\n",
              "    }\n",
              "    60% {\n",
              "      border-color: transparent;\n",
              "      border-right-color: var(--fill-color);\n",
              "    }\n",
              "    80% {\n",
              "      border-color: transparent;\n",
              "      border-right-color: var(--fill-color);\n",
              "      border-bottom-color: var(--fill-color);\n",
              "    }\n",
              "    90% {\n",
              "      border-color: transparent;\n",
              "      border-bottom-color: var(--fill-color);\n",
              "    }\n",
              "  }\n",
              "</style>\n",
              "\n",
              "  <script>\n",
              "    async function quickchart(key) {\n",
              "      const quickchartButtonEl =\n",
              "        document.querySelector('#' + key + ' button');\n",
              "      quickchartButtonEl.disabled = true;  // To prevent multiple clicks.\n",
              "      quickchartButtonEl.classList.add('colab-df-spinner');\n",
              "      try {\n",
              "        const charts = await google.colab.kernel.invokeFunction(\n",
              "            'suggestCharts', [key], {});\n",
              "      } catch (error) {\n",
              "        console.error('Error during call to suggestCharts:', error);\n",
              "      }\n",
              "      quickchartButtonEl.classList.remove('colab-df-spinner');\n",
              "      quickchartButtonEl.classList.add('colab-df-quickchart-complete');\n",
              "    }\n",
              "    (() => {\n",
              "      let quickchartButtonEl =\n",
              "        document.querySelector('#df-2b4596e1-2f4c-42a5-87ec-8f6cbf440f8b button');\n",
              "      quickchartButtonEl.style.display =\n",
              "        google.colab.kernel.accessAllowed ? 'block' : 'none';\n",
              "    })();\n",
              "  </script>\n",
              "</div>\n",
              "    </div>\n",
              "  </div>\n"
            ],
            "application/vnd.google.colaboratory.intrinsic+json": {
              "type": "dataframe",
              "variable_name": "cod_ibge_municipios_df",
              "summary": "{\n  \"name\": \"cod_ibge_municipios_df\",\n  \"rows\": 5565,\n  \"fields\": [\n    {\n      \"column\": \"C\\u00d3DIGO IBGE\\nMUNIC\\u00cdPIOS\",\n      \"properties\": {\n        \"dtype\": \"number\",\n        \"std\": 98452,\n        \"min\": 110001,\n        \"max\": 530010,\n        \"num_unique_values\": 5565,\n        \"samples\": [\n          230070,\n          350330,\n          411915\n        ],\n        \"semantic_type\": \"\",\n        \"description\": \"\"\n      }\n    },\n    {\n      \"column\": \"UF\",\n      \"properties\": {\n        \"dtype\": \"category\",\n        \"num_unique_values\": 27,\n        \"samples\": [\n          \"GOI\\u00c1S\",\n          \"PAR\\u00c1\",\n          \"MARANH\\u00c3O\"\n        ],\n        \"semantic_type\": \"\",\n        \"description\": \"\"\n      }\n    },\n    {\n      \"column\": \"MUNIC\\u00cdPIO\",\n      \"properties\": {\n        \"dtype\": \"string\",\n        \"num_unique_values\": 5293,\n        \"samples\": [\n          \"JUSSARI\",\n          \"TAQUARAL DE GOI\\u00c1S\",\n          \"ARACRUZ\"\n        ],\n        \"semantic_type\": \"\",\n        \"description\": \"\"\n      }\n    }\n  ]\n}"
            }
          },
          "metadata": {},
          "execution_count": 111
        }
      ],
      "source": [
        "cod_ibge_municipios_df.head(3)"
      ]
    },
    {
      "cell_type": "markdown",
      "metadata": {
        "id": "WWfEmA8qzmia"
      },
      "source": [
        "###3. Método info()\n",
        "\n",
        "O método **info()** fornece informações sobre o DataFrame, incluindo o número total de entradas, o número de colunas e os tipos de dados de cada coluna.\n",
        "\n",
        "Vamos aplicá-lo ao DataFrame:"
      ]
    },
    {
      "cell_type": "code",
      "execution_count": null,
      "metadata": {
        "id": "9fl0ka4uJ42A",
        "colab": {
          "base_uri": "https://localhost:8080/"
        },
        "outputId": "4f7353a4-e436-496e-9fa9-22bea51f3b4f"
      },
      "outputs": [
        {
          "output_type": "stream",
          "name": "stdout",
          "text": [
            "<class 'pandas.core.frame.DataFrame'>\n",
            "RangeIndex: 1400590 entries, 0 to 1400589\n",
            "Data columns (total 86 columns):\n",
            " #   Column      Non-Null Count    Dtype \n",
            "---  ------      --------------    ----- \n",
            " 0   contador    1400590 non-null  object\n",
            " 1   ORIGEM      1400590 non-null  object\n",
            " 2   TIPOBITO    1400590 non-null  object\n",
            " 3   DTOBITO     1400590 non-null  object\n",
            " 4   HORAOBITO   1354699 non-null  object\n",
            " 5   NATURAL     1337482 non-null  object\n",
            " 6   CODMUNNATU  1320098 non-null  object\n",
            " 7   DTNASC      1372894 non-null  object\n",
            " 8   IDADE       1375342 non-null  object\n",
            " 9   SEXO        1400590 non-null  object\n",
            " 10  RACACOR     1353574 non-null  object\n",
            " 11  ESTCIV      1313110 non-null  object\n",
            " 12  ESC         1291441 non-null  object\n",
            " 13  ESC2010     1283376 non-null  object\n",
            " 14  SERIESCFAL  383049 non-null   object\n",
            " 15  OCUP        1184251 non-null  object\n",
            " 16  CODMUNRES   1400590 non-null  object\n",
            " 17  LOCOCOR     1400590 non-null  object\n",
            " 18  CODESTAB    1027290 non-null  object\n",
            " 19  CODMUNOCOR  1400590 non-null  object\n",
            " 20  IDADEMAE    51196 non-null    object\n",
            " 21  ESCMAE      50573 non-null    object\n",
            " 22  ESCMAE2010  50286 non-null    object\n",
            " 23  SERIESCMAE  20651 non-null    object\n",
            " 24  OCUPMAE     44537 non-null    object\n",
            " 25  QTDFILVIVO  51501 non-null    object\n",
            " 26  QTDFILMORT  50151 non-null    object\n",
            " 27  GRAVIDEZ    52956 non-null    object\n",
            " 28  SEMAGESTAC  51112 non-null    object\n",
            " 29  GESTACAO    51112 non-null    object\n",
            " 30  PARTO       52741 non-null    object\n",
            " 31  OBITOPARTO  52424 non-null    object\n",
            " 32  PESO        50849 non-null    object\n",
            " 33  TPMORTEOCO  77987 non-null    object\n",
            " 34  OBITOGRAV   78438 non-null    object\n",
            " 35  OBITOPUERP  78421 non-null    object\n",
            " 36  ASSISTMED   965536 non-null   object\n",
            " 37  EXAME       3766 non-null     object\n",
            " 38  CIRURGIA    3616 non-null     object\n",
            " 39  NECROPSIA   993112 non-null   object\n",
            " 40  LINHAA      1359063 non-null  object\n",
            " 41  LINHAB      1054519 non-null  object\n",
            " 42  LINHAC      643574 non-null   object\n",
            " 43  LINHAD      269552 non-null   object\n",
            " 44  LINHAII     583447 non-null   object\n",
            " 45  CAUSABAS    1400590 non-null  object\n",
            " 46  CB_PRE      0 non-null        object\n",
            " 47  COMUNSVOIM  242779 non-null   object\n",
            " 48  DTATESTADO  1395198 non-null  object\n",
            " 49  CIRCOBITO   139511 non-null   object\n",
            " 50  ACIDTRAB    45580 non-null    object\n",
            " 51  FONTE       112033 non-null   object\n",
            " 52  NUMEROLOTE  1400488 non-null  object\n",
            " 53  DTINVESTIG  172749 non-null   object\n",
            " 54  DTCADASTRO  1400080 non-null  object\n",
            " 55  ATESTANTE   1301566 non-null  object\n",
            " 56  STCODIFICA  1400093 non-null  object\n",
            " 57  CODIFICADO  1400588 non-null  object\n",
            " 58  VERSAOSIST  1400588 non-null  object\n",
            " 59  VERSAOSCB   1349974 non-null  object\n",
            " 60  FONTEINV    174552 non-null   object\n",
            " 61  DTRECEBIM   1400490 non-null  object\n",
            " 62  ATESTADO    1400590 non-null  object\n",
            " 63  DTRECORIGA  1400590 non-null  object\n",
            " 64  OPOR_DO     1400590 non-null  object\n",
            " 65  CAUSAMAT    30 non-null       object\n",
            " 66  ESCMAEAGR1  50286 non-null    object\n",
            " 67  ESCFALAGR1  1283376 non-null  object\n",
            " 68  STDOEPIDEM  1400588 non-null  object\n",
            " 69  STDONOVA    1400590 non-null  object\n",
            " 70  DIFDATA     1400590 non-null  object\n",
            " 71  NUDIASOBCO  47127 non-null    object\n",
            " 72  DTCADINV    47452 non-null    object\n",
            " 73  TPOBITOCOR  47452 non-null    object\n",
            " 74  DTCONINV    47070 non-null    object\n",
            " 75  FONTES      39146 non-null    object\n",
            " 76  TPRESGINFO  1939 non-null     object\n",
            " 77  TPNIVELINV  47509 non-null    object\n",
            " 78  DTCADINF    39146 non-null    object\n",
            " 79  MORTEPARTO  39146 non-null    object\n",
            " 80  DTCONCASO   35858 non-null    object\n",
            " 81  ALTCAUSA    38095 non-null    object\n",
            " 82  CAUSABAS_O  1399295 non-null  object\n",
            " 83  TPPOS       880731 non-null   object\n",
            " 84  TP_ALTERA   7515 non-null     object\n",
            " 85  CB_ALT      6519 non-null     object\n",
            "dtypes: object(86)\n",
            "memory usage: 919.0+ MB\n"
          ]
        }
      ],
      "source": [
        "df_v1.info()"
      ]
    },
    {
      "cell_type": "markdown",
      "source": [
        "O arquivo possui 85 colunas, cujas definições constam no [Dicionário dos dados](https://https://diaad.s3.sa-east-1.amazonaws.com/sim/Mortalidade_Geral+-+Estrutura.pdf). Todas as colunas não serão descritas, apenas as colunas utilizadas na análise dos dados, após a limpeza, em razão de sua quantidade significativa. Porém, todas as colunas foram devidamente lidas e excluídas com base na quantidade de dados nulos ou informações pouco relevantes para responder nossos questionamentos analíticos."
      ],
      "metadata": {
        "id": "WtilrvcZqQDs"
      }
    },
    {
      "cell_type": "markdown",
      "metadata": {
        "id": "66EOgOnMzLXF"
      },
      "source": [
        "###4. Método describe()\n",
        "\n",
        "O método **describe()** fornece estatísticas descritivas resumidas para colunas numéricas do DataFrame, como contagem, média, desvio padrão, quartis, mínimo e máximo. Vamos aplicá-lo ao DataFrame:"
      ]
    },
    {
      "cell_type": "code",
      "execution_count": null,
      "metadata": {
        "id": "ssUKwTErMQgo",
        "colab": {
          "base_uri": "https://localhost:8080/",
          "height": 224
        },
        "outputId": "4a892732-d0de-48ff-9d66-24ea41d8bfe7"
      },
      "outputs": [
        {
          "output_type": "execute_result",
          "data": {
            "text/plain": [
              "       contador   ORIGEM TIPOBITO   DTOBITO HORAOBITO  NATURAL CODMUNNATU  \\\n",
              "count   1400590  1400590  1400590   1400590   1354699  1337482    1320098   \n",
              "unique  1400590        1        2       365      1446      161       5551   \n",
              "top           1        1        2  18112023      0600      835     355030   \n",
              "freq          1  1400590  1375342      4625     11698   234389      50348   \n",
              "\n",
              "          DTNASC    IDADE     SEXO  ... TPRESGINFO TPNIVELINV  DTCADINF  \\\n",
              "count    1372894  1375342  1400590  ...       1939      47509     39146   \n",
              "unique     39099      250        3  ...          3          3       334   \n",
              "top     20011940      483        1  ...          1          M  10082023   \n",
              "freq         209    32419   765529  ...       1338      44990       335   \n",
              "\n",
              "       MORTEPARTO DTCONCASO ALTCAUSA CAUSABAS_O   TPPOS TP_ALTERA CB_ALT  \n",
              "count       39146     35858    38095    1399295  880731      7515   6519  \n",
              "unique          4       374        2       5862       2        15    807  \n",
              "top             3  10082023        2       I219       N        08   I469  \n",
              "freq        21559       302    29969      82915  705023      1722   1466  \n",
              "\n",
              "[4 rows x 86 columns]"
            ],
            "text/html": [
              "\n",
              "  <div id=\"df-072687e6-6749-420a-9914-239183b2984e\" class=\"colab-df-container\">\n",
              "    <div>\n",
              "<style scoped>\n",
              "    .dataframe tbody tr th:only-of-type {\n",
              "        vertical-align: middle;\n",
              "    }\n",
              "\n",
              "    .dataframe tbody tr th {\n",
              "        vertical-align: top;\n",
              "    }\n",
              "\n",
              "    .dataframe thead th {\n",
              "        text-align: right;\n",
              "    }\n",
              "</style>\n",
              "<table border=\"1\" class=\"dataframe\">\n",
              "  <thead>\n",
              "    <tr style=\"text-align: right;\">\n",
              "      <th></th>\n",
              "      <th>contador</th>\n",
              "      <th>ORIGEM</th>\n",
              "      <th>TIPOBITO</th>\n",
              "      <th>DTOBITO</th>\n",
              "      <th>HORAOBITO</th>\n",
              "      <th>NATURAL</th>\n",
              "      <th>CODMUNNATU</th>\n",
              "      <th>DTNASC</th>\n",
              "      <th>IDADE</th>\n",
              "      <th>SEXO</th>\n",
              "      <th>...</th>\n",
              "      <th>TPRESGINFO</th>\n",
              "      <th>TPNIVELINV</th>\n",
              "      <th>DTCADINF</th>\n",
              "      <th>MORTEPARTO</th>\n",
              "      <th>DTCONCASO</th>\n",
              "      <th>ALTCAUSA</th>\n",
              "      <th>CAUSABAS_O</th>\n",
              "      <th>TPPOS</th>\n",
              "      <th>TP_ALTERA</th>\n",
              "      <th>CB_ALT</th>\n",
              "    </tr>\n",
              "  </thead>\n",
              "  <tbody>\n",
              "    <tr>\n",
              "      <th>count</th>\n",
              "      <td>1400590</td>\n",
              "      <td>1400590</td>\n",
              "      <td>1400590</td>\n",
              "      <td>1400590</td>\n",
              "      <td>1354699</td>\n",
              "      <td>1337482</td>\n",
              "      <td>1320098</td>\n",
              "      <td>1372894</td>\n",
              "      <td>1375342</td>\n",
              "      <td>1400590</td>\n",
              "      <td>...</td>\n",
              "      <td>1939</td>\n",
              "      <td>47509</td>\n",
              "      <td>39146</td>\n",
              "      <td>39146</td>\n",
              "      <td>35858</td>\n",
              "      <td>38095</td>\n",
              "      <td>1399295</td>\n",
              "      <td>880731</td>\n",
              "      <td>7515</td>\n",
              "      <td>6519</td>\n",
              "    </tr>\n",
              "    <tr>\n",
              "      <th>unique</th>\n",
              "      <td>1400590</td>\n",
              "      <td>1</td>\n",
              "      <td>2</td>\n",
              "      <td>365</td>\n",
              "      <td>1446</td>\n",
              "      <td>161</td>\n",
              "      <td>5551</td>\n",
              "      <td>39099</td>\n",
              "      <td>250</td>\n",
              "      <td>3</td>\n",
              "      <td>...</td>\n",
              "      <td>3</td>\n",
              "      <td>3</td>\n",
              "      <td>334</td>\n",
              "      <td>4</td>\n",
              "      <td>374</td>\n",
              "      <td>2</td>\n",
              "      <td>5862</td>\n",
              "      <td>2</td>\n",
              "      <td>15</td>\n",
              "      <td>807</td>\n",
              "    </tr>\n",
              "    <tr>\n",
              "      <th>top</th>\n",
              "      <td>1</td>\n",
              "      <td>1</td>\n",
              "      <td>2</td>\n",
              "      <td>18112023</td>\n",
              "      <td>0600</td>\n",
              "      <td>835</td>\n",
              "      <td>355030</td>\n",
              "      <td>20011940</td>\n",
              "      <td>483</td>\n",
              "      <td>1</td>\n",
              "      <td>...</td>\n",
              "      <td>1</td>\n",
              "      <td>M</td>\n",
              "      <td>10082023</td>\n",
              "      <td>3</td>\n",
              "      <td>10082023</td>\n",
              "      <td>2</td>\n",
              "      <td>I219</td>\n",
              "      <td>N</td>\n",
              "      <td>08</td>\n",
              "      <td>I469</td>\n",
              "    </tr>\n",
              "    <tr>\n",
              "      <th>freq</th>\n",
              "      <td>1</td>\n",
              "      <td>1400590</td>\n",
              "      <td>1375342</td>\n",
              "      <td>4625</td>\n",
              "      <td>11698</td>\n",
              "      <td>234389</td>\n",
              "      <td>50348</td>\n",
              "      <td>209</td>\n",
              "      <td>32419</td>\n",
              "      <td>765529</td>\n",
              "      <td>...</td>\n",
              "      <td>1338</td>\n",
              "      <td>44990</td>\n",
              "      <td>335</td>\n",
              "      <td>21559</td>\n",
              "      <td>302</td>\n",
              "      <td>29969</td>\n",
              "      <td>82915</td>\n",
              "      <td>705023</td>\n",
              "      <td>1722</td>\n",
              "      <td>1466</td>\n",
              "    </tr>\n",
              "  </tbody>\n",
              "</table>\n",
              "<p>4 rows × 86 columns</p>\n",
              "</div>\n",
              "    <div class=\"colab-df-buttons\">\n",
              "\n",
              "  <div class=\"colab-df-container\">\n",
              "    <button class=\"colab-df-convert\" onclick=\"convertToInteractive('df-072687e6-6749-420a-9914-239183b2984e')\"\n",
              "            title=\"Convert this dataframe to an interactive table.\"\n",
              "            style=\"display:none;\">\n",
              "\n",
              "  <svg xmlns=\"http://www.w3.org/2000/svg\" height=\"24px\" viewBox=\"0 -960 960 960\">\n",
              "    <path d=\"M120-120v-720h720v720H120Zm60-500h600v-160H180v160Zm220 220h160v-160H400v160Zm0 220h160v-160H400v160ZM180-400h160v-160H180v160Zm440 0h160v-160H620v160ZM180-180h160v-160H180v160Zm440 0h160v-160H620v160Z\"/>\n",
              "  </svg>\n",
              "    </button>\n",
              "\n",
              "  <style>\n",
              "    .colab-df-container {\n",
              "      display:flex;\n",
              "      gap: 12px;\n",
              "    }\n",
              "\n",
              "    .colab-df-convert {\n",
              "      background-color: #E8F0FE;\n",
              "      border: none;\n",
              "      border-radius: 50%;\n",
              "      cursor: pointer;\n",
              "      display: none;\n",
              "      fill: #1967D2;\n",
              "      height: 32px;\n",
              "      padding: 0 0 0 0;\n",
              "      width: 32px;\n",
              "    }\n",
              "\n",
              "    .colab-df-convert:hover {\n",
              "      background-color: #E2EBFA;\n",
              "      box-shadow: 0px 1px 2px rgba(60, 64, 67, 0.3), 0px 1px 3px 1px rgba(60, 64, 67, 0.15);\n",
              "      fill: #174EA6;\n",
              "    }\n",
              "\n",
              "    .colab-df-buttons div {\n",
              "      margin-bottom: 4px;\n",
              "    }\n",
              "\n",
              "    [theme=dark] .colab-df-convert {\n",
              "      background-color: #3B4455;\n",
              "      fill: #D2E3FC;\n",
              "    }\n",
              "\n",
              "    [theme=dark] .colab-df-convert:hover {\n",
              "      background-color: #434B5C;\n",
              "      box-shadow: 0px 1px 3px 1px rgba(0, 0, 0, 0.15);\n",
              "      filter: drop-shadow(0px 1px 2px rgba(0, 0, 0, 0.3));\n",
              "      fill: #FFFFFF;\n",
              "    }\n",
              "  </style>\n",
              "\n",
              "    <script>\n",
              "      const buttonEl =\n",
              "        document.querySelector('#df-072687e6-6749-420a-9914-239183b2984e button.colab-df-convert');\n",
              "      buttonEl.style.display =\n",
              "        google.colab.kernel.accessAllowed ? 'block' : 'none';\n",
              "\n",
              "      async function convertToInteractive(key) {\n",
              "        const element = document.querySelector('#df-072687e6-6749-420a-9914-239183b2984e');\n",
              "        const dataTable =\n",
              "          await google.colab.kernel.invokeFunction('convertToInteractive',\n",
              "                                                    [key], {});\n",
              "        if (!dataTable) return;\n",
              "\n",
              "        const docLinkHtml = 'Like what you see? Visit the ' +\n",
              "          '<a target=\"_blank\" href=https://colab.research.google.com/notebooks/data_table.ipynb>data table notebook</a>'\n",
              "          + ' to learn more about interactive tables.';\n",
              "        element.innerHTML = '';\n",
              "        dataTable['output_type'] = 'display_data';\n",
              "        await google.colab.output.renderOutput(dataTable, element);\n",
              "        const docLink = document.createElement('div');\n",
              "        docLink.innerHTML = docLinkHtml;\n",
              "        element.appendChild(docLink);\n",
              "      }\n",
              "    </script>\n",
              "  </div>\n",
              "\n",
              "\n",
              "<div id=\"df-a20cd7ae-56c4-4f5e-a5de-bba88a47ac5b\">\n",
              "  <button class=\"colab-df-quickchart\" onclick=\"quickchart('df-a20cd7ae-56c4-4f5e-a5de-bba88a47ac5b')\"\n",
              "            title=\"Suggest charts\"\n",
              "            style=\"display:none;\">\n",
              "\n",
              "<svg xmlns=\"http://www.w3.org/2000/svg\" height=\"24px\"viewBox=\"0 0 24 24\"\n",
              "     width=\"24px\">\n",
              "    <g>\n",
              "        <path d=\"M19 3H5c-1.1 0-2 .9-2 2v14c0 1.1.9 2 2 2h14c1.1 0 2-.9 2-2V5c0-1.1-.9-2-2-2zM9 17H7v-7h2v7zm4 0h-2V7h2v10zm4 0h-2v-4h2v4z\"/>\n",
              "    </g>\n",
              "</svg>\n",
              "  </button>\n",
              "\n",
              "<style>\n",
              "  .colab-df-quickchart {\n",
              "      --bg-color: #E8F0FE;\n",
              "      --fill-color: #1967D2;\n",
              "      --hover-bg-color: #E2EBFA;\n",
              "      --hover-fill-color: #174EA6;\n",
              "      --disabled-fill-color: #AAA;\n",
              "      --disabled-bg-color: #DDD;\n",
              "  }\n",
              "\n",
              "  [theme=dark] .colab-df-quickchart {\n",
              "      --bg-color: #3B4455;\n",
              "      --fill-color: #D2E3FC;\n",
              "      --hover-bg-color: #434B5C;\n",
              "      --hover-fill-color: #FFFFFF;\n",
              "      --disabled-bg-color: #3B4455;\n",
              "      --disabled-fill-color: #666;\n",
              "  }\n",
              "\n",
              "  .colab-df-quickchart {\n",
              "    background-color: var(--bg-color);\n",
              "    border: none;\n",
              "    border-radius: 50%;\n",
              "    cursor: pointer;\n",
              "    display: none;\n",
              "    fill: var(--fill-color);\n",
              "    height: 32px;\n",
              "    padding: 0;\n",
              "    width: 32px;\n",
              "  }\n",
              "\n",
              "  .colab-df-quickchart:hover {\n",
              "    background-color: var(--hover-bg-color);\n",
              "    box-shadow: 0 1px 2px rgba(60, 64, 67, 0.3), 0 1px 3px 1px rgba(60, 64, 67, 0.15);\n",
              "    fill: var(--button-hover-fill-color);\n",
              "  }\n",
              "\n",
              "  .colab-df-quickchart-complete:disabled,\n",
              "  .colab-df-quickchart-complete:disabled:hover {\n",
              "    background-color: var(--disabled-bg-color);\n",
              "    fill: var(--disabled-fill-color);\n",
              "    box-shadow: none;\n",
              "  }\n",
              "\n",
              "  .colab-df-spinner {\n",
              "    border: 2px solid var(--fill-color);\n",
              "    border-color: transparent;\n",
              "    border-bottom-color: var(--fill-color);\n",
              "    animation:\n",
              "      spin 1s steps(1) infinite;\n",
              "  }\n",
              "\n",
              "  @keyframes spin {\n",
              "    0% {\n",
              "      border-color: transparent;\n",
              "      border-bottom-color: var(--fill-color);\n",
              "      border-left-color: var(--fill-color);\n",
              "    }\n",
              "    20% {\n",
              "      border-color: transparent;\n",
              "      border-left-color: var(--fill-color);\n",
              "      border-top-color: var(--fill-color);\n",
              "    }\n",
              "    30% {\n",
              "      border-color: transparent;\n",
              "      border-left-color: var(--fill-color);\n",
              "      border-top-color: var(--fill-color);\n",
              "      border-right-color: var(--fill-color);\n",
              "    }\n",
              "    40% {\n",
              "      border-color: transparent;\n",
              "      border-right-color: var(--fill-color);\n",
              "      border-top-color: var(--fill-color);\n",
              "    }\n",
              "    60% {\n",
              "      border-color: transparent;\n",
              "      border-right-color: var(--fill-color);\n",
              "    }\n",
              "    80% {\n",
              "      border-color: transparent;\n",
              "      border-right-color: var(--fill-color);\n",
              "      border-bottom-color: var(--fill-color);\n",
              "    }\n",
              "    90% {\n",
              "      border-color: transparent;\n",
              "      border-bottom-color: var(--fill-color);\n",
              "    }\n",
              "  }\n",
              "</style>\n",
              "\n",
              "  <script>\n",
              "    async function quickchart(key) {\n",
              "      const quickchartButtonEl =\n",
              "        document.querySelector('#' + key + ' button');\n",
              "      quickchartButtonEl.disabled = true;  // To prevent multiple clicks.\n",
              "      quickchartButtonEl.classList.add('colab-df-spinner');\n",
              "      try {\n",
              "        const charts = await google.colab.kernel.invokeFunction(\n",
              "            'suggestCharts', [key], {});\n",
              "      } catch (error) {\n",
              "        console.error('Error during call to suggestCharts:', error);\n",
              "      }\n",
              "      quickchartButtonEl.classList.remove('colab-df-spinner');\n",
              "      quickchartButtonEl.classList.add('colab-df-quickchart-complete');\n",
              "    }\n",
              "    (() => {\n",
              "      let quickchartButtonEl =\n",
              "        document.querySelector('#df-a20cd7ae-56c4-4f5e-a5de-bba88a47ac5b button');\n",
              "      quickchartButtonEl.style.display =\n",
              "        google.colab.kernel.accessAllowed ? 'block' : 'none';\n",
              "    })();\n",
              "  </script>\n",
              "</div>\n",
              "    </div>\n",
              "  </div>\n"
            ],
            "application/vnd.google.colaboratory.intrinsic+json": {
              "type": "dataframe"
            }
          },
          "metadata": {},
          "execution_count": 113
        }
      ],
      "source": [
        "df_v1.describe()"
      ]
    },
    {
      "cell_type": "markdown",
      "metadata": {
        "id": "KZ_Z-P3IQQ8j"
      },
      "source": [
        "###5. Modificando e criando colunas"
      ]
    },
    {
      "cell_type": "markdown",
      "metadata": {
        "id": "Lpmtq4JDQ18g"
      },
      "source": [
        "O dataframe possui colunas que possuem códigos de municípios ('CODMUNOCOR', 'CODMUNNATU', 'CODMUNRES'), achamos que ficaria mais legível e fácil de analisar e visualizar os dados se trocássemos os códigos dos municípios pelo nome deles e criássemos novas colunas com os estados correspondentes aos municípios.\n",
        "\n",
        "Isso facilitará bastante a análise por estados, se assim o desejarmos fazê-lo."
      ]
    },
    {
      "cell_type": "code",
      "execution_count": null,
      "metadata": {
        "id": "XkD08R0J2ay3"
      },
      "outputs": [],
      "source": [
        "# Renomeando as colunas de cod_ibge_municipios_df\n",
        "cod_ibge_municipios_df.rename(columns={'CÓDIGO IBGE\\nMUNICÍPIOS': 'CODMUNI', 'MUNICÍPIO' : 'MUNICIPIO'}, inplace=True)"
      ]
    },
    {
      "cell_type": "code",
      "execution_count": null,
      "metadata": {
        "id": "TCST07ok2siW"
      },
      "outputs": [],
      "source": [
        "# Transformando a coluna CODMUNI no índice\n",
        "cod_ibge_municipios_df.set_index('CODMUNI', inplace=True)"
      ]
    },
    {
      "cell_type": "code",
      "execution_count": null,
      "metadata": {
        "id": "z2bLsK_U21Xf",
        "colab": {
          "base_uri": "https://localhost:8080/",
          "height": 175
        },
        "outputId": "497b00eb-7a78-476c-865b-940a37044b20"
      },
      "outputs": [
        {
          "output_type": "execute_result",
          "data": {
            "text/plain": [
              "           UF     MUNICIPIO\n",
              "CODMUNI                    \n",
              "120001   ACRE    ACRELÂNDIA\n",
              "120005   ACRE  ASSIS BRASIL\n",
              "120010   ACRE     BRASILÉIA"
            ],
            "text/html": [
              "\n",
              "  <div id=\"df-a57b6922-1eff-4189-b56b-f943d8062dc8\" class=\"colab-df-container\">\n",
              "    <div>\n",
              "<style scoped>\n",
              "    .dataframe tbody tr th:only-of-type {\n",
              "        vertical-align: middle;\n",
              "    }\n",
              "\n",
              "    .dataframe tbody tr th {\n",
              "        vertical-align: top;\n",
              "    }\n",
              "\n",
              "    .dataframe thead th {\n",
              "        text-align: right;\n",
              "    }\n",
              "</style>\n",
              "<table border=\"1\" class=\"dataframe\">\n",
              "  <thead>\n",
              "    <tr style=\"text-align: right;\">\n",
              "      <th></th>\n",
              "      <th>UF</th>\n",
              "      <th>MUNICIPIO</th>\n",
              "    </tr>\n",
              "    <tr>\n",
              "      <th>CODMUNI</th>\n",
              "      <th></th>\n",
              "      <th></th>\n",
              "    </tr>\n",
              "  </thead>\n",
              "  <tbody>\n",
              "    <tr>\n",
              "      <th>120001</th>\n",
              "      <td>ACRE</td>\n",
              "      <td>ACRELÂNDIA</td>\n",
              "    </tr>\n",
              "    <tr>\n",
              "      <th>120005</th>\n",
              "      <td>ACRE</td>\n",
              "      <td>ASSIS BRASIL</td>\n",
              "    </tr>\n",
              "    <tr>\n",
              "      <th>120010</th>\n",
              "      <td>ACRE</td>\n",
              "      <td>BRASILÉIA</td>\n",
              "    </tr>\n",
              "  </tbody>\n",
              "</table>\n",
              "</div>\n",
              "    <div class=\"colab-df-buttons\">\n",
              "\n",
              "  <div class=\"colab-df-container\">\n",
              "    <button class=\"colab-df-convert\" onclick=\"convertToInteractive('df-a57b6922-1eff-4189-b56b-f943d8062dc8')\"\n",
              "            title=\"Convert this dataframe to an interactive table.\"\n",
              "            style=\"display:none;\">\n",
              "\n",
              "  <svg xmlns=\"http://www.w3.org/2000/svg\" height=\"24px\" viewBox=\"0 -960 960 960\">\n",
              "    <path d=\"M120-120v-720h720v720H120Zm60-500h600v-160H180v160Zm220 220h160v-160H400v160Zm0 220h160v-160H400v160ZM180-400h160v-160H180v160Zm440 0h160v-160H620v160ZM180-180h160v-160H180v160Zm440 0h160v-160H620v160Z\"/>\n",
              "  </svg>\n",
              "    </button>\n",
              "\n",
              "  <style>\n",
              "    .colab-df-container {\n",
              "      display:flex;\n",
              "      gap: 12px;\n",
              "    }\n",
              "\n",
              "    .colab-df-convert {\n",
              "      background-color: #E8F0FE;\n",
              "      border: none;\n",
              "      border-radius: 50%;\n",
              "      cursor: pointer;\n",
              "      display: none;\n",
              "      fill: #1967D2;\n",
              "      height: 32px;\n",
              "      padding: 0 0 0 0;\n",
              "      width: 32px;\n",
              "    }\n",
              "\n",
              "    .colab-df-convert:hover {\n",
              "      background-color: #E2EBFA;\n",
              "      box-shadow: 0px 1px 2px rgba(60, 64, 67, 0.3), 0px 1px 3px 1px rgba(60, 64, 67, 0.15);\n",
              "      fill: #174EA6;\n",
              "    }\n",
              "\n",
              "    .colab-df-buttons div {\n",
              "      margin-bottom: 4px;\n",
              "    }\n",
              "\n",
              "    [theme=dark] .colab-df-convert {\n",
              "      background-color: #3B4455;\n",
              "      fill: #D2E3FC;\n",
              "    }\n",
              "\n",
              "    [theme=dark] .colab-df-convert:hover {\n",
              "      background-color: #434B5C;\n",
              "      box-shadow: 0px 1px 3px 1px rgba(0, 0, 0, 0.15);\n",
              "      filter: drop-shadow(0px 1px 2px rgba(0, 0, 0, 0.3));\n",
              "      fill: #FFFFFF;\n",
              "    }\n",
              "  </style>\n",
              "\n",
              "    <script>\n",
              "      const buttonEl =\n",
              "        document.querySelector('#df-a57b6922-1eff-4189-b56b-f943d8062dc8 button.colab-df-convert');\n",
              "      buttonEl.style.display =\n",
              "        google.colab.kernel.accessAllowed ? 'block' : 'none';\n",
              "\n",
              "      async function convertToInteractive(key) {\n",
              "        const element = document.querySelector('#df-a57b6922-1eff-4189-b56b-f943d8062dc8');\n",
              "        const dataTable =\n",
              "          await google.colab.kernel.invokeFunction('convertToInteractive',\n",
              "                                                    [key], {});\n",
              "        if (!dataTable) return;\n",
              "\n",
              "        const docLinkHtml = 'Like what you see? Visit the ' +\n",
              "          '<a target=\"_blank\" href=https://colab.research.google.com/notebooks/data_table.ipynb>data table notebook</a>'\n",
              "          + ' to learn more about interactive tables.';\n",
              "        element.innerHTML = '';\n",
              "        dataTable['output_type'] = 'display_data';\n",
              "        await google.colab.output.renderOutput(dataTable, element);\n",
              "        const docLink = document.createElement('div');\n",
              "        docLink.innerHTML = docLinkHtml;\n",
              "        element.appendChild(docLink);\n",
              "      }\n",
              "    </script>\n",
              "  </div>\n",
              "\n",
              "\n",
              "<div id=\"df-9593322e-bdb3-4820-aef4-c948302085c5\">\n",
              "  <button class=\"colab-df-quickchart\" onclick=\"quickchart('df-9593322e-bdb3-4820-aef4-c948302085c5')\"\n",
              "            title=\"Suggest charts\"\n",
              "            style=\"display:none;\">\n",
              "\n",
              "<svg xmlns=\"http://www.w3.org/2000/svg\" height=\"24px\"viewBox=\"0 0 24 24\"\n",
              "     width=\"24px\">\n",
              "    <g>\n",
              "        <path d=\"M19 3H5c-1.1 0-2 .9-2 2v14c0 1.1.9 2 2 2h14c1.1 0 2-.9 2-2V5c0-1.1-.9-2-2-2zM9 17H7v-7h2v7zm4 0h-2V7h2v10zm4 0h-2v-4h2v4z\"/>\n",
              "    </g>\n",
              "</svg>\n",
              "  </button>\n",
              "\n",
              "<style>\n",
              "  .colab-df-quickchart {\n",
              "      --bg-color: #E8F0FE;\n",
              "      --fill-color: #1967D2;\n",
              "      --hover-bg-color: #E2EBFA;\n",
              "      --hover-fill-color: #174EA6;\n",
              "      --disabled-fill-color: #AAA;\n",
              "      --disabled-bg-color: #DDD;\n",
              "  }\n",
              "\n",
              "  [theme=dark] .colab-df-quickchart {\n",
              "      --bg-color: #3B4455;\n",
              "      --fill-color: #D2E3FC;\n",
              "      --hover-bg-color: #434B5C;\n",
              "      --hover-fill-color: #FFFFFF;\n",
              "      --disabled-bg-color: #3B4455;\n",
              "      --disabled-fill-color: #666;\n",
              "  }\n",
              "\n",
              "  .colab-df-quickchart {\n",
              "    background-color: var(--bg-color);\n",
              "    border: none;\n",
              "    border-radius: 50%;\n",
              "    cursor: pointer;\n",
              "    display: none;\n",
              "    fill: var(--fill-color);\n",
              "    height: 32px;\n",
              "    padding: 0;\n",
              "    width: 32px;\n",
              "  }\n",
              "\n",
              "  .colab-df-quickchart:hover {\n",
              "    background-color: var(--hover-bg-color);\n",
              "    box-shadow: 0 1px 2px rgba(60, 64, 67, 0.3), 0 1px 3px 1px rgba(60, 64, 67, 0.15);\n",
              "    fill: var(--button-hover-fill-color);\n",
              "  }\n",
              "\n",
              "  .colab-df-quickchart-complete:disabled,\n",
              "  .colab-df-quickchart-complete:disabled:hover {\n",
              "    background-color: var(--disabled-bg-color);\n",
              "    fill: var(--disabled-fill-color);\n",
              "    box-shadow: none;\n",
              "  }\n",
              "\n",
              "  .colab-df-spinner {\n",
              "    border: 2px solid var(--fill-color);\n",
              "    border-color: transparent;\n",
              "    border-bottom-color: var(--fill-color);\n",
              "    animation:\n",
              "      spin 1s steps(1) infinite;\n",
              "  }\n",
              "\n",
              "  @keyframes spin {\n",
              "    0% {\n",
              "      border-color: transparent;\n",
              "      border-bottom-color: var(--fill-color);\n",
              "      border-left-color: var(--fill-color);\n",
              "    }\n",
              "    20% {\n",
              "      border-color: transparent;\n",
              "      border-left-color: var(--fill-color);\n",
              "      border-top-color: var(--fill-color);\n",
              "    }\n",
              "    30% {\n",
              "      border-color: transparent;\n",
              "      border-left-color: var(--fill-color);\n",
              "      border-top-color: var(--fill-color);\n",
              "      border-right-color: var(--fill-color);\n",
              "    }\n",
              "    40% {\n",
              "      border-color: transparent;\n",
              "      border-right-color: var(--fill-color);\n",
              "      border-top-color: var(--fill-color);\n",
              "    }\n",
              "    60% {\n",
              "      border-color: transparent;\n",
              "      border-right-color: var(--fill-color);\n",
              "    }\n",
              "    80% {\n",
              "      border-color: transparent;\n",
              "      border-right-color: var(--fill-color);\n",
              "      border-bottom-color: var(--fill-color);\n",
              "    }\n",
              "    90% {\n",
              "      border-color: transparent;\n",
              "      border-bottom-color: var(--fill-color);\n",
              "    }\n",
              "  }\n",
              "</style>\n",
              "\n",
              "  <script>\n",
              "    async function quickchart(key) {\n",
              "      const quickchartButtonEl =\n",
              "        document.querySelector('#' + key + ' button');\n",
              "      quickchartButtonEl.disabled = true;  // To prevent multiple clicks.\n",
              "      quickchartButtonEl.classList.add('colab-df-spinner');\n",
              "      try {\n",
              "        const charts = await google.colab.kernel.invokeFunction(\n",
              "            'suggestCharts', [key], {});\n",
              "      } catch (error) {\n",
              "        console.error('Error during call to suggestCharts:', error);\n",
              "      }\n",
              "      quickchartButtonEl.classList.remove('colab-df-spinner');\n",
              "      quickchartButtonEl.classList.add('colab-df-quickchart-complete');\n",
              "    }\n",
              "    (() => {\n",
              "      let quickchartButtonEl =\n",
              "        document.querySelector('#df-9593322e-bdb3-4820-aef4-c948302085c5 button');\n",
              "      quickchartButtonEl.style.display =\n",
              "        google.colab.kernel.accessAllowed ? 'block' : 'none';\n",
              "    })();\n",
              "  </script>\n",
              "</div>\n",
              "    </div>\n",
              "  </div>\n"
            ],
            "application/vnd.google.colaboratory.intrinsic+json": {
              "type": "dataframe",
              "variable_name": "cod_ibge_municipios_df",
              "summary": "{\n  \"name\": \"cod_ibge_municipios_df\",\n  \"rows\": 5565,\n  \"fields\": [\n    {\n      \"column\": \"CODMUNI\",\n      \"properties\": {\n        \"dtype\": \"number\",\n        \"std\": 98452,\n        \"min\": 110001,\n        \"max\": 530010,\n        \"num_unique_values\": 5565,\n        \"samples\": [\n          230070,\n          350330,\n          411915\n        ],\n        \"semantic_type\": \"\",\n        \"description\": \"\"\n      }\n    },\n    {\n      \"column\": \"UF\",\n      \"properties\": {\n        \"dtype\": \"category\",\n        \"num_unique_values\": 27,\n        \"samples\": [\n          \"GOI\\u00c1S\",\n          \"PAR\\u00c1\",\n          \"MARANH\\u00c3O\"\n        ],\n        \"semantic_type\": \"\",\n        \"description\": \"\"\n      }\n    },\n    {\n      \"column\": \"MUNICIPIO\",\n      \"properties\": {\n        \"dtype\": \"string\",\n        \"num_unique_values\": 5293,\n        \"samples\": [\n          \"JUSSARI\",\n          \"TAQUARAL DE GOI\\u00c1S\",\n          \"ARACRUZ\"\n        ],\n        \"semantic_type\": \"\",\n        \"description\": \"\"\n      }\n    }\n  ]\n}"
            }
          },
          "metadata": {},
          "execution_count": 116
        }
      ],
      "source": [
        "cod_ibge_municipios_df.head(3)"
      ]
    },
    {
      "cell_type": "code",
      "execution_count": null,
      "metadata": {
        "id": "PS7cFNGYfWBB"
      },
      "outputs": [],
      "source": [
        "# df_v2 vai ser o DF com as colunas municípios e UF\n",
        "df_v2 = df_v1.copy(deep=True)"
      ]
    },
    {
      "cell_type": "code",
      "execution_count": null,
      "metadata": {
        "id": "7iheYqsR3MPJ"
      },
      "outputs": [],
      "source": [
        "# Convertendo o DataFrame para um dicionário usando o índice como chave\n",
        "municipio_dict = cod_ibge_municipios_df.to_dict('index')"
      ]
    },
    {
      "cell_type": "code",
      "execution_count": null,
      "metadata": {
        "id": "PJrhAEHA3Rc_"
      },
      "outputs": [],
      "source": [
        "# Função que retornam o nome do município de acordo com o código do munícipio\n",
        "def codigo_para_nome_municipio(entrada):\n",
        "    if entrada in municipio_dict:\n",
        "        return municipio_dict[entrada]['MUNICIPIO']\n",
        "    else:\n",
        "        return None\n",
        "\n",
        "# Função que retornam o UF/estado de acordo com o código do munícipio\n",
        "def codigo_para_nome_uf(entrada):\n",
        "    if entrada in municipio_dict:\n",
        "        return municipio_dict[entrada]['UF']\n",
        "    else:\n",
        "        return None"
      ]
    },
    {
      "cell_type": "markdown",
      "metadata": {
        "id": "oj9Uv2PgPIfW"
      },
      "source": [
        "Como as colunas CODMUNOCOR, CODMUNNATU e CODMUNRES são dtype object, o que significa que elas são strings, transformaremos em inteiros para poder realizar a comparação dos códigos. Antes disso precisamos eliminar os valores nulos."
      ]
    },
    {
      "cell_type": "code",
      "execution_count": null,
      "metadata": {
        "id": "x8TL_uJr31qv"
      },
      "outputs": [],
      "source": [
        "# Removendo linhas com valores NaN nas colunas CODMUNOCOR e CODMUNNATU\n",
        "df_v2 = df_v2.dropna(subset=['CODMUNOCOR', 'CODMUNNATU', 'CODMUNRES']).copy() # Aplicando o copy() para que não afete o DataFrame df_v2 de maneira inesperada, especialmente porque haverá outras operações planejadas posteriormente.\n",
        "\n",
        "\n",
        "# Convertendo as colunas para inteiros\n",
        "df_v2['CODMUNOCOR'] = df_v2['CODMUNOCOR'].astype(int)\n",
        "df_v2['CODMUNNATU'] = df_v2['CODMUNNATU'].astype(int)\n",
        "df_v2['CODMUNRES'] = df_v2['CODMUNRES'].astype(int)\n"
      ]
    },
    {
      "cell_type": "code",
      "execution_count": null,
      "metadata": {
        "id": "5F1KAE9135LL"
      },
      "outputs": [],
      "source": [
        "# Aplicando as funções nas colunas do DataFrame 'df_v4' enquento criamos novas colunas\n",
        "df_v2['MUNICIPIO_DO_FALECIDO'] = df_v2['CODMUNNATU'].apply(codigo_para_nome_municipio)\n",
        "df_v2['MUNICIPIO_DO_OBITO'] = df_v2['CODMUNOCOR'].apply(codigo_para_nome_municipio)\n",
        "df_v2['MUNICIPIO_DE_RESIDENCIA'] = df_v2['CODMUNRES'].apply(codigo_para_nome_municipio)\n",
        "\n",
        "df_v2['UF_MUNICIPIO_DO_FALECIDO'] = df_v2['CODMUNNATU'].apply(codigo_para_nome_uf)\n",
        "df_v2['UF_MUNICIPIO_DO_OBITO'] = df_v2['CODMUNOCOR'].apply(codigo_para_nome_uf)\n",
        "df_v2['UF_MUNICIPIO_DE_RESIDENCIA'] = df_v2['CODMUNRES'].apply(codigo_para_nome_uf)\n",
        "\n",
        "# Removendo colunas intermediárias\n",
        "df_v2.drop(columns=['CODMUNNATU', 'CODMUNOCOR', 'CODMUNRES'], inplace=True)\n"
      ]
    },
    {
      "cell_type": "code",
      "execution_count": null,
      "metadata": {
        "id": "DMCbvNxN4B33",
        "colab": {
          "base_uri": "https://localhost:8080/",
          "height": 461
        },
        "outputId": "6d7e1785-2340-4086-c959-2645d4876e8a"
      },
      "outputs": [
        {
          "output_type": "execute_result",
          "data": {
            "text/plain": [
              "        MUNICIPIO_DO_FALECIDO     MUNICIPIO_DO_OBITO MUNICIPIO_DE_RESIDENCIA  \\\n",
              "0                  IBATEGUARA  SÃO JOSÉ DO RIO PRETO   SÃO JOSÉ DO RIO PRETO   \n",
              "2                        LINS                   LINS                    LINS   \n",
              "3                 JACAREZINHO                  BAURU             PEDERNEIRAS   \n",
              "5                 PARIPIRANGA      RIBEIRA DO POMBAL                ADUSTINA   \n",
              "6                    ADUSTINA      RIBEIRA DO POMBAL                ADUSTINA   \n",
              "...                       ...                    ...                     ...   \n",
              "1400585          JACAREACANGA           JACAREACANGA            JACAREACANGA   \n",
              "1400586                MACAPÁ                 ÓBIDOS                  ÓBIDOS   \n",
              "1400587              OIAPOQUE               OIAPOQUE                OIAPOQUE   \n",
              "1400588              ALTAMIRA               ALTAMIRA                ALTAMIRA   \n",
              "1400589              ALTAMIRA               ALTAMIRA                ALTAMIRA   \n",
              "\n",
              "        UF_MUNICIPIO_DO_FALECIDO UF_MUNICIPIO_DO_OBITO  \\\n",
              "0                        ALAGOAS             SÃO PAULO   \n",
              "2                      SÃO PAULO             SÃO PAULO   \n",
              "3                         PARANÁ             SÃO PAULO   \n",
              "5                          BAHIA                 BAHIA   \n",
              "6                          BAHIA                 BAHIA   \n",
              "...                          ...                   ...   \n",
              "1400585                     PARÁ                  PARÁ   \n",
              "1400586                    AMAPÁ                  PARÁ   \n",
              "1400587                    AMAPÁ                 AMAPÁ   \n",
              "1400588                     PARÁ                  PARÁ   \n",
              "1400589                     PARÁ                  PARÁ   \n",
              "\n",
              "        UF_MUNICIPIO_DE_RESIDENCIA  \n",
              "0                        SÃO PAULO  \n",
              "2                        SÃO PAULO  \n",
              "3                        SÃO PAULO  \n",
              "5                            BAHIA  \n",
              "6                            BAHIA  \n",
              "...                            ...  \n",
              "1400585                       PARÁ  \n",
              "1400586                       PARÁ  \n",
              "1400587                      AMAPÁ  \n",
              "1400588                       PARÁ  \n",
              "1400589                       PARÁ  \n",
              "\n",
              "[1320098 rows x 6 columns]"
            ],
            "text/html": [
              "\n",
              "  <div id=\"df-088c35df-dea1-453d-89b5-2d5fadf7807e\" class=\"colab-df-container\">\n",
              "    <div>\n",
              "<style scoped>\n",
              "    .dataframe tbody tr th:only-of-type {\n",
              "        vertical-align: middle;\n",
              "    }\n",
              "\n",
              "    .dataframe tbody tr th {\n",
              "        vertical-align: top;\n",
              "    }\n",
              "\n",
              "    .dataframe thead th {\n",
              "        text-align: right;\n",
              "    }\n",
              "</style>\n",
              "<table border=\"1\" class=\"dataframe\">\n",
              "  <thead>\n",
              "    <tr style=\"text-align: right;\">\n",
              "      <th></th>\n",
              "      <th>MUNICIPIO_DO_FALECIDO</th>\n",
              "      <th>MUNICIPIO_DO_OBITO</th>\n",
              "      <th>MUNICIPIO_DE_RESIDENCIA</th>\n",
              "      <th>UF_MUNICIPIO_DO_FALECIDO</th>\n",
              "      <th>UF_MUNICIPIO_DO_OBITO</th>\n",
              "      <th>UF_MUNICIPIO_DE_RESIDENCIA</th>\n",
              "    </tr>\n",
              "  </thead>\n",
              "  <tbody>\n",
              "    <tr>\n",
              "      <th>0</th>\n",
              "      <td>IBATEGUARA</td>\n",
              "      <td>SÃO JOSÉ DO RIO PRETO</td>\n",
              "      <td>SÃO JOSÉ DO RIO PRETO</td>\n",
              "      <td>ALAGOAS</td>\n",
              "      <td>SÃO PAULO</td>\n",
              "      <td>SÃO PAULO</td>\n",
              "    </tr>\n",
              "    <tr>\n",
              "      <th>2</th>\n",
              "      <td>LINS</td>\n",
              "      <td>LINS</td>\n",
              "      <td>LINS</td>\n",
              "      <td>SÃO PAULO</td>\n",
              "      <td>SÃO PAULO</td>\n",
              "      <td>SÃO PAULO</td>\n",
              "    </tr>\n",
              "    <tr>\n",
              "      <th>3</th>\n",
              "      <td>JACAREZINHO</td>\n",
              "      <td>BAURU</td>\n",
              "      <td>PEDERNEIRAS</td>\n",
              "      <td>PARANÁ</td>\n",
              "      <td>SÃO PAULO</td>\n",
              "      <td>SÃO PAULO</td>\n",
              "    </tr>\n",
              "    <tr>\n",
              "      <th>5</th>\n",
              "      <td>PARIPIRANGA</td>\n",
              "      <td>RIBEIRA DO POMBAL</td>\n",
              "      <td>ADUSTINA</td>\n",
              "      <td>BAHIA</td>\n",
              "      <td>BAHIA</td>\n",
              "      <td>BAHIA</td>\n",
              "    </tr>\n",
              "    <tr>\n",
              "      <th>6</th>\n",
              "      <td>ADUSTINA</td>\n",
              "      <td>RIBEIRA DO POMBAL</td>\n",
              "      <td>ADUSTINA</td>\n",
              "      <td>BAHIA</td>\n",
              "      <td>BAHIA</td>\n",
              "      <td>BAHIA</td>\n",
              "    </tr>\n",
              "    <tr>\n",
              "      <th>...</th>\n",
              "      <td>...</td>\n",
              "      <td>...</td>\n",
              "      <td>...</td>\n",
              "      <td>...</td>\n",
              "      <td>...</td>\n",
              "      <td>...</td>\n",
              "    </tr>\n",
              "    <tr>\n",
              "      <th>1400585</th>\n",
              "      <td>JACAREACANGA</td>\n",
              "      <td>JACAREACANGA</td>\n",
              "      <td>JACAREACANGA</td>\n",
              "      <td>PARÁ</td>\n",
              "      <td>PARÁ</td>\n",
              "      <td>PARÁ</td>\n",
              "    </tr>\n",
              "    <tr>\n",
              "      <th>1400586</th>\n",
              "      <td>MACAPÁ</td>\n",
              "      <td>ÓBIDOS</td>\n",
              "      <td>ÓBIDOS</td>\n",
              "      <td>AMAPÁ</td>\n",
              "      <td>PARÁ</td>\n",
              "      <td>PARÁ</td>\n",
              "    </tr>\n",
              "    <tr>\n",
              "      <th>1400587</th>\n",
              "      <td>OIAPOQUE</td>\n",
              "      <td>OIAPOQUE</td>\n",
              "      <td>OIAPOQUE</td>\n",
              "      <td>AMAPÁ</td>\n",
              "      <td>AMAPÁ</td>\n",
              "      <td>AMAPÁ</td>\n",
              "    </tr>\n",
              "    <tr>\n",
              "      <th>1400588</th>\n",
              "      <td>ALTAMIRA</td>\n",
              "      <td>ALTAMIRA</td>\n",
              "      <td>ALTAMIRA</td>\n",
              "      <td>PARÁ</td>\n",
              "      <td>PARÁ</td>\n",
              "      <td>PARÁ</td>\n",
              "    </tr>\n",
              "    <tr>\n",
              "      <th>1400589</th>\n",
              "      <td>ALTAMIRA</td>\n",
              "      <td>ALTAMIRA</td>\n",
              "      <td>ALTAMIRA</td>\n",
              "      <td>PARÁ</td>\n",
              "      <td>PARÁ</td>\n",
              "      <td>PARÁ</td>\n",
              "    </tr>\n",
              "  </tbody>\n",
              "</table>\n",
              "<p>1320098 rows × 6 columns</p>\n",
              "</div>\n",
              "    <div class=\"colab-df-buttons\">\n",
              "\n",
              "  <div class=\"colab-df-container\">\n",
              "    <button class=\"colab-df-convert\" onclick=\"convertToInteractive('df-088c35df-dea1-453d-89b5-2d5fadf7807e')\"\n",
              "            title=\"Convert this dataframe to an interactive table.\"\n",
              "            style=\"display:none;\">\n",
              "\n",
              "  <svg xmlns=\"http://www.w3.org/2000/svg\" height=\"24px\" viewBox=\"0 -960 960 960\">\n",
              "    <path d=\"M120-120v-720h720v720H120Zm60-500h600v-160H180v160Zm220 220h160v-160H400v160Zm0 220h160v-160H400v160ZM180-400h160v-160H180v160Zm440 0h160v-160H620v160ZM180-180h160v-160H180v160Zm440 0h160v-160H620v160Z\"/>\n",
              "  </svg>\n",
              "    </button>\n",
              "\n",
              "  <style>\n",
              "    .colab-df-container {\n",
              "      display:flex;\n",
              "      gap: 12px;\n",
              "    }\n",
              "\n",
              "    .colab-df-convert {\n",
              "      background-color: #E8F0FE;\n",
              "      border: none;\n",
              "      border-radius: 50%;\n",
              "      cursor: pointer;\n",
              "      display: none;\n",
              "      fill: #1967D2;\n",
              "      height: 32px;\n",
              "      padding: 0 0 0 0;\n",
              "      width: 32px;\n",
              "    }\n",
              "\n",
              "    .colab-df-convert:hover {\n",
              "      background-color: #E2EBFA;\n",
              "      box-shadow: 0px 1px 2px rgba(60, 64, 67, 0.3), 0px 1px 3px 1px rgba(60, 64, 67, 0.15);\n",
              "      fill: #174EA6;\n",
              "    }\n",
              "\n",
              "    .colab-df-buttons div {\n",
              "      margin-bottom: 4px;\n",
              "    }\n",
              "\n",
              "    [theme=dark] .colab-df-convert {\n",
              "      background-color: #3B4455;\n",
              "      fill: #D2E3FC;\n",
              "    }\n",
              "\n",
              "    [theme=dark] .colab-df-convert:hover {\n",
              "      background-color: #434B5C;\n",
              "      box-shadow: 0px 1px 3px 1px rgba(0, 0, 0, 0.15);\n",
              "      filter: drop-shadow(0px 1px 2px rgba(0, 0, 0, 0.3));\n",
              "      fill: #FFFFFF;\n",
              "    }\n",
              "  </style>\n",
              "\n",
              "    <script>\n",
              "      const buttonEl =\n",
              "        document.querySelector('#df-088c35df-dea1-453d-89b5-2d5fadf7807e button.colab-df-convert');\n",
              "      buttonEl.style.display =\n",
              "        google.colab.kernel.accessAllowed ? 'block' : 'none';\n",
              "\n",
              "      async function convertToInteractive(key) {\n",
              "        const element = document.querySelector('#df-088c35df-dea1-453d-89b5-2d5fadf7807e');\n",
              "        const dataTable =\n",
              "          await google.colab.kernel.invokeFunction('convertToInteractive',\n",
              "                                                    [key], {});\n",
              "        if (!dataTable) return;\n",
              "\n",
              "        const docLinkHtml = 'Like what you see? Visit the ' +\n",
              "          '<a target=\"_blank\" href=https://colab.research.google.com/notebooks/data_table.ipynb>data table notebook</a>'\n",
              "          + ' to learn more about interactive tables.';\n",
              "        element.innerHTML = '';\n",
              "        dataTable['output_type'] = 'display_data';\n",
              "        await google.colab.output.renderOutput(dataTable, element);\n",
              "        const docLink = document.createElement('div');\n",
              "        docLink.innerHTML = docLinkHtml;\n",
              "        element.appendChild(docLink);\n",
              "      }\n",
              "    </script>\n",
              "  </div>\n",
              "\n",
              "\n",
              "<div id=\"df-be36e634-38a9-4f6d-acd0-b23a388eef89\">\n",
              "  <button class=\"colab-df-quickchart\" onclick=\"quickchart('df-be36e634-38a9-4f6d-acd0-b23a388eef89')\"\n",
              "            title=\"Suggest charts\"\n",
              "            style=\"display:none;\">\n",
              "\n",
              "<svg xmlns=\"http://www.w3.org/2000/svg\" height=\"24px\"viewBox=\"0 0 24 24\"\n",
              "     width=\"24px\">\n",
              "    <g>\n",
              "        <path d=\"M19 3H5c-1.1 0-2 .9-2 2v14c0 1.1.9 2 2 2h14c1.1 0 2-.9 2-2V5c0-1.1-.9-2-2-2zM9 17H7v-7h2v7zm4 0h-2V7h2v10zm4 0h-2v-4h2v4z\"/>\n",
              "    </g>\n",
              "</svg>\n",
              "  </button>\n",
              "\n",
              "<style>\n",
              "  .colab-df-quickchart {\n",
              "      --bg-color: #E8F0FE;\n",
              "      --fill-color: #1967D2;\n",
              "      --hover-bg-color: #E2EBFA;\n",
              "      --hover-fill-color: #174EA6;\n",
              "      --disabled-fill-color: #AAA;\n",
              "      --disabled-bg-color: #DDD;\n",
              "  }\n",
              "\n",
              "  [theme=dark] .colab-df-quickchart {\n",
              "      --bg-color: #3B4455;\n",
              "      --fill-color: #D2E3FC;\n",
              "      --hover-bg-color: #434B5C;\n",
              "      --hover-fill-color: #FFFFFF;\n",
              "      --disabled-bg-color: #3B4455;\n",
              "      --disabled-fill-color: #666;\n",
              "  }\n",
              "\n",
              "  .colab-df-quickchart {\n",
              "    background-color: var(--bg-color);\n",
              "    border: none;\n",
              "    border-radius: 50%;\n",
              "    cursor: pointer;\n",
              "    display: none;\n",
              "    fill: var(--fill-color);\n",
              "    height: 32px;\n",
              "    padding: 0;\n",
              "    width: 32px;\n",
              "  }\n",
              "\n",
              "  .colab-df-quickchart:hover {\n",
              "    background-color: var(--hover-bg-color);\n",
              "    box-shadow: 0 1px 2px rgba(60, 64, 67, 0.3), 0 1px 3px 1px rgba(60, 64, 67, 0.15);\n",
              "    fill: var(--button-hover-fill-color);\n",
              "  }\n",
              "\n",
              "  .colab-df-quickchart-complete:disabled,\n",
              "  .colab-df-quickchart-complete:disabled:hover {\n",
              "    background-color: var(--disabled-bg-color);\n",
              "    fill: var(--disabled-fill-color);\n",
              "    box-shadow: none;\n",
              "  }\n",
              "\n",
              "  .colab-df-spinner {\n",
              "    border: 2px solid var(--fill-color);\n",
              "    border-color: transparent;\n",
              "    border-bottom-color: var(--fill-color);\n",
              "    animation:\n",
              "      spin 1s steps(1) infinite;\n",
              "  }\n",
              "\n",
              "  @keyframes spin {\n",
              "    0% {\n",
              "      border-color: transparent;\n",
              "      border-bottom-color: var(--fill-color);\n",
              "      border-left-color: var(--fill-color);\n",
              "    }\n",
              "    20% {\n",
              "      border-color: transparent;\n",
              "      border-left-color: var(--fill-color);\n",
              "      border-top-color: var(--fill-color);\n",
              "    }\n",
              "    30% {\n",
              "      border-color: transparent;\n",
              "      border-left-color: var(--fill-color);\n",
              "      border-top-color: var(--fill-color);\n",
              "      border-right-color: var(--fill-color);\n",
              "    }\n",
              "    40% {\n",
              "      border-color: transparent;\n",
              "      border-right-color: var(--fill-color);\n",
              "      border-top-color: var(--fill-color);\n",
              "    }\n",
              "    60% {\n",
              "      border-color: transparent;\n",
              "      border-right-color: var(--fill-color);\n",
              "    }\n",
              "    80% {\n",
              "      border-color: transparent;\n",
              "      border-right-color: var(--fill-color);\n",
              "      border-bottom-color: var(--fill-color);\n",
              "    }\n",
              "    90% {\n",
              "      border-color: transparent;\n",
              "      border-bottom-color: var(--fill-color);\n",
              "    }\n",
              "  }\n",
              "</style>\n",
              "\n",
              "  <script>\n",
              "    async function quickchart(key) {\n",
              "      const quickchartButtonEl =\n",
              "        document.querySelector('#' + key + ' button');\n",
              "      quickchartButtonEl.disabled = true;  // To prevent multiple clicks.\n",
              "      quickchartButtonEl.classList.add('colab-df-spinner');\n",
              "      try {\n",
              "        const charts = await google.colab.kernel.invokeFunction(\n",
              "            'suggestCharts', [key], {});\n",
              "      } catch (error) {\n",
              "        console.error('Error during call to suggestCharts:', error);\n",
              "      }\n",
              "      quickchartButtonEl.classList.remove('colab-df-spinner');\n",
              "      quickchartButtonEl.classList.add('colab-df-quickchart-complete');\n",
              "    }\n",
              "    (() => {\n",
              "      let quickchartButtonEl =\n",
              "        document.querySelector('#df-be36e634-38a9-4f6d-acd0-b23a388eef89 button');\n",
              "      quickchartButtonEl.style.display =\n",
              "        google.colab.kernel.accessAllowed ? 'block' : 'none';\n",
              "    })();\n",
              "  </script>\n",
              "</div>\n",
              "    </div>\n",
              "  </div>\n"
            ],
            "application/vnd.google.colaboratory.intrinsic+json": {
              "type": "dataframe"
            }
          },
          "metadata": {},
          "execution_count": 122
        }
      ],
      "source": [
        "df_v2[['MUNICIPIO_DO_FALECIDO', 'MUNICIPIO_DO_OBITO', 'MUNICIPIO_DE_RESIDENCIA', 'UF_MUNICIPIO_DO_FALECIDO', 'UF_MUNICIPIO_DO_OBITO', 'UF_MUNICIPIO_DE_RESIDENCIA']]"
      ]
    },
    {
      "cell_type": "markdown",
      "metadata": {
        "id": "JmVsOWot376y"
      },
      "source": [
        "###6. Tratando os valores nulos:"
      ]
    },
    {
      "cell_type": "markdown",
      "metadata": {
        "id": "9srhtZ2Vmlis"
      },
      "source": [
        "Para compreendermos o impacto dos nulos no nosso dataframe precisamos primeiro descobrir quantas linhas há no dataframe."
      ]
    },
    {
      "cell_type": "code",
      "execution_count": null,
      "metadata": {
        "id": "aUwKtmMafx83",
        "colab": {
          "base_uri": "https://localhost:8080/"
        },
        "outputId": "a430024f-58ab-4f36-aa67-19b211e3af59"
      },
      "outputs": [
        {
          "output_type": "stream",
          "name": "stdout",
          "text": [
            "Número de linhas do DataFrame: 1320098\n"
          ]
        }
      ],
      "source": [
        "# Obter o número de linhas do DataFrame\n",
        "num_linhas = df_v2.shape[0] # shape() retorna o tamanho/formato do DF. [0] linhas e [1] colunas\n",
        "\n",
        "# Exibir o número de linhas\n",
        "print(\"Número de linhas do DataFrame:\", num_linhas)\n"
      ]
    },
    {
      "cell_type": "code",
      "execution_count": null,
      "metadata": {
        "id": "fNtMzd_4N50s",
        "colab": {
          "base_uri": "https://localhost:8080/"
        },
        "outputId": "5dad3790-8b15-45f1-beb5-752f63aec1c8"
      },
      "outputs": [
        {
          "output_type": "stream",
          "name": "stdout",
          "text": [
            "\n",
            "Número total de valores nulos no DataFrame: 57072301\n"
          ]
        }
      ],
      "source": [
        "# Contar o número total de valores nulos em todo o DataFrame\n",
        "total_nulos = df_v2.isnull().sum().sum()\n",
        "\n",
        "# Exibir o número total de valores nulos no DataFrame\n",
        "print(\"\\nNúmero total de valores nulos no DataFrame:\", total_nulos)"
      ]
    },
    {
      "cell_type": "code",
      "execution_count": null,
      "metadata": {
        "id": "CNj7xN25NPj1",
        "colab": {
          "base_uri": "https://localhost:8080/"
        },
        "outputId": "7bc0cd96-3978-4261-cbfc-de59b7e97599"
      },
      "outputs": [
        {
          "output_type": "stream",
          "name": "stdout",
          "text": [
            "Número de valores nulos em cada coluna:\n"
          ]
        },
        {
          "output_type": "execute_result",
          "data": {
            "text/plain": [
              "contador                          0\n",
              "ORIGEM                            0\n",
              "TIPOBITO                          0\n",
              "DTOBITO                           0\n",
              "HORAOBITO                     42506\n",
              "                              ...  \n",
              "MUNICIPIO_DO_OBITO              151\n",
              "MUNICIPIO_DE_RESIDENCIA        1691\n",
              "UF_MUNICIPIO_DO_FALECIDO      28440\n",
              "UF_MUNICIPIO_DO_OBITO           151\n",
              "UF_MUNICIPIO_DE_RESIDENCIA     1691\n",
              "Length: 89, dtype: int64"
            ]
          },
          "metadata": {},
          "execution_count": 125
        }
      ],
      "source": [
        "# Contar o número de valores nulos em cada coluna\n",
        "print(\"Número de valores nulos em cada coluna:\")\n",
        "colunas_nulos = df_v2.isnull().sum()\n",
        "colunas_nulos"
      ]
    },
    {
      "cell_type": "markdown",
      "metadata": {
        "id": "q2yOLxHudJsu"
      },
      "source": [
        "Colunas com mais dados nulos:"
      ]
    },
    {
      "cell_type": "code",
      "execution_count": null,
      "metadata": {
        "id": "taYH0eVHdN7X",
        "colab": {
          "base_uri": "https://localhost:8080/"
        },
        "outputId": "c7d80fb5-c058-4b01-84a1-d6e373e3e9be"
      },
      "outputs": [
        {
          "output_type": "execute_result",
          "data": {
            "text/plain": [
              "CB_PRE        1320098\n",
              "CAUSAMAT      1320069\n",
              "TPRESGINFO    1318365\n",
              "CIRURGIA      1318153\n",
              "EXAME         1318034\n",
              "               ...   \n",
              "DIFDATA             0\n",
              "ATESTADO            0\n",
              "DTRECORIGA          0\n",
              "OPOR_DO             0\n",
              "contador            0\n",
              "Length: 89, dtype: int64"
            ]
          },
          "metadata": {},
          "execution_count": 126
        }
      ],
      "source": [
        "colunas_nulos.sort_values(ascending=False)"
      ]
    },
    {
      "cell_type": "markdown",
      "metadata": {
        "id": "n0Y9AFdwmUZI"
      },
      "source": [
        "Algumas colunas chegam a ter 100% de nulos e outras tem índices altíssimos de nulos. Portanto decidimos excluir colunas que possuam aproximadamente 50% ou mais de nulos."
      ]
    },
    {
      "cell_type": "markdown",
      "metadata": {
        "id": "Vs0xRZJcmDAQ"
      },
      "source": [
        "Colunas com aproximadamente 50% ou mais nulos:"
      ]
    },
    {
      "cell_type": "code",
      "execution_count": null,
      "metadata": {
        "id": "OQCvvy-Fijpn",
        "colab": {
          "base_uri": "https://localhost:8080/"
        },
        "outputId": "43e5e477-a733-4d4d-dacd-a8740b12cd45"
      },
      "outputs": [
        {
          "output_type": "execute_result",
          "data": {
            "text/plain": [
              "['SERIESCFAL',\n",
              " 'IDADEMAE',\n",
              " 'ESCMAE',\n",
              " 'ESCMAE2010',\n",
              " 'SERIESCMAE',\n",
              " 'OCUPMAE',\n",
              " 'QTDFILVIVO',\n",
              " 'QTDFILMORT',\n",
              " 'GRAVIDEZ',\n",
              " 'SEMAGESTAC',\n",
              " 'GESTACAO',\n",
              " 'PARTO',\n",
              " 'OBITOPARTO',\n",
              " 'PESO',\n",
              " 'TPMORTEOCO',\n",
              " 'OBITOGRAV',\n",
              " 'OBITOPUERP',\n",
              " 'EXAME',\n",
              " 'CIRURGIA',\n",
              " 'LINHAC',\n",
              " 'LINHAD',\n",
              " 'LINHAII',\n",
              " 'CB_PRE',\n",
              " 'COMUNSVOIM',\n",
              " 'CIRCOBITO',\n",
              " 'ACIDTRAB',\n",
              " 'FONTE',\n",
              " 'DTINVESTIG',\n",
              " 'FONTEINV',\n",
              " 'CAUSAMAT',\n",
              " 'ESCMAEAGR1',\n",
              " 'NUDIASOBCO',\n",
              " 'DTCADINV',\n",
              " 'TPOBITOCOR',\n",
              " 'DTCONINV',\n",
              " 'FONTES',\n",
              " 'TPRESGINFO',\n",
              " 'TPNIVELINV',\n",
              " 'DTCADINF',\n",
              " 'MORTEPARTO',\n",
              " 'DTCONCASO',\n",
              " 'ALTCAUSA',\n",
              " 'TP_ALTERA',\n",
              " 'CB_ALT']"
            ]
          },
          "metadata": {},
          "execution_count": 127
        }
      ],
      "source": [
        "colunas_com_muitos_nulos = []\n",
        "\n",
        "for coluna, nulos in colunas_nulos.items():\n",
        "  if nulos >= 700000:\n",
        "      colunas_com_muitos_nulos.append(coluna)\n",
        "\n",
        "colunas_com_muitos_nulos"
      ]
    },
    {
      "cell_type": "markdown",
      "metadata": {
        "id": "4NTQ0GzAI-M5"
      },
      "source": [
        "Iremos eliminar todas as colunas que possuem mais de 50% de nulos e outras colunas que consideramos pouco relevante para o desenvolvimento de nossa análise e a resposta de nossos quesitos.\n",
        "\n",
        "Isso não significa que tais colunas não sejam importantes do ponto de vista macro ou com dados irrelevantes para futuras pesquisas. O que ocorre é que nesse momento é necessário simplificar os dados de acordo com os nossos objetivos de pesquisa a fim de garantir maior objetividade, efetividade e celeridade na nossa análise.\n",
        "\n",
        "Essas colunas serão incluídas na lista colunas_a_remover"
      ]
    },
    {
      "cell_type": "code",
      "execution_count": null,
      "metadata": {
        "id": "epvPWxmcJMyr"
      },
      "outputs": [],
      "source": [
        "# Acrescentando mais colunas a serem excluídas\n",
        "colunas_a_remover = ['ORIGEM','VERSAOSIST','VERSAOSCB', 'contador', 'CAUSABAS_O', 'CODESTAB', 'CODIFICADO', 'STCODIFICA', 'NUMEROLOTE', 'DTRECORIGA', 'OPOR_DO']"
      ]
    },
    {
      "cell_type": "code",
      "execution_count": null,
      "metadata": {
        "id": "4ojNLIxvKtRj"
      },
      "outputs": [],
      "source": [
        "#Excluindo colunas acrescentando mais colunas a serem excluídas\n",
        "\n",
        "df_v3 = df_v2.drop(columns=colunas_a_remover).copy(deep=True)\n",
        "df_v3.drop(columns=colunas_com_muitos_nulos, inplace=True)"
      ]
    },
    {
      "cell_type": "code",
      "execution_count": null,
      "metadata": {
        "id": "50enqjcvD_em",
        "colab": {
          "base_uri": "https://localhost:8080/"
        },
        "outputId": "0631404e-f72f-4901-ecb5-832313524d36"
      },
      "outputs": [
        {
          "output_type": "execute_result",
          "data": {
            "text/plain": [
              "(1320098, 34)"
            ]
          },
          "metadata": {},
          "execution_count": 130
        }
      ],
      "source": [
        "df_v3.shape"
      ]
    },
    {
      "cell_type": "code",
      "execution_count": null,
      "metadata": {
        "id": "Lrh7TE0UJMPx",
        "colab": {
          "base_uri": "https://localhost:8080/"
        },
        "outputId": "24f14f4b-212e-4be9-a88c-0b1faf6f0078"
      },
      "outputs": [
        {
          "output_type": "execute_result",
          "data": {
            "text/plain": [
              "TIPOBITO                           0\n",
              "DTOBITO                            0\n",
              "HORAOBITO                      42506\n",
              "NATURAL                            0\n",
              "DTNASC                         23284\n",
              "IDADE                          22154\n",
              "SEXO                               0\n",
              "RACACOR                        41296\n",
              "ESTCIV                         79405\n",
              "ESC                            99521\n",
              "ESC2010                       104642\n",
              "OCUP                          197096\n",
              "LOCOCOR                            0\n",
              "ASSISTMED                     399226\n",
              "NECROPSIA                     374477\n",
              "LINHAA                         37858\n",
              "LINHAB                        321791\n",
              "CAUSABAS                           0\n",
              "DTATESTADO                      5201\n",
              "DTCADASTRO                       506\n",
              "ATESTANTE                      90688\n",
              "DTRECEBIM                        100\n",
              "ATESTADO                           0\n",
              "ESCFALAGR1                    104642\n",
              "STDOEPIDEM                         2\n",
              "STDONOVA                           0\n",
              "DIFDATA                            0\n",
              "TPPOS                         495284\n",
              "MUNICIPIO_DO_FALECIDO          28440\n",
              "MUNICIPIO_DO_OBITO               151\n",
              "MUNICIPIO_DE_RESIDENCIA         1691\n",
              "UF_MUNICIPIO_DO_FALECIDO       28440\n",
              "UF_MUNICIPIO_DO_OBITO            151\n",
              "UF_MUNICIPIO_DE_RESIDENCIA      1691\n",
              "dtype: int64"
            ]
          },
          "metadata": {},
          "execution_count": 131
        }
      ],
      "source": [
        "# Quantos valores nulos ainda restam\n",
        "df_v3.isnull().sum()"
      ]
    },
    {
      "cell_type": "markdown",
      "metadata": {
        "id": "MV0ciOBgMCbc"
      },
      "source": [
        "Antes de eliminarmos o restante dos nulos, iremos dividir o dataframe em dois. E tratar os dados nulos de forma individualizada para cada dataframe."
      ]
    },
    {
      "cell_type": "markdown",
      "metadata": {
        "id": "xf18vuEbGCdK"
      },
      "source": [
        "###7. Dividindo o Dataframe\n",
        "\n",
        "Precisamos dividir os dataframes em dois. Um dataframe com mortes relacionadas ao feto (df_maes). E outro com morte não fetal (df_morte_geral)."
      ]
    },
    {
      "cell_type": "code",
      "execution_count": null,
      "metadata": {
        "id": "xedy9AuM_cMa"
      },
      "outputs": [],
      "source": [
        "# Dataframes com divisão entre mortes relacionadas ao parto\n",
        "df_morte_geral = df_v3[df_v3['TIPOBITO'] == '2'].copy(deep=True)"
      ]
    },
    {
      "cell_type": "code",
      "execution_count": null,
      "metadata": {
        "id": "pO_-pgHK_kZG"
      },
      "outputs": [],
      "source": [
        "# Df de mortes relacionadas a gravidez/parto e bebês/feto\n",
        "df_maes = df_v3[df_v3['TIPOBITO'] == '1'].copy(deep=True)"
      ]
    },
    {
      "cell_type": "code",
      "execution_count": null,
      "metadata": {
        "id": "T7geGrvYnAVx",
        "colab": {
          "base_uri": "https://localhost:8080/",
          "height": 478
        },
        "outputId": "be8220fb-641f-464d-b2cc-92fdc6a4a097"
      },
      "outputs": [
        {
          "output_type": "execute_result",
          "data": {
            "text/plain": [
              "        TIPOBITO   DTOBITO HORAOBITO NATURAL DTNASC IDADE SEXO RACACOR ESTCIV  \\\n",
              "14             1  14022023      1044     841    NaN   NaN    1     NaN    NaN   \n",
              "91             1  01012023      0750     822    NaN   NaN    2     NaN    NaN   \n",
              "92             1  01012023      1750     822    NaN   NaN    2     NaN    NaN   \n",
              "146            1  01012023       NaN     813    NaN   NaN    2     NaN    NaN   \n",
              "209            1  01012023      0245     833    NaN   NaN    1     NaN    NaN   \n",
              "...          ...       ...       ...     ...    ...   ...  ...     ...    ...   \n",
              "1400546        1  08052023      2300     813    NaN   NaN    1     NaN    NaN   \n",
              "1400554        1  12062023      2100     813    NaN   NaN    1     NaN    NaN   \n",
              "1400555        1  14062023      1320     815    NaN   NaN    2     NaN    NaN   \n",
              "1400565        1  27072023      1400     816    NaN   NaN    1     NaN    NaN   \n",
              "1400567        1  07082023      1000     815    NaN   NaN    2     NaN    NaN   \n",
              "\n",
              "         ESC  ... STDOEPIDEM STDONOVA DIFDATA TPPOS MUNICIPIO_DO_FALECIDO  \\\n",
              "14       NaN  ...          0        1     010     N            CARLÓPOLIS   \n",
              "91       NaN  ...          0        1     002     N     AROEIRAS DO ITAIM   \n",
              "92       NaN  ...          0        1     107     S                 PICOS   \n",
              "146      NaN  ...          0        1     302     S  NOVA OLINDA DO NORTE   \n",
              "209      NaN  ...          0        1     087     S        RIO DE JANEIRO   \n",
              "...      ...  ...        ...      ...     ...   ...                   ...   \n",
              "1400546  NaN  ...          0        1     036   NaN      ATALAIA DO NORTE   \n",
              "1400554  NaN  ...          0        1     108   NaN              EIRUNEPÉ   \n",
              "1400555  NaN  ...          0        1     065   NaN          JACAREACANGA   \n",
              "1400565  NaN  ...          0        1     095   NaN              OIAPOQUE   \n",
              "1400567  NaN  ...          0        1     050   NaN          JACAREACANGA   \n",
              "\n",
              "               MUNICIPIO_DO_OBITO MUNICIPIO_DE_RESIDENCIA  \\\n",
              "14       SANTO ANTÔNIO DA PLATINA              CARLÓPOLIS   \n",
              "91                          PICOS       AROEIRAS DO ITAIM   \n",
              "92                          PICOS                   PICOS   \n",
              "146          NOVA OLINDA DO NORTE    NOVA OLINDA DO NORTE   \n",
              "209                RIO DE JANEIRO             NOVA IGUAÇU   \n",
              "...                           ...                     ...   \n",
              "1400546          ATALAIA DO NORTE        ATALAIA DO NORTE   \n",
              "1400554                  EIRUNEPÉ                EIRUNEPÉ   \n",
              "1400555              JACAREACANGA            JACAREACANGA   \n",
              "1400565                  OIAPOQUE                OIAPOQUE   \n",
              "1400567              JACAREACANGA            JACAREACANGA   \n",
              "\n",
              "        UF_MUNICIPIO_DO_FALECIDO UF_MUNICIPIO_DO_OBITO  \\\n",
              "14                        PARANÁ                PARANÁ   \n",
              "91                         PIAUÍ                 PIAUÍ   \n",
              "92                         PIAUÍ                 PIAUÍ   \n",
              "146                     AMAZONAS              AMAZONAS   \n",
              "209               RIO DE JANEIRO        RIO DE JANEIRO   \n",
              "...                          ...                   ...   \n",
              "1400546                 AMAZONAS              AMAZONAS   \n",
              "1400554                 AMAZONAS              AMAZONAS   \n",
              "1400555                     PARÁ                  PARÁ   \n",
              "1400565                    AMAPÁ                 AMAPÁ   \n",
              "1400567                     PARÁ                  PARÁ   \n",
              "\n",
              "        UF_MUNICIPIO_DE_RESIDENCIA  \n",
              "14                          PARANÁ  \n",
              "91                           PIAUÍ  \n",
              "92                           PIAUÍ  \n",
              "146                       AMAZONAS  \n",
              "209                 RIO DE JANEIRO  \n",
              "...                            ...  \n",
              "1400546                   AMAZONAS  \n",
              "1400554                   AMAZONAS  \n",
              "1400555                       PARÁ  \n",
              "1400565                      AMAPÁ  \n",
              "1400567                       PARÁ  \n",
              "\n",
              "[22154 rows x 34 columns]"
            ],
            "text/html": [
              "\n",
              "  <div id=\"df-1b3f9777-4aa3-4eec-97e2-62e144e08225\" class=\"colab-df-container\">\n",
              "    <div>\n",
              "<style scoped>\n",
              "    .dataframe tbody tr th:only-of-type {\n",
              "        vertical-align: middle;\n",
              "    }\n",
              "\n",
              "    .dataframe tbody tr th {\n",
              "        vertical-align: top;\n",
              "    }\n",
              "\n",
              "    .dataframe thead th {\n",
              "        text-align: right;\n",
              "    }\n",
              "</style>\n",
              "<table border=\"1\" class=\"dataframe\">\n",
              "  <thead>\n",
              "    <tr style=\"text-align: right;\">\n",
              "      <th></th>\n",
              "      <th>TIPOBITO</th>\n",
              "      <th>DTOBITO</th>\n",
              "      <th>HORAOBITO</th>\n",
              "      <th>NATURAL</th>\n",
              "      <th>DTNASC</th>\n",
              "      <th>IDADE</th>\n",
              "      <th>SEXO</th>\n",
              "      <th>RACACOR</th>\n",
              "      <th>ESTCIV</th>\n",
              "      <th>ESC</th>\n",
              "      <th>...</th>\n",
              "      <th>STDOEPIDEM</th>\n",
              "      <th>STDONOVA</th>\n",
              "      <th>DIFDATA</th>\n",
              "      <th>TPPOS</th>\n",
              "      <th>MUNICIPIO_DO_FALECIDO</th>\n",
              "      <th>MUNICIPIO_DO_OBITO</th>\n",
              "      <th>MUNICIPIO_DE_RESIDENCIA</th>\n",
              "      <th>UF_MUNICIPIO_DO_FALECIDO</th>\n",
              "      <th>UF_MUNICIPIO_DO_OBITO</th>\n",
              "      <th>UF_MUNICIPIO_DE_RESIDENCIA</th>\n",
              "    </tr>\n",
              "  </thead>\n",
              "  <tbody>\n",
              "    <tr>\n",
              "      <th>14</th>\n",
              "      <td>1</td>\n",
              "      <td>14022023</td>\n",
              "      <td>1044</td>\n",
              "      <td>841</td>\n",
              "      <td>NaN</td>\n",
              "      <td>NaN</td>\n",
              "      <td>1</td>\n",
              "      <td>NaN</td>\n",
              "      <td>NaN</td>\n",
              "      <td>NaN</td>\n",
              "      <td>...</td>\n",
              "      <td>0</td>\n",
              "      <td>1</td>\n",
              "      <td>010</td>\n",
              "      <td>N</td>\n",
              "      <td>CARLÓPOLIS</td>\n",
              "      <td>SANTO ANTÔNIO DA PLATINA</td>\n",
              "      <td>CARLÓPOLIS</td>\n",
              "      <td>PARANÁ</td>\n",
              "      <td>PARANÁ</td>\n",
              "      <td>PARANÁ</td>\n",
              "    </tr>\n",
              "    <tr>\n",
              "      <th>91</th>\n",
              "      <td>1</td>\n",
              "      <td>01012023</td>\n",
              "      <td>0750</td>\n",
              "      <td>822</td>\n",
              "      <td>NaN</td>\n",
              "      <td>NaN</td>\n",
              "      <td>2</td>\n",
              "      <td>NaN</td>\n",
              "      <td>NaN</td>\n",
              "      <td>NaN</td>\n",
              "      <td>...</td>\n",
              "      <td>0</td>\n",
              "      <td>1</td>\n",
              "      <td>002</td>\n",
              "      <td>N</td>\n",
              "      <td>AROEIRAS DO ITAIM</td>\n",
              "      <td>PICOS</td>\n",
              "      <td>AROEIRAS DO ITAIM</td>\n",
              "      <td>PIAUÍ</td>\n",
              "      <td>PIAUÍ</td>\n",
              "      <td>PIAUÍ</td>\n",
              "    </tr>\n",
              "    <tr>\n",
              "      <th>92</th>\n",
              "      <td>1</td>\n",
              "      <td>01012023</td>\n",
              "      <td>1750</td>\n",
              "      <td>822</td>\n",
              "      <td>NaN</td>\n",
              "      <td>NaN</td>\n",
              "      <td>2</td>\n",
              "      <td>NaN</td>\n",
              "      <td>NaN</td>\n",
              "      <td>NaN</td>\n",
              "      <td>...</td>\n",
              "      <td>0</td>\n",
              "      <td>1</td>\n",
              "      <td>107</td>\n",
              "      <td>S</td>\n",
              "      <td>PICOS</td>\n",
              "      <td>PICOS</td>\n",
              "      <td>PICOS</td>\n",
              "      <td>PIAUÍ</td>\n",
              "      <td>PIAUÍ</td>\n",
              "      <td>PIAUÍ</td>\n",
              "    </tr>\n",
              "    <tr>\n",
              "      <th>146</th>\n",
              "      <td>1</td>\n",
              "      <td>01012023</td>\n",
              "      <td>NaN</td>\n",
              "      <td>813</td>\n",
              "      <td>NaN</td>\n",
              "      <td>NaN</td>\n",
              "      <td>2</td>\n",
              "      <td>NaN</td>\n",
              "      <td>NaN</td>\n",
              "      <td>NaN</td>\n",
              "      <td>...</td>\n",
              "      <td>0</td>\n",
              "      <td>1</td>\n",
              "      <td>302</td>\n",
              "      <td>S</td>\n",
              "      <td>NOVA OLINDA DO NORTE</td>\n",
              "      <td>NOVA OLINDA DO NORTE</td>\n",
              "      <td>NOVA OLINDA DO NORTE</td>\n",
              "      <td>AMAZONAS</td>\n",
              "      <td>AMAZONAS</td>\n",
              "      <td>AMAZONAS</td>\n",
              "    </tr>\n",
              "    <tr>\n",
              "      <th>209</th>\n",
              "      <td>1</td>\n",
              "      <td>01012023</td>\n",
              "      <td>0245</td>\n",
              "      <td>833</td>\n",
              "      <td>NaN</td>\n",
              "      <td>NaN</td>\n",
              "      <td>1</td>\n",
              "      <td>NaN</td>\n",
              "      <td>NaN</td>\n",
              "      <td>NaN</td>\n",
              "      <td>...</td>\n",
              "      <td>0</td>\n",
              "      <td>1</td>\n",
              "      <td>087</td>\n",
              "      <td>S</td>\n",
              "      <td>RIO DE JANEIRO</td>\n",
              "      <td>RIO DE JANEIRO</td>\n",
              "      <td>NOVA IGUAÇU</td>\n",
              "      <td>RIO DE JANEIRO</td>\n",
              "      <td>RIO DE JANEIRO</td>\n",
              "      <td>RIO DE JANEIRO</td>\n",
              "    </tr>\n",
              "    <tr>\n",
              "      <th>...</th>\n",
              "      <td>...</td>\n",
              "      <td>...</td>\n",
              "      <td>...</td>\n",
              "      <td>...</td>\n",
              "      <td>...</td>\n",
              "      <td>...</td>\n",
              "      <td>...</td>\n",
              "      <td>...</td>\n",
              "      <td>...</td>\n",
              "      <td>...</td>\n",
              "      <td>...</td>\n",
              "      <td>...</td>\n",
              "      <td>...</td>\n",
              "      <td>...</td>\n",
              "      <td>...</td>\n",
              "      <td>...</td>\n",
              "      <td>...</td>\n",
              "      <td>...</td>\n",
              "      <td>...</td>\n",
              "      <td>...</td>\n",
              "      <td>...</td>\n",
              "    </tr>\n",
              "    <tr>\n",
              "      <th>1400546</th>\n",
              "      <td>1</td>\n",
              "      <td>08052023</td>\n",
              "      <td>2300</td>\n",
              "      <td>813</td>\n",
              "      <td>NaN</td>\n",
              "      <td>NaN</td>\n",
              "      <td>1</td>\n",
              "      <td>NaN</td>\n",
              "      <td>NaN</td>\n",
              "      <td>NaN</td>\n",
              "      <td>...</td>\n",
              "      <td>0</td>\n",
              "      <td>1</td>\n",
              "      <td>036</td>\n",
              "      <td>NaN</td>\n",
              "      <td>ATALAIA DO NORTE</td>\n",
              "      <td>ATALAIA DO NORTE</td>\n",
              "      <td>ATALAIA DO NORTE</td>\n",
              "      <td>AMAZONAS</td>\n",
              "      <td>AMAZONAS</td>\n",
              "      <td>AMAZONAS</td>\n",
              "    </tr>\n",
              "    <tr>\n",
              "      <th>1400554</th>\n",
              "      <td>1</td>\n",
              "      <td>12062023</td>\n",
              "      <td>2100</td>\n",
              "      <td>813</td>\n",
              "      <td>NaN</td>\n",
              "      <td>NaN</td>\n",
              "      <td>1</td>\n",
              "      <td>NaN</td>\n",
              "      <td>NaN</td>\n",
              "      <td>NaN</td>\n",
              "      <td>...</td>\n",
              "      <td>0</td>\n",
              "      <td>1</td>\n",
              "      <td>108</td>\n",
              "      <td>NaN</td>\n",
              "      <td>EIRUNEPÉ</td>\n",
              "      <td>EIRUNEPÉ</td>\n",
              "      <td>EIRUNEPÉ</td>\n",
              "      <td>AMAZONAS</td>\n",
              "      <td>AMAZONAS</td>\n",
              "      <td>AMAZONAS</td>\n",
              "    </tr>\n",
              "    <tr>\n",
              "      <th>1400555</th>\n",
              "      <td>1</td>\n",
              "      <td>14062023</td>\n",
              "      <td>1320</td>\n",
              "      <td>815</td>\n",
              "      <td>NaN</td>\n",
              "      <td>NaN</td>\n",
              "      <td>2</td>\n",
              "      <td>NaN</td>\n",
              "      <td>NaN</td>\n",
              "      <td>NaN</td>\n",
              "      <td>...</td>\n",
              "      <td>0</td>\n",
              "      <td>1</td>\n",
              "      <td>065</td>\n",
              "      <td>NaN</td>\n",
              "      <td>JACAREACANGA</td>\n",
              "      <td>JACAREACANGA</td>\n",
              "      <td>JACAREACANGA</td>\n",
              "      <td>PARÁ</td>\n",
              "      <td>PARÁ</td>\n",
              "      <td>PARÁ</td>\n",
              "    </tr>\n",
              "    <tr>\n",
              "      <th>1400565</th>\n",
              "      <td>1</td>\n",
              "      <td>27072023</td>\n",
              "      <td>1400</td>\n",
              "      <td>816</td>\n",
              "      <td>NaN</td>\n",
              "      <td>NaN</td>\n",
              "      <td>1</td>\n",
              "      <td>NaN</td>\n",
              "      <td>NaN</td>\n",
              "      <td>NaN</td>\n",
              "      <td>...</td>\n",
              "      <td>0</td>\n",
              "      <td>1</td>\n",
              "      <td>095</td>\n",
              "      <td>NaN</td>\n",
              "      <td>OIAPOQUE</td>\n",
              "      <td>OIAPOQUE</td>\n",
              "      <td>OIAPOQUE</td>\n",
              "      <td>AMAPÁ</td>\n",
              "      <td>AMAPÁ</td>\n",
              "      <td>AMAPÁ</td>\n",
              "    </tr>\n",
              "    <tr>\n",
              "      <th>1400567</th>\n",
              "      <td>1</td>\n",
              "      <td>07082023</td>\n",
              "      <td>1000</td>\n",
              "      <td>815</td>\n",
              "      <td>NaN</td>\n",
              "      <td>NaN</td>\n",
              "      <td>2</td>\n",
              "      <td>NaN</td>\n",
              "      <td>NaN</td>\n",
              "      <td>NaN</td>\n",
              "      <td>...</td>\n",
              "      <td>0</td>\n",
              "      <td>1</td>\n",
              "      <td>050</td>\n",
              "      <td>NaN</td>\n",
              "      <td>JACAREACANGA</td>\n",
              "      <td>JACAREACANGA</td>\n",
              "      <td>JACAREACANGA</td>\n",
              "      <td>PARÁ</td>\n",
              "      <td>PARÁ</td>\n",
              "      <td>PARÁ</td>\n",
              "    </tr>\n",
              "  </tbody>\n",
              "</table>\n",
              "<p>22154 rows × 34 columns</p>\n",
              "</div>\n",
              "    <div class=\"colab-df-buttons\">\n",
              "\n",
              "  <div class=\"colab-df-container\">\n",
              "    <button class=\"colab-df-convert\" onclick=\"convertToInteractive('df-1b3f9777-4aa3-4eec-97e2-62e144e08225')\"\n",
              "            title=\"Convert this dataframe to an interactive table.\"\n",
              "            style=\"display:none;\">\n",
              "\n",
              "  <svg xmlns=\"http://www.w3.org/2000/svg\" height=\"24px\" viewBox=\"0 -960 960 960\">\n",
              "    <path d=\"M120-120v-720h720v720H120Zm60-500h600v-160H180v160Zm220 220h160v-160H400v160Zm0 220h160v-160H400v160ZM180-400h160v-160H180v160Zm440 0h160v-160H620v160ZM180-180h160v-160H180v160Zm440 0h160v-160H620v160Z\"/>\n",
              "  </svg>\n",
              "    </button>\n",
              "\n",
              "  <style>\n",
              "    .colab-df-container {\n",
              "      display:flex;\n",
              "      gap: 12px;\n",
              "    }\n",
              "\n",
              "    .colab-df-convert {\n",
              "      background-color: #E8F0FE;\n",
              "      border: none;\n",
              "      border-radius: 50%;\n",
              "      cursor: pointer;\n",
              "      display: none;\n",
              "      fill: #1967D2;\n",
              "      height: 32px;\n",
              "      padding: 0 0 0 0;\n",
              "      width: 32px;\n",
              "    }\n",
              "\n",
              "    .colab-df-convert:hover {\n",
              "      background-color: #E2EBFA;\n",
              "      box-shadow: 0px 1px 2px rgba(60, 64, 67, 0.3), 0px 1px 3px 1px rgba(60, 64, 67, 0.15);\n",
              "      fill: #174EA6;\n",
              "    }\n",
              "\n",
              "    .colab-df-buttons div {\n",
              "      margin-bottom: 4px;\n",
              "    }\n",
              "\n",
              "    [theme=dark] .colab-df-convert {\n",
              "      background-color: #3B4455;\n",
              "      fill: #D2E3FC;\n",
              "    }\n",
              "\n",
              "    [theme=dark] .colab-df-convert:hover {\n",
              "      background-color: #434B5C;\n",
              "      box-shadow: 0px 1px 3px 1px rgba(0, 0, 0, 0.15);\n",
              "      filter: drop-shadow(0px 1px 2px rgba(0, 0, 0, 0.3));\n",
              "      fill: #FFFFFF;\n",
              "    }\n",
              "  </style>\n",
              "\n",
              "    <script>\n",
              "      const buttonEl =\n",
              "        document.querySelector('#df-1b3f9777-4aa3-4eec-97e2-62e144e08225 button.colab-df-convert');\n",
              "      buttonEl.style.display =\n",
              "        google.colab.kernel.accessAllowed ? 'block' : 'none';\n",
              "\n",
              "      async function convertToInteractive(key) {\n",
              "        const element = document.querySelector('#df-1b3f9777-4aa3-4eec-97e2-62e144e08225');\n",
              "        const dataTable =\n",
              "          await google.colab.kernel.invokeFunction('convertToInteractive',\n",
              "                                                    [key], {});\n",
              "        if (!dataTable) return;\n",
              "\n",
              "        const docLinkHtml = 'Like what you see? Visit the ' +\n",
              "          '<a target=\"_blank\" href=https://colab.research.google.com/notebooks/data_table.ipynb>data table notebook</a>'\n",
              "          + ' to learn more about interactive tables.';\n",
              "        element.innerHTML = '';\n",
              "        dataTable['output_type'] = 'display_data';\n",
              "        await google.colab.output.renderOutput(dataTable, element);\n",
              "        const docLink = document.createElement('div');\n",
              "        docLink.innerHTML = docLinkHtml;\n",
              "        element.appendChild(docLink);\n",
              "      }\n",
              "    </script>\n",
              "  </div>\n",
              "\n",
              "\n",
              "<div id=\"df-fd267e42-bc8d-48f5-ad4a-c81d0a9825df\">\n",
              "  <button class=\"colab-df-quickchart\" onclick=\"quickchart('df-fd267e42-bc8d-48f5-ad4a-c81d0a9825df')\"\n",
              "            title=\"Suggest charts\"\n",
              "            style=\"display:none;\">\n",
              "\n",
              "<svg xmlns=\"http://www.w3.org/2000/svg\" height=\"24px\"viewBox=\"0 0 24 24\"\n",
              "     width=\"24px\">\n",
              "    <g>\n",
              "        <path d=\"M19 3H5c-1.1 0-2 .9-2 2v14c0 1.1.9 2 2 2h14c1.1 0 2-.9 2-2V5c0-1.1-.9-2-2-2zM9 17H7v-7h2v7zm4 0h-2V7h2v10zm4 0h-2v-4h2v4z\"/>\n",
              "    </g>\n",
              "</svg>\n",
              "  </button>\n",
              "\n",
              "<style>\n",
              "  .colab-df-quickchart {\n",
              "      --bg-color: #E8F0FE;\n",
              "      --fill-color: #1967D2;\n",
              "      --hover-bg-color: #E2EBFA;\n",
              "      --hover-fill-color: #174EA6;\n",
              "      --disabled-fill-color: #AAA;\n",
              "      --disabled-bg-color: #DDD;\n",
              "  }\n",
              "\n",
              "  [theme=dark] .colab-df-quickchart {\n",
              "      --bg-color: #3B4455;\n",
              "      --fill-color: #D2E3FC;\n",
              "      --hover-bg-color: #434B5C;\n",
              "      --hover-fill-color: #FFFFFF;\n",
              "      --disabled-bg-color: #3B4455;\n",
              "      --disabled-fill-color: #666;\n",
              "  }\n",
              "\n",
              "  .colab-df-quickchart {\n",
              "    background-color: var(--bg-color);\n",
              "    border: none;\n",
              "    border-radius: 50%;\n",
              "    cursor: pointer;\n",
              "    display: none;\n",
              "    fill: var(--fill-color);\n",
              "    height: 32px;\n",
              "    padding: 0;\n",
              "    width: 32px;\n",
              "  }\n",
              "\n",
              "  .colab-df-quickchart:hover {\n",
              "    background-color: var(--hover-bg-color);\n",
              "    box-shadow: 0 1px 2px rgba(60, 64, 67, 0.3), 0 1px 3px 1px rgba(60, 64, 67, 0.15);\n",
              "    fill: var(--button-hover-fill-color);\n",
              "  }\n",
              "\n",
              "  .colab-df-quickchart-complete:disabled,\n",
              "  .colab-df-quickchart-complete:disabled:hover {\n",
              "    background-color: var(--disabled-bg-color);\n",
              "    fill: var(--disabled-fill-color);\n",
              "    box-shadow: none;\n",
              "  }\n",
              "\n",
              "  .colab-df-spinner {\n",
              "    border: 2px solid var(--fill-color);\n",
              "    border-color: transparent;\n",
              "    border-bottom-color: var(--fill-color);\n",
              "    animation:\n",
              "      spin 1s steps(1) infinite;\n",
              "  }\n",
              "\n",
              "  @keyframes spin {\n",
              "    0% {\n",
              "      border-color: transparent;\n",
              "      border-bottom-color: var(--fill-color);\n",
              "      border-left-color: var(--fill-color);\n",
              "    }\n",
              "    20% {\n",
              "      border-color: transparent;\n",
              "      border-left-color: var(--fill-color);\n",
              "      border-top-color: var(--fill-color);\n",
              "    }\n",
              "    30% {\n",
              "      border-color: transparent;\n",
              "      border-left-color: var(--fill-color);\n",
              "      border-top-color: var(--fill-color);\n",
              "      border-right-color: var(--fill-color);\n",
              "    }\n",
              "    40% {\n",
              "      border-color: transparent;\n",
              "      border-right-color: var(--fill-color);\n",
              "      border-top-color: var(--fill-color);\n",
              "    }\n",
              "    60% {\n",
              "      border-color: transparent;\n",
              "      border-right-color: var(--fill-color);\n",
              "    }\n",
              "    80% {\n",
              "      border-color: transparent;\n",
              "      border-right-color: var(--fill-color);\n",
              "      border-bottom-color: var(--fill-color);\n",
              "    }\n",
              "    90% {\n",
              "      border-color: transparent;\n",
              "      border-bottom-color: var(--fill-color);\n",
              "    }\n",
              "  }\n",
              "</style>\n",
              "\n",
              "  <script>\n",
              "    async function quickchart(key) {\n",
              "      const quickchartButtonEl =\n",
              "        document.querySelector('#' + key + ' button');\n",
              "      quickchartButtonEl.disabled = true;  // To prevent multiple clicks.\n",
              "      quickchartButtonEl.classList.add('colab-df-spinner');\n",
              "      try {\n",
              "        const charts = await google.colab.kernel.invokeFunction(\n",
              "            'suggestCharts', [key], {});\n",
              "      } catch (error) {\n",
              "        console.error('Error during call to suggestCharts:', error);\n",
              "      }\n",
              "      quickchartButtonEl.classList.remove('colab-df-spinner');\n",
              "      quickchartButtonEl.classList.add('colab-df-quickchart-complete');\n",
              "    }\n",
              "    (() => {\n",
              "      let quickchartButtonEl =\n",
              "        document.querySelector('#df-fd267e42-bc8d-48f5-ad4a-c81d0a9825df button');\n",
              "      quickchartButtonEl.style.display =\n",
              "        google.colab.kernel.accessAllowed ? 'block' : 'none';\n",
              "    })();\n",
              "  </script>\n",
              "</div>\n",
              "    </div>\n",
              "  </div>\n"
            ],
            "application/vnd.google.colaboratory.intrinsic+json": {
              "type": "dataframe",
              "variable_name": "df_maes"
            }
          },
          "metadata": {},
          "execution_count": 134
        }
      ],
      "source": [
        "# Df de mortes relacionadas a gravidez/parto e bebês/feto\n",
        "df_maes"
      ]
    },
    {
      "cell_type": "code",
      "execution_count": null,
      "metadata": {
        "id": "SalF_099G_0b",
        "colab": {
          "base_uri": "https://localhost:8080/",
          "height": 210
        },
        "outputId": "557e9b31-d0cb-4b8c-e176-e01b7856f5cf"
      },
      "outputs": [
        {
          "output_type": "execute_result",
          "data": {
            "text/plain": [
              "  TIPOBITO   DTOBITO HORAOBITO NATURAL    DTNASC IDADE SEXO RACACOR ESTCIV  \\\n",
              "0        2  14022023      0754     827  20061951   471    1       1      2   \n",
              "2        2  14022023      0101     835  07071959   463    1       4      1   \n",
              "3        2  14022023      0120     841  02061965   457    2       1      4   \n",
              "\n",
              "  ESC  ... STDOEPIDEM STDONOVA DIFDATA TPPOS MUNICIPIO_DO_FALECIDO  \\\n",
              "0   1  ...          0        1     022     N            IBATEGUARA   \n",
              "2   3  ...          0        1     022     N                  LINS   \n",
              "3   4  ...          0        1     016     N           JACAREZINHO   \n",
              "\n",
              "      MUNICIPIO_DO_OBITO MUNICIPIO_DE_RESIDENCIA UF_MUNICIPIO_DO_FALECIDO  \\\n",
              "0  SÃO JOSÉ DO RIO PRETO   SÃO JOSÉ DO RIO PRETO                  ALAGOAS   \n",
              "2                   LINS                    LINS                SÃO PAULO   \n",
              "3                  BAURU             PEDERNEIRAS                   PARANÁ   \n",
              "\n",
              "  UF_MUNICIPIO_DO_OBITO UF_MUNICIPIO_DE_RESIDENCIA  \n",
              "0             SÃO PAULO                  SÃO PAULO  \n",
              "2             SÃO PAULO                  SÃO PAULO  \n",
              "3             SÃO PAULO                  SÃO PAULO  \n",
              "\n",
              "[3 rows x 34 columns]"
            ],
            "text/html": [
              "\n",
              "  <div id=\"df-042a88d2-c311-4db7-8774-fc8b3ae72a26\" class=\"colab-df-container\">\n",
              "    <div>\n",
              "<style scoped>\n",
              "    .dataframe tbody tr th:only-of-type {\n",
              "        vertical-align: middle;\n",
              "    }\n",
              "\n",
              "    .dataframe tbody tr th {\n",
              "        vertical-align: top;\n",
              "    }\n",
              "\n",
              "    .dataframe thead th {\n",
              "        text-align: right;\n",
              "    }\n",
              "</style>\n",
              "<table border=\"1\" class=\"dataframe\">\n",
              "  <thead>\n",
              "    <tr style=\"text-align: right;\">\n",
              "      <th></th>\n",
              "      <th>TIPOBITO</th>\n",
              "      <th>DTOBITO</th>\n",
              "      <th>HORAOBITO</th>\n",
              "      <th>NATURAL</th>\n",
              "      <th>DTNASC</th>\n",
              "      <th>IDADE</th>\n",
              "      <th>SEXO</th>\n",
              "      <th>RACACOR</th>\n",
              "      <th>ESTCIV</th>\n",
              "      <th>ESC</th>\n",
              "      <th>...</th>\n",
              "      <th>STDOEPIDEM</th>\n",
              "      <th>STDONOVA</th>\n",
              "      <th>DIFDATA</th>\n",
              "      <th>TPPOS</th>\n",
              "      <th>MUNICIPIO_DO_FALECIDO</th>\n",
              "      <th>MUNICIPIO_DO_OBITO</th>\n",
              "      <th>MUNICIPIO_DE_RESIDENCIA</th>\n",
              "      <th>UF_MUNICIPIO_DO_FALECIDO</th>\n",
              "      <th>UF_MUNICIPIO_DO_OBITO</th>\n",
              "      <th>UF_MUNICIPIO_DE_RESIDENCIA</th>\n",
              "    </tr>\n",
              "  </thead>\n",
              "  <tbody>\n",
              "    <tr>\n",
              "      <th>0</th>\n",
              "      <td>2</td>\n",
              "      <td>14022023</td>\n",
              "      <td>0754</td>\n",
              "      <td>827</td>\n",
              "      <td>20061951</td>\n",
              "      <td>471</td>\n",
              "      <td>1</td>\n",
              "      <td>1</td>\n",
              "      <td>2</td>\n",
              "      <td>1</td>\n",
              "      <td>...</td>\n",
              "      <td>0</td>\n",
              "      <td>1</td>\n",
              "      <td>022</td>\n",
              "      <td>N</td>\n",
              "      <td>IBATEGUARA</td>\n",
              "      <td>SÃO JOSÉ DO RIO PRETO</td>\n",
              "      <td>SÃO JOSÉ DO RIO PRETO</td>\n",
              "      <td>ALAGOAS</td>\n",
              "      <td>SÃO PAULO</td>\n",
              "      <td>SÃO PAULO</td>\n",
              "    </tr>\n",
              "    <tr>\n",
              "      <th>2</th>\n",
              "      <td>2</td>\n",
              "      <td>14022023</td>\n",
              "      <td>0101</td>\n",
              "      <td>835</td>\n",
              "      <td>07071959</td>\n",
              "      <td>463</td>\n",
              "      <td>1</td>\n",
              "      <td>4</td>\n",
              "      <td>1</td>\n",
              "      <td>3</td>\n",
              "      <td>...</td>\n",
              "      <td>0</td>\n",
              "      <td>1</td>\n",
              "      <td>022</td>\n",
              "      <td>N</td>\n",
              "      <td>LINS</td>\n",
              "      <td>LINS</td>\n",
              "      <td>LINS</td>\n",
              "      <td>SÃO PAULO</td>\n",
              "      <td>SÃO PAULO</td>\n",
              "      <td>SÃO PAULO</td>\n",
              "    </tr>\n",
              "    <tr>\n",
              "      <th>3</th>\n",
              "      <td>2</td>\n",
              "      <td>14022023</td>\n",
              "      <td>0120</td>\n",
              "      <td>841</td>\n",
              "      <td>02061965</td>\n",
              "      <td>457</td>\n",
              "      <td>2</td>\n",
              "      <td>1</td>\n",
              "      <td>4</td>\n",
              "      <td>4</td>\n",
              "      <td>...</td>\n",
              "      <td>0</td>\n",
              "      <td>1</td>\n",
              "      <td>016</td>\n",
              "      <td>N</td>\n",
              "      <td>JACAREZINHO</td>\n",
              "      <td>BAURU</td>\n",
              "      <td>PEDERNEIRAS</td>\n",
              "      <td>PARANÁ</td>\n",
              "      <td>SÃO PAULO</td>\n",
              "      <td>SÃO PAULO</td>\n",
              "    </tr>\n",
              "  </tbody>\n",
              "</table>\n",
              "<p>3 rows × 34 columns</p>\n",
              "</div>\n",
              "    <div class=\"colab-df-buttons\">\n",
              "\n",
              "  <div class=\"colab-df-container\">\n",
              "    <button class=\"colab-df-convert\" onclick=\"convertToInteractive('df-042a88d2-c311-4db7-8774-fc8b3ae72a26')\"\n",
              "            title=\"Convert this dataframe to an interactive table.\"\n",
              "            style=\"display:none;\">\n",
              "\n",
              "  <svg xmlns=\"http://www.w3.org/2000/svg\" height=\"24px\" viewBox=\"0 -960 960 960\">\n",
              "    <path d=\"M120-120v-720h720v720H120Zm60-500h600v-160H180v160Zm220 220h160v-160H400v160Zm0 220h160v-160H400v160ZM180-400h160v-160H180v160Zm440 0h160v-160H620v160ZM180-180h160v-160H180v160Zm440 0h160v-160H620v160Z\"/>\n",
              "  </svg>\n",
              "    </button>\n",
              "\n",
              "  <style>\n",
              "    .colab-df-container {\n",
              "      display:flex;\n",
              "      gap: 12px;\n",
              "    }\n",
              "\n",
              "    .colab-df-convert {\n",
              "      background-color: #E8F0FE;\n",
              "      border: none;\n",
              "      border-radius: 50%;\n",
              "      cursor: pointer;\n",
              "      display: none;\n",
              "      fill: #1967D2;\n",
              "      height: 32px;\n",
              "      padding: 0 0 0 0;\n",
              "      width: 32px;\n",
              "    }\n",
              "\n",
              "    .colab-df-convert:hover {\n",
              "      background-color: #E2EBFA;\n",
              "      box-shadow: 0px 1px 2px rgba(60, 64, 67, 0.3), 0px 1px 3px 1px rgba(60, 64, 67, 0.15);\n",
              "      fill: #174EA6;\n",
              "    }\n",
              "\n",
              "    .colab-df-buttons div {\n",
              "      margin-bottom: 4px;\n",
              "    }\n",
              "\n",
              "    [theme=dark] .colab-df-convert {\n",
              "      background-color: #3B4455;\n",
              "      fill: #D2E3FC;\n",
              "    }\n",
              "\n",
              "    [theme=dark] .colab-df-convert:hover {\n",
              "      background-color: #434B5C;\n",
              "      box-shadow: 0px 1px 3px 1px rgba(0, 0, 0, 0.15);\n",
              "      filter: drop-shadow(0px 1px 2px rgba(0, 0, 0, 0.3));\n",
              "      fill: #FFFFFF;\n",
              "    }\n",
              "  </style>\n",
              "\n",
              "    <script>\n",
              "      const buttonEl =\n",
              "        document.querySelector('#df-042a88d2-c311-4db7-8774-fc8b3ae72a26 button.colab-df-convert');\n",
              "      buttonEl.style.display =\n",
              "        google.colab.kernel.accessAllowed ? 'block' : 'none';\n",
              "\n",
              "      async function convertToInteractive(key) {\n",
              "        const element = document.querySelector('#df-042a88d2-c311-4db7-8774-fc8b3ae72a26');\n",
              "        const dataTable =\n",
              "          await google.colab.kernel.invokeFunction('convertToInteractive',\n",
              "                                                    [key], {});\n",
              "        if (!dataTable) return;\n",
              "\n",
              "        const docLinkHtml = 'Like what you see? Visit the ' +\n",
              "          '<a target=\"_blank\" href=https://colab.research.google.com/notebooks/data_table.ipynb>data table notebook</a>'\n",
              "          + ' to learn more about interactive tables.';\n",
              "        element.innerHTML = '';\n",
              "        dataTable['output_type'] = 'display_data';\n",
              "        await google.colab.output.renderOutput(dataTable, element);\n",
              "        const docLink = document.createElement('div');\n",
              "        docLink.innerHTML = docLinkHtml;\n",
              "        element.appendChild(docLink);\n",
              "      }\n",
              "    </script>\n",
              "  </div>\n",
              "\n",
              "\n",
              "<div id=\"df-5f849b49-7695-4f27-a167-17087c24e9e1\">\n",
              "  <button class=\"colab-df-quickchart\" onclick=\"quickchart('df-5f849b49-7695-4f27-a167-17087c24e9e1')\"\n",
              "            title=\"Suggest charts\"\n",
              "            style=\"display:none;\">\n",
              "\n",
              "<svg xmlns=\"http://www.w3.org/2000/svg\" height=\"24px\"viewBox=\"0 0 24 24\"\n",
              "     width=\"24px\">\n",
              "    <g>\n",
              "        <path d=\"M19 3H5c-1.1 0-2 .9-2 2v14c0 1.1.9 2 2 2h14c1.1 0 2-.9 2-2V5c0-1.1-.9-2-2-2zM9 17H7v-7h2v7zm4 0h-2V7h2v10zm4 0h-2v-4h2v4z\"/>\n",
              "    </g>\n",
              "</svg>\n",
              "  </button>\n",
              "\n",
              "<style>\n",
              "  .colab-df-quickchart {\n",
              "      --bg-color: #E8F0FE;\n",
              "      --fill-color: #1967D2;\n",
              "      --hover-bg-color: #E2EBFA;\n",
              "      --hover-fill-color: #174EA6;\n",
              "      --disabled-fill-color: #AAA;\n",
              "      --disabled-bg-color: #DDD;\n",
              "  }\n",
              "\n",
              "  [theme=dark] .colab-df-quickchart {\n",
              "      --bg-color: #3B4455;\n",
              "      --fill-color: #D2E3FC;\n",
              "      --hover-bg-color: #434B5C;\n",
              "      --hover-fill-color: #FFFFFF;\n",
              "      --disabled-bg-color: #3B4455;\n",
              "      --disabled-fill-color: #666;\n",
              "  }\n",
              "\n",
              "  .colab-df-quickchart {\n",
              "    background-color: var(--bg-color);\n",
              "    border: none;\n",
              "    border-radius: 50%;\n",
              "    cursor: pointer;\n",
              "    display: none;\n",
              "    fill: var(--fill-color);\n",
              "    height: 32px;\n",
              "    padding: 0;\n",
              "    width: 32px;\n",
              "  }\n",
              "\n",
              "  .colab-df-quickchart:hover {\n",
              "    background-color: var(--hover-bg-color);\n",
              "    box-shadow: 0 1px 2px rgba(60, 64, 67, 0.3), 0 1px 3px 1px rgba(60, 64, 67, 0.15);\n",
              "    fill: var(--button-hover-fill-color);\n",
              "  }\n",
              "\n",
              "  .colab-df-quickchart-complete:disabled,\n",
              "  .colab-df-quickchart-complete:disabled:hover {\n",
              "    background-color: var(--disabled-bg-color);\n",
              "    fill: var(--disabled-fill-color);\n",
              "    box-shadow: none;\n",
              "  }\n",
              "\n",
              "  .colab-df-spinner {\n",
              "    border: 2px solid var(--fill-color);\n",
              "    border-color: transparent;\n",
              "    border-bottom-color: var(--fill-color);\n",
              "    animation:\n",
              "      spin 1s steps(1) infinite;\n",
              "  }\n",
              "\n",
              "  @keyframes spin {\n",
              "    0% {\n",
              "      border-color: transparent;\n",
              "      border-bottom-color: var(--fill-color);\n",
              "      border-left-color: var(--fill-color);\n",
              "    }\n",
              "    20% {\n",
              "      border-color: transparent;\n",
              "      border-left-color: var(--fill-color);\n",
              "      border-top-color: var(--fill-color);\n",
              "    }\n",
              "    30% {\n",
              "      border-color: transparent;\n",
              "      border-left-color: var(--fill-color);\n",
              "      border-top-color: var(--fill-color);\n",
              "      border-right-color: var(--fill-color);\n",
              "    }\n",
              "    40% {\n",
              "      border-color: transparent;\n",
              "      border-right-color: var(--fill-color);\n",
              "      border-top-color: var(--fill-color);\n",
              "    }\n",
              "    60% {\n",
              "      border-color: transparent;\n",
              "      border-right-color: var(--fill-color);\n",
              "    }\n",
              "    80% {\n",
              "      border-color: transparent;\n",
              "      border-right-color: var(--fill-color);\n",
              "      border-bottom-color: var(--fill-color);\n",
              "    }\n",
              "    90% {\n",
              "      border-color: transparent;\n",
              "      border-bottom-color: var(--fill-color);\n",
              "    }\n",
              "  }\n",
              "</style>\n",
              "\n",
              "  <script>\n",
              "    async function quickchart(key) {\n",
              "      const quickchartButtonEl =\n",
              "        document.querySelector('#' + key + ' button');\n",
              "      quickchartButtonEl.disabled = true;  // To prevent multiple clicks.\n",
              "      quickchartButtonEl.classList.add('colab-df-spinner');\n",
              "      try {\n",
              "        const charts = await google.colab.kernel.invokeFunction(\n",
              "            'suggestCharts', [key], {});\n",
              "      } catch (error) {\n",
              "        console.error('Error during call to suggestCharts:', error);\n",
              "      }\n",
              "      quickchartButtonEl.classList.remove('colab-df-spinner');\n",
              "      quickchartButtonEl.classList.add('colab-df-quickchart-complete');\n",
              "    }\n",
              "    (() => {\n",
              "      let quickchartButtonEl =\n",
              "        document.querySelector('#df-5f849b49-7695-4f27-a167-17087c24e9e1 button');\n",
              "      quickchartButtonEl.style.display =\n",
              "        google.colab.kernel.accessAllowed ? 'block' : 'none';\n",
              "    })();\n",
              "  </script>\n",
              "</div>\n",
              "    </div>\n",
              "  </div>\n"
            ],
            "application/vnd.google.colaboratory.intrinsic+json": {
              "type": "dataframe",
              "variable_name": "df_morte_geral"
            }
          },
          "metadata": {},
          "execution_count": 135
        }
      ],
      "source": [
        "# Dataframe com mortes não relacionadas ao parto\n",
        "df_morte_geral.head(3)"
      ]
    },
    {
      "cell_type": "code",
      "execution_count": null,
      "metadata": {
        "id": "AoMxfuIyKdB2"
      },
      "outputs": [],
      "source": [
        "# Eliminando todos os NaN do dataframe morte_geral\n",
        "df_morte_geral.dropna(inplace=True)"
      ]
    },
    {
      "cell_type": "markdown",
      "source": [
        "Checando se funcionou:"
      ],
      "metadata": {
        "id": "4pz6W30Yy1J0"
      }
    },
    {
      "cell_type": "code",
      "execution_count": null,
      "metadata": {
        "id": "iyR7BTgQNTn1",
        "colab": {
          "base_uri": "https://localhost:8080/"
        },
        "outputId": "4d27f60a-c51c-4880-dd22-76b80eaa643a"
      },
      "outputs": [
        {
          "output_type": "execute_result",
          "data": {
            "text/plain": [
              "TIPOBITO                      False\n",
              "DTOBITO                       False\n",
              "HORAOBITO                     False\n",
              "NATURAL                       False\n",
              "DTNASC                        False\n",
              "IDADE                         False\n",
              "SEXO                          False\n",
              "RACACOR                       False\n",
              "ESTCIV                        False\n",
              "ESC                           False\n",
              "ESC2010                       False\n",
              "OCUP                          False\n",
              "LOCOCOR                       False\n",
              "ASSISTMED                     False\n",
              "NECROPSIA                     False\n",
              "LINHAA                        False\n",
              "LINHAB                        False\n",
              "CAUSABAS                      False\n",
              "DTATESTADO                    False\n",
              "DTCADASTRO                    False\n",
              "ATESTANTE                     False\n",
              "DTRECEBIM                     False\n",
              "ATESTADO                      False\n",
              "ESCFALAGR1                    False\n",
              "STDOEPIDEM                    False\n",
              "STDONOVA                      False\n",
              "DIFDATA                       False\n",
              "TPPOS                         False\n",
              "MUNICIPIO_DO_FALECIDO         False\n",
              "MUNICIPIO_DO_OBITO            False\n",
              "MUNICIPIO_DE_RESIDENCIA       False\n",
              "UF_MUNICIPIO_DO_FALECIDO      False\n",
              "UF_MUNICIPIO_DO_OBITO         False\n",
              "UF_MUNICIPIO_DE_RESIDENCIA    False\n",
              "dtype: bool"
            ]
          },
          "metadata": {},
          "execution_count": 137
        }
      ],
      "source": [
        "df_morte_geral.isnull().any()"
      ]
    },
    {
      "cell_type": "markdown",
      "source": [
        "Quantas linhas sobraram:"
      ],
      "metadata": {
        "id": "jNIQ1_NqzOiE"
      }
    },
    {
      "cell_type": "code",
      "source": [
        "df_morte_geral.shape"
      ],
      "metadata": {
        "colab": {
          "base_uri": "https://localhost:8080/"
        },
        "id": "Sbr05a7fzHNq",
        "outputId": "f7a47249-6446-4985-d5f5-8a88acddf984"
      },
      "execution_count": null,
      "outputs": [
        {
          "output_type": "execute_result",
          "data": {
            "text/plain": [
              "(367369, 34)"
            ]
          },
          "metadata": {},
          "execution_count": 138
        }
      ]
    },
    {
      "cell_type": "markdown",
      "metadata": {
        "id": "5XtLS3CCNk9J"
      },
      "source": [
        "7.2 Agora vamos analisar quantos nulos o dataframe df_maes possui. E se será possível excluir todos eles."
      ]
    },
    {
      "cell_type": "code",
      "execution_count": null,
      "metadata": {
        "id": "drBURMmTRIEN",
        "colab": {
          "base_uri": "https://localhost:8080/"
        },
        "outputId": "d7d01ed6-1259-44e9-c353-f232c5a7df25"
      },
      "outputs": [
        {
          "output_type": "execute_result",
          "data": {
            "text/plain": [
              "(22154, 34)"
            ]
          },
          "metadata": {},
          "execution_count": 139
        }
      ],
      "source": [
        "df_maes.shape"
      ]
    },
    {
      "cell_type": "code",
      "execution_count": null,
      "metadata": {
        "id": "zmiGgaSYNwyg",
        "colab": {
          "base_uri": "https://localhost:8080/"
        },
        "outputId": "e59dab21-bd63-44c0-a735-a32e667bca0c"
      },
      "outputs": [
        {
          "output_type": "execute_result",
          "data": {
            "text/plain": [
              "TIPOBITO                          0\n",
              "DTOBITO                           0\n",
              "HORAOBITO                      1096\n",
              "NATURAL                           0\n",
              "DTNASC                        22154\n",
              "IDADE                         22154\n",
              "SEXO                              0\n",
              "RACACOR                       22121\n",
              "ESTCIV                        22153\n",
              "ESC                           22153\n",
              "ESC2010                       22154\n",
              "OCUP                          22154\n",
              "LOCOCOR                           0\n",
              "ASSISTMED                      8349\n",
              "NECROPSIA                      7001\n",
              "LINHAA                          916\n",
              "LINHAB                        12806\n",
              "CAUSABAS                          0\n",
              "DTATESTADO                       31\n",
              "DTCADASTRO                        4\n",
              "ATESTANTE                      1555\n",
              "DTRECEBIM                        18\n",
              "ATESTADO                          0\n",
              "ESCFALAGR1                    22154\n",
              "STDOEPIDEM                        0\n",
              "STDONOVA                          0\n",
              "DIFDATA                           0\n",
              "TPPOS                          7011\n",
              "MUNICIPIO_DO_FALECIDO           416\n",
              "MUNICIPIO_DO_OBITO                1\n",
              "MUNICIPIO_DE_RESIDENCIA          59\n",
              "UF_MUNICIPIO_DO_FALECIDO        416\n",
              "UF_MUNICIPIO_DO_OBITO             1\n",
              "UF_MUNICIPIO_DE_RESIDENCIA       59\n",
              "dtype: int64"
            ]
          },
          "metadata": {},
          "execution_count": 140
        }
      ],
      "source": [
        "colunas_nulos_mae = df_maes.isnull().sum()\n",
        "colunas_nulos_mae"
      ]
    },
    {
      "cell_type": "markdown",
      "metadata": {
        "id": "-slAQ6eOQ-p9"
      },
      "source": [
        "**Serão excluídas:**\n",
        "\n",
        "* 'HORAOBITO',\n",
        "\n",
        "* 'DTNASC',\n",
        "\n",
        "* 'IDADE'\n",
        "\n",
        "* 'RACACOR',\n",
        "\n",
        "* 'ESTCIV',\n",
        "\n",
        "* 'ESC',\n",
        "\n",
        "* 'ESC2010',\n",
        "\n",
        "* 'OCUP',\n",
        "\n",
        "* 'DTNASC',\n",
        "\n",
        "* 'IDADE',\n",
        "\n",
        "* 'RACACOR',\n",
        "\n",
        "* 'ESTCIV',\n",
        "\n",
        "* 'ESC',\n",
        "\n",
        "* 'ESC2010',\n",
        "\n",
        "* 'OCUP',\n",
        "\n",
        "* 'LINHAB',\n",
        "\n",
        "* 'ESCFALAGR1',\n",
        "\n",
        "* 'DTATESTADO',\n",
        "\n",
        "* 'DTCADASTRO'\n",
        "\n",
        "* 'ATESTANTE',\n",
        "\n",
        "* 'DTRECEBIM',\n",
        "\n",
        "* 'MUNICIPIO_DO_FALECIDO',\n",
        "\n",
        "* 'MUNICIPIO_DE_RESIDENCIA'\n",
        "\n",
        "* 'UF_MUNICIPIO_DO_FALECIDO'\n",
        "\n",
        "* 'UF_MUNICIPIO_DE_RESIDENCIA'\n",
        "\n",
        "\n",
        "O critério utilizado para a eliminação destas colunas foi uma série de fatores como, excesso de nulos e sua impossibilidade de substituição por outros dados e colunas com códigos de controle interno do Ministério da Saúde.\n",
        "\n",
        "As colunas que contém informações sobre a data de registro, envio e cadastro do atestado de óbito também foram excluídas por não fazerem parte do nosso objetivo analisar questões profundamente burocraticas relacionadas a documentação dos óbitos ocorridos no território nacional."
      ]
    },
    {
      "cell_type": "code",
      "execution_count": null,
      "metadata": {
        "id": "vSOzBINDZI_v"
      },
      "outputs": [],
      "source": [
        "colunas_para_excluir = ['HORAOBITO', 'RACACOR', 'ESTCIV', 'ESC', 'ESC2010', 'ESC2010', 'ESC2010', 'ESC2010', 'OCUP','DTNASC', 'IDADE', 'RACACOR', 'ESTCIV', 'ESC',\n",
        "                        'ESC2010', 'OCUP', 'LINHAB', 'ESCFALAGR1', 'DTATESTADO', 'DTCADASTRO', 'ATESTANTE', 'DTRECEBIM', 'MUNICIPIO_DO_FALECIDO', 'MUNICIPIO_DE_RESIDENCIA',\n",
        "                        'UF_MUNICIPIO_DO_FALECIDO', 'UF_MUNICIPIO_DE_RESIDENCIA']"
      ]
    },
    {
      "cell_type": "markdown",
      "source": [
        "Eliminando as colunas"
      ],
      "metadata": {
        "id": "Bgs7i7ry3uBp"
      }
    },
    {
      "cell_type": "code",
      "execution_count": null,
      "metadata": {
        "id": "oGKJpUIZOhYv"
      },
      "outputs": [],
      "source": [
        "df_maes = df_maes.drop(columns=colunas_para_excluir, axis=1)"
      ]
    },
    {
      "cell_type": "markdown",
      "source": [
        "Excluindo os nulos de duas colunas importantes com poucos nulos"
      ],
      "metadata": {
        "id": "xjL8Z3uk3q8X"
      }
    },
    {
      "cell_type": "code",
      "source": [
        "df_maes.dropna(subset=['MUNICIPIO_DO_OBITO', 'UF_MUNICIPIO_DO_OBITO'], inplace=True)\n"
      ],
      "metadata": {
        "id": "jT1LuHWHoDVc"
      },
      "execution_count": null,
      "outputs": []
    },
    {
      "cell_type": "code",
      "source": [
        "df_maes.head(5)"
      ],
      "metadata": {
        "id": "IpLudg5MhSvB",
        "colab": {
          "base_uri": "https://localhost:8080/",
          "height": 261
        },
        "outputId": "6a3de682-687f-4fc5-9425-1e4d2e2b8702"
      },
      "execution_count": null,
      "outputs": [
        {
          "output_type": "execute_result",
          "data": {
            "text/plain": [
              "    TIPOBITO   DTOBITO NATURAL SEXO LOCOCOR ASSISTMED NECROPSIA LINHAA  \\\n",
              "14         1  14022023     841    1       1         1         2  *P95X   \n",
              "91         1  01012023     822    2       1         1         2  *Q899   \n",
              "92         1  01012023     822    2       1         1         2  *P209   \n",
              "146        1  01012023     813    2       3         2         2    NaN   \n",
              "209        1  01012023     833    1       1         1         2  *P964   \n",
              "\n",
              "    CAUSABAS        ATESTADO STDOEPIDEM STDONOVA DIFDATA TPPOS  \\\n",
              "14      P000   P95/P021/P000          0        1     010     N   \n",
              "91      Q899            Q899          0        1     002     N   \n",
              "92      P024  P209/P024*P000          0        1     107     S   \n",
              "146     P021      /P209/P021          0        1     302     S   \n",
              "209     Q789       P964/Q789          0        1     087     S   \n",
              "\n",
              "           MUNICIPIO_DO_OBITO UF_MUNICIPIO_DO_OBITO  \n",
              "14   SANTO ANTÔNIO DA PLATINA                PARANÁ  \n",
              "91                      PICOS                 PIAUÍ  \n",
              "92                      PICOS                 PIAUÍ  \n",
              "146      NOVA OLINDA DO NORTE              AMAZONAS  \n",
              "209            RIO DE JANEIRO        RIO DE JANEIRO  "
            ],
            "text/html": [
              "\n",
              "  <div id=\"df-78f38dd4-ecf5-4665-9ce2-795def3590ca\" class=\"colab-df-container\">\n",
              "    <div>\n",
              "<style scoped>\n",
              "    .dataframe tbody tr th:only-of-type {\n",
              "        vertical-align: middle;\n",
              "    }\n",
              "\n",
              "    .dataframe tbody tr th {\n",
              "        vertical-align: top;\n",
              "    }\n",
              "\n",
              "    .dataframe thead th {\n",
              "        text-align: right;\n",
              "    }\n",
              "</style>\n",
              "<table border=\"1\" class=\"dataframe\">\n",
              "  <thead>\n",
              "    <tr style=\"text-align: right;\">\n",
              "      <th></th>\n",
              "      <th>TIPOBITO</th>\n",
              "      <th>DTOBITO</th>\n",
              "      <th>NATURAL</th>\n",
              "      <th>SEXO</th>\n",
              "      <th>LOCOCOR</th>\n",
              "      <th>ASSISTMED</th>\n",
              "      <th>NECROPSIA</th>\n",
              "      <th>LINHAA</th>\n",
              "      <th>CAUSABAS</th>\n",
              "      <th>ATESTADO</th>\n",
              "      <th>STDOEPIDEM</th>\n",
              "      <th>STDONOVA</th>\n",
              "      <th>DIFDATA</th>\n",
              "      <th>TPPOS</th>\n",
              "      <th>MUNICIPIO_DO_OBITO</th>\n",
              "      <th>UF_MUNICIPIO_DO_OBITO</th>\n",
              "    </tr>\n",
              "  </thead>\n",
              "  <tbody>\n",
              "    <tr>\n",
              "      <th>14</th>\n",
              "      <td>1</td>\n",
              "      <td>14022023</td>\n",
              "      <td>841</td>\n",
              "      <td>1</td>\n",
              "      <td>1</td>\n",
              "      <td>1</td>\n",
              "      <td>2</td>\n",
              "      <td>*P95X</td>\n",
              "      <td>P000</td>\n",
              "      <td>P95/P021/P000</td>\n",
              "      <td>0</td>\n",
              "      <td>1</td>\n",
              "      <td>010</td>\n",
              "      <td>N</td>\n",
              "      <td>SANTO ANTÔNIO DA PLATINA</td>\n",
              "      <td>PARANÁ</td>\n",
              "    </tr>\n",
              "    <tr>\n",
              "      <th>91</th>\n",
              "      <td>1</td>\n",
              "      <td>01012023</td>\n",
              "      <td>822</td>\n",
              "      <td>2</td>\n",
              "      <td>1</td>\n",
              "      <td>1</td>\n",
              "      <td>2</td>\n",
              "      <td>*Q899</td>\n",
              "      <td>Q899</td>\n",
              "      <td>Q899</td>\n",
              "      <td>0</td>\n",
              "      <td>1</td>\n",
              "      <td>002</td>\n",
              "      <td>N</td>\n",
              "      <td>PICOS</td>\n",
              "      <td>PIAUÍ</td>\n",
              "    </tr>\n",
              "    <tr>\n",
              "      <th>92</th>\n",
              "      <td>1</td>\n",
              "      <td>01012023</td>\n",
              "      <td>822</td>\n",
              "      <td>2</td>\n",
              "      <td>1</td>\n",
              "      <td>1</td>\n",
              "      <td>2</td>\n",
              "      <td>*P209</td>\n",
              "      <td>P024</td>\n",
              "      <td>P209/P024*P000</td>\n",
              "      <td>0</td>\n",
              "      <td>1</td>\n",
              "      <td>107</td>\n",
              "      <td>S</td>\n",
              "      <td>PICOS</td>\n",
              "      <td>PIAUÍ</td>\n",
              "    </tr>\n",
              "    <tr>\n",
              "      <th>146</th>\n",
              "      <td>1</td>\n",
              "      <td>01012023</td>\n",
              "      <td>813</td>\n",
              "      <td>2</td>\n",
              "      <td>3</td>\n",
              "      <td>2</td>\n",
              "      <td>2</td>\n",
              "      <td>NaN</td>\n",
              "      <td>P021</td>\n",
              "      <td>/P209/P021</td>\n",
              "      <td>0</td>\n",
              "      <td>1</td>\n",
              "      <td>302</td>\n",
              "      <td>S</td>\n",
              "      <td>NOVA OLINDA DO NORTE</td>\n",
              "      <td>AMAZONAS</td>\n",
              "    </tr>\n",
              "    <tr>\n",
              "      <th>209</th>\n",
              "      <td>1</td>\n",
              "      <td>01012023</td>\n",
              "      <td>833</td>\n",
              "      <td>1</td>\n",
              "      <td>1</td>\n",
              "      <td>1</td>\n",
              "      <td>2</td>\n",
              "      <td>*P964</td>\n",
              "      <td>Q789</td>\n",
              "      <td>P964/Q789</td>\n",
              "      <td>0</td>\n",
              "      <td>1</td>\n",
              "      <td>087</td>\n",
              "      <td>S</td>\n",
              "      <td>RIO DE JANEIRO</td>\n",
              "      <td>RIO DE JANEIRO</td>\n",
              "    </tr>\n",
              "  </tbody>\n",
              "</table>\n",
              "</div>\n",
              "    <div class=\"colab-df-buttons\">\n",
              "\n",
              "  <div class=\"colab-df-container\">\n",
              "    <button class=\"colab-df-convert\" onclick=\"convertToInteractive('df-78f38dd4-ecf5-4665-9ce2-795def3590ca')\"\n",
              "            title=\"Convert this dataframe to an interactive table.\"\n",
              "            style=\"display:none;\">\n",
              "\n",
              "  <svg xmlns=\"http://www.w3.org/2000/svg\" height=\"24px\" viewBox=\"0 -960 960 960\">\n",
              "    <path d=\"M120-120v-720h720v720H120Zm60-500h600v-160H180v160Zm220 220h160v-160H400v160Zm0 220h160v-160H400v160ZM180-400h160v-160H180v160Zm440 0h160v-160H620v160ZM180-180h160v-160H180v160Zm440 0h160v-160H620v160Z\"/>\n",
              "  </svg>\n",
              "    </button>\n",
              "\n",
              "  <style>\n",
              "    .colab-df-container {\n",
              "      display:flex;\n",
              "      gap: 12px;\n",
              "    }\n",
              "\n",
              "    .colab-df-convert {\n",
              "      background-color: #E8F0FE;\n",
              "      border: none;\n",
              "      border-radius: 50%;\n",
              "      cursor: pointer;\n",
              "      display: none;\n",
              "      fill: #1967D2;\n",
              "      height: 32px;\n",
              "      padding: 0 0 0 0;\n",
              "      width: 32px;\n",
              "    }\n",
              "\n",
              "    .colab-df-convert:hover {\n",
              "      background-color: #E2EBFA;\n",
              "      box-shadow: 0px 1px 2px rgba(60, 64, 67, 0.3), 0px 1px 3px 1px rgba(60, 64, 67, 0.15);\n",
              "      fill: #174EA6;\n",
              "    }\n",
              "\n",
              "    .colab-df-buttons div {\n",
              "      margin-bottom: 4px;\n",
              "    }\n",
              "\n",
              "    [theme=dark] .colab-df-convert {\n",
              "      background-color: #3B4455;\n",
              "      fill: #D2E3FC;\n",
              "    }\n",
              "\n",
              "    [theme=dark] .colab-df-convert:hover {\n",
              "      background-color: #434B5C;\n",
              "      box-shadow: 0px 1px 3px 1px rgba(0, 0, 0, 0.15);\n",
              "      filter: drop-shadow(0px 1px 2px rgba(0, 0, 0, 0.3));\n",
              "      fill: #FFFFFF;\n",
              "    }\n",
              "  </style>\n",
              "\n",
              "    <script>\n",
              "      const buttonEl =\n",
              "        document.querySelector('#df-78f38dd4-ecf5-4665-9ce2-795def3590ca button.colab-df-convert');\n",
              "      buttonEl.style.display =\n",
              "        google.colab.kernel.accessAllowed ? 'block' : 'none';\n",
              "\n",
              "      async function convertToInteractive(key) {\n",
              "        const element = document.querySelector('#df-78f38dd4-ecf5-4665-9ce2-795def3590ca');\n",
              "        const dataTable =\n",
              "          await google.colab.kernel.invokeFunction('convertToInteractive',\n",
              "                                                    [key], {});\n",
              "        if (!dataTable) return;\n",
              "\n",
              "        const docLinkHtml = 'Like what you see? Visit the ' +\n",
              "          '<a target=\"_blank\" href=https://colab.research.google.com/notebooks/data_table.ipynb>data table notebook</a>'\n",
              "          + ' to learn more about interactive tables.';\n",
              "        element.innerHTML = '';\n",
              "        dataTable['output_type'] = 'display_data';\n",
              "        await google.colab.output.renderOutput(dataTable, element);\n",
              "        const docLink = document.createElement('div');\n",
              "        docLink.innerHTML = docLinkHtml;\n",
              "        element.appendChild(docLink);\n",
              "      }\n",
              "    </script>\n",
              "  </div>\n",
              "\n",
              "\n",
              "<div id=\"df-42875c74-d44e-4272-aff1-544709c2bc1e\">\n",
              "  <button class=\"colab-df-quickchart\" onclick=\"quickchart('df-42875c74-d44e-4272-aff1-544709c2bc1e')\"\n",
              "            title=\"Suggest charts\"\n",
              "            style=\"display:none;\">\n",
              "\n",
              "<svg xmlns=\"http://www.w3.org/2000/svg\" height=\"24px\"viewBox=\"0 0 24 24\"\n",
              "     width=\"24px\">\n",
              "    <g>\n",
              "        <path d=\"M19 3H5c-1.1 0-2 .9-2 2v14c0 1.1.9 2 2 2h14c1.1 0 2-.9 2-2V5c0-1.1-.9-2-2-2zM9 17H7v-7h2v7zm4 0h-2V7h2v10zm4 0h-2v-4h2v4z\"/>\n",
              "    </g>\n",
              "</svg>\n",
              "  </button>\n",
              "\n",
              "<style>\n",
              "  .colab-df-quickchart {\n",
              "      --bg-color: #E8F0FE;\n",
              "      --fill-color: #1967D2;\n",
              "      --hover-bg-color: #E2EBFA;\n",
              "      --hover-fill-color: #174EA6;\n",
              "      --disabled-fill-color: #AAA;\n",
              "      --disabled-bg-color: #DDD;\n",
              "  }\n",
              "\n",
              "  [theme=dark] .colab-df-quickchart {\n",
              "      --bg-color: #3B4455;\n",
              "      --fill-color: #D2E3FC;\n",
              "      --hover-bg-color: #434B5C;\n",
              "      --hover-fill-color: #FFFFFF;\n",
              "      --disabled-bg-color: #3B4455;\n",
              "      --disabled-fill-color: #666;\n",
              "  }\n",
              "\n",
              "  .colab-df-quickchart {\n",
              "    background-color: var(--bg-color);\n",
              "    border: none;\n",
              "    border-radius: 50%;\n",
              "    cursor: pointer;\n",
              "    display: none;\n",
              "    fill: var(--fill-color);\n",
              "    height: 32px;\n",
              "    padding: 0;\n",
              "    width: 32px;\n",
              "  }\n",
              "\n",
              "  .colab-df-quickchart:hover {\n",
              "    background-color: var(--hover-bg-color);\n",
              "    box-shadow: 0 1px 2px rgba(60, 64, 67, 0.3), 0 1px 3px 1px rgba(60, 64, 67, 0.15);\n",
              "    fill: var(--button-hover-fill-color);\n",
              "  }\n",
              "\n",
              "  .colab-df-quickchart-complete:disabled,\n",
              "  .colab-df-quickchart-complete:disabled:hover {\n",
              "    background-color: var(--disabled-bg-color);\n",
              "    fill: var(--disabled-fill-color);\n",
              "    box-shadow: none;\n",
              "  }\n",
              "\n",
              "  .colab-df-spinner {\n",
              "    border: 2px solid var(--fill-color);\n",
              "    border-color: transparent;\n",
              "    border-bottom-color: var(--fill-color);\n",
              "    animation:\n",
              "      spin 1s steps(1) infinite;\n",
              "  }\n",
              "\n",
              "  @keyframes spin {\n",
              "    0% {\n",
              "      border-color: transparent;\n",
              "      border-bottom-color: var(--fill-color);\n",
              "      border-left-color: var(--fill-color);\n",
              "    }\n",
              "    20% {\n",
              "      border-color: transparent;\n",
              "      border-left-color: var(--fill-color);\n",
              "      border-top-color: var(--fill-color);\n",
              "    }\n",
              "    30% {\n",
              "      border-color: transparent;\n",
              "      border-left-color: var(--fill-color);\n",
              "      border-top-color: var(--fill-color);\n",
              "      border-right-color: var(--fill-color);\n",
              "    }\n",
              "    40% {\n",
              "      border-color: transparent;\n",
              "      border-right-color: var(--fill-color);\n",
              "      border-top-color: var(--fill-color);\n",
              "    }\n",
              "    60% {\n",
              "      border-color: transparent;\n",
              "      border-right-color: var(--fill-color);\n",
              "    }\n",
              "    80% {\n",
              "      border-color: transparent;\n",
              "      border-right-color: var(--fill-color);\n",
              "      border-bottom-color: var(--fill-color);\n",
              "    }\n",
              "    90% {\n",
              "      border-color: transparent;\n",
              "      border-bottom-color: var(--fill-color);\n",
              "    }\n",
              "  }\n",
              "</style>\n",
              "\n",
              "  <script>\n",
              "    async function quickchart(key) {\n",
              "      const quickchartButtonEl =\n",
              "        document.querySelector('#' + key + ' button');\n",
              "      quickchartButtonEl.disabled = true;  // To prevent multiple clicks.\n",
              "      quickchartButtonEl.classList.add('colab-df-spinner');\n",
              "      try {\n",
              "        const charts = await google.colab.kernel.invokeFunction(\n",
              "            'suggestCharts', [key], {});\n",
              "      } catch (error) {\n",
              "        console.error('Error during call to suggestCharts:', error);\n",
              "      }\n",
              "      quickchartButtonEl.classList.remove('colab-df-spinner');\n",
              "      quickchartButtonEl.classList.add('colab-df-quickchart-complete');\n",
              "    }\n",
              "    (() => {\n",
              "      let quickchartButtonEl =\n",
              "        document.querySelector('#df-42875c74-d44e-4272-aff1-544709c2bc1e button');\n",
              "      quickchartButtonEl.style.display =\n",
              "        google.colab.kernel.accessAllowed ? 'block' : 'none';\n",
              "    })();\n",
              "  </script>\n",
              "</div>\n",
              "    </div>\n",
              "  </div>\n"
            ],
            "application/vnd.google.colaboratory.intrinsic+json": {
              "type": "dataframe",
              "variable_name": "df_maes",
              "summary": "{\n  \"name\": \"df_maes\",\n  \"rows\": 22153,\n  \"fields\": [\n    {\n      \"column\": \"TIPOBITO\",\n      \"properties\": {\n        \"dtype\": \"category\",\n        \"num_unique_values\": 1,\n        \"samples\": [\n          \"1\"\n        ],\n        \"semantic_type\": \"\",\n        \"description\": \"\"\n      }\n    },\n    {\n      \"column\": \"DTOBITO\",\n      \"properties\": {\n        \"dtype\": \"category\",\n        \"num_unique_values\": 365,\n        \"samples\": [\n          \"13072023\"\n        ],\n        \"semantic_type\": \"\",\n        \"description\": \"\"\n      }\n    },\n    {\n      \"column\": \"NATURAL\",\n      \"properties\": {\n        \"dtype\": \"category\",\n        \"num_unique_values\": 27,\n        \"samples\": [\n          \"842\"\n        ],\n        \"semantic_type\": \"\",\n        \"description\": \"\"\n      }\n    },\n    {\n      \"column\": \"SEXO\",\n      \"properties\": {\n        \"dtype\": \"category\",\n        \"num_unique_values\": 3,\n        \"samples\": [\n          \"1\"\n        ],\n        \"semantic_type\": \"\",\n        \"description\": \"\"\n      }\n    },\n    {\n      \"column\": \"LOCOCOR\",\n      \"properties\": {\n        \"dtype\": \"category\",\n        \"num_unique_values\": 7,\n        \"samples\": [\n          \"1\"\n        ],\n        \"semantic_type\": \"\",\n        \"description\": \"\"\n      }\n    },\n    {\n      \"column\": \"ASSISTMED\",\n      \"properties\": {\n        \"dtype\": \"category\",\n        \"num_unique_values\": 3,\n        \"samples\": [\n          \"1\"\n        ],\n        \"semantic_type\": \"\",\n        \"description\": \"\"\n      }\n    },\n    {\n      \"column\": \"NECROPSIA\",\n      \"properties\": {\n        \"dtype\": \"category\",\n        \"num_unique_values\": 3,\n        \"samples\": [\n          \"2\"\n        ],\n        \"semantic_type\": \"\",\n        \"description\": \"\"\n      }\n    },\n    {\n      \"column\": \"LINHAA\",\n      \"properties\": {\n        \"dtype\": \"category\",\n        \"num_unique_values\": 258,\n        \"samples\": [\n          \"*P070\"\n        ],\n        \"semantic_type\": \"\",\n        \"description\": \"\"\n      }\n    },\n    {\n      \"column\": \"CAUSABAS\",\n      \"properties\": {\n        \"dtype\": \"category\",\n        \"num_unique_values\": 223,\n        \"samples\": [\n          \"P95\"\n        ],\n        \"semantic_type\": \"\",\n        \"description\": \"\"\n      }\n    },\n    {\n      \"column\": \"ATESTADO\",\n      \"properties\": {\n        \"dtype\": \"category\",\n        \"num_unique_values\": 5312,\n        \"samples\": [\n          \"P201/P700\"\n        ],\n        \"semantic_type\": \"\",\n        \"description\": \"\"\n      }\n    },\n    {\n      \"column\": \"STDOEPIDEM\",\n      \"properties\": {\n        \"dtype\": \"category\",\n        \"num_unique_values\": 1,\n        \"samples\": [\n          \"0\"\n        ],\n        \"semantic_type\": \"\",\n        \"description\": \"\"\n      }\n    },\n    {\n      \"column\": \"STDONOVA\",\n      \"properties\": {\n        \"dtype\": \"category\",\n        \"num_unique_values\": 1,\n        \"samples\": [\n          \"1\"\n        ],\n        \"semantic_type\": \"\",\n        \"description\": \"\"\n      }\n    },\n    {\n      \"column\": \"DIFDATA\",\n      \"properties\": {\n        \"dtype\": \"category\",\n        \"num_unique_values\": 351,\n        \"samples\": [\n          \"070\"\n        ],\n        \"semantic_type\": \"\",\n        \"description\": \"\"\n      }\n    },\n    {\n      \"column\": \"TPPOS\",\n      \"properties\": {\n        \"dtype\": \"category\",\n        \"num_unique_values\": 2,\n        \"samples\": [\n          \"S\"\n        ],\n        \"semantic_type\": \"\",\n        \"description\": \"\"\n      }\n    },\n    {\n      \"column\": \"MUNICIPIO_DO_OBITO\",\n      \"properties\": {\n        \"dtype\": \"category\",\n        \"num_unique_values\": 1655,\n        \"samples\": [\n          \"ALTO PARNA\\u00cdBA\"\n        ],\n        \"semantic_type\": \"\",\n        \"description\": \"\"\n      }\n    },\n    {\n      \"column\": \"UF_MUNICIPIO_DO_OBITO\",\n      \"properties\": {\n        \"dtype\": \"category\",\n        \"num_unique_values\": 27,\n        \"samples\": [\n          \"SANTA CATARINA\"\n        ],\n        \"semantic_type\": \"\",\n        \"description\": \"\"\n      }\n    }\n  ]\n}"
            }
          },
          "metadata": {},
          "execution_count": 144
        }
      ]
    },
    {
      "cell_type": "markdown",
      "source": [
        "Verificando o tamanho final do dataframe"
      ],
      "metadata": {
        "id": "kkxr_7Vv3xIz"
      }
    },
    {
      "cell_type": "code",
      "source": [
        "df_maes.shape"
      ],
      "metadata": {
        "id": "2Va_aGb8iqlR",
        "colab": {
          "base_uri": "https://localhost:8080/"
        },
        "outputId": "cd236743-5ca0-4ed7-e2b5-effb917c0784"
      },
      "execution_count": null,
      "outputs": [
        {
          "output_type": "execute_result",
          "data": {
            "text/plain": [
              "(22153, 16)"
            ]
          },
          "metadata": {},
          "execution_count": 145
        }
      ]
    },
    {
      "cell_type": "markdown",
      "source": [
        "Verificando quantos nulos ainda restam no dataframe maes"
      ],
      "metadata": {
        "id": "AD2_Z1rc33Eb"
      }
    },
    {
      "cell_type": "code",
      "source": [
        "df_maes.isnull().sum()"
      ],
      "metadata": {
        "id": "zNZliXrZlauT",
        "colab": {
          "base_uri": "https://localhost:8080/"
        },
        "outputId": "9759e54b-facd-4c02-8cb7-a7aa44d06c1e"
      },
      "execution_count": null,
      "outputs": [
        {
          "output_type": "execute_result",
          "data": {
            "text/plain": [
              "TIPOBITO                    0\n",
              "DTOBITO                     0\n",
              "NATURAL                     0\n",
              "SEXO                        0\n",
              "LOCOCOR                     0\n",
              "ASSISTMED                8348\n",
              "NECROPSIA                7000\n",
              "LINHAA                    916\n",
              "CAUSABAS                    0\n",
              "ATESTADO                    0\n",
              "STDOEPIDEM                  0\n",
              "STDONOVA                    0\n",
              "DIFDATA                     0\n",
              "TPPOS                    7011\n",
              "MUNICIPIO_DO_OBITO          0\n",
              "UF_MUNICIPIO_DO_OBITO       0\n",
              "dtype: int64"
            ]
          },
          "metadata": {},
          "execution_count": 146
        }
      ]
    },
    {
      "cell_type": "markdown",
      "source": [
        "Quanto às colunas restantes vamos abordar o problema dos nulos de forma mais individualizada. Analisar o valor de cada uma delas e substituir os valores nulos por outros. Como veremos a seguir:\n",
        "\n",
        "**LINHAA** --> CAUSABAS --> LINHAA receberá o valor da coluna CAUSABAS correspondente;\n",
        "\n",
        "**ASSISTMED** --> 9 (ignorado)\n",
        "\n",
        "**NECROPSIA** --> 9 (ignorado)\n",
        "\n",
        "**TPPOS** --> 9 (ignorado) e substituir os S por 1 e N por 2\n",
        "\n",
        "No caso da coluna TPPOS, o dicionário do dataframe, fornecido pelo Ministério da Saúde, descreve os dados como sendo numéricos (1 - sim) e (2 - não) e (9 - ignorado), porém, encontramos apenas dados categóricos nominais.\n",
        "\n",
        "Resolvemos modificá-los para numéricos porque precisamos substituir os dados nulos pelo número (9 - ignorado) - um valor usado em todo o dataframe para representar uma informação desconhecida, não fornecida ou impertinente ao caso - deixando a coluna inteira com apenas um tipo de dado.\n",
        "\n",
        "Além disso, se no futuro quisermos utilizar estes dados para treinar um modelo de machine learning os valores numéricos serão estritamente necessários."
      ],
      "metadata": {
        "id": "BCz7N2Toi2F2"
      }
    },
    {
      "cell_type": "code",
      "source": [
        "# Preenchendo os valores nulos de LINHAA com CAUSABAS\n",
        "df_maes['LINHAA'] = df_maes['LINHAA'].fillna(df_maes['CAUSABAS'])"
      ],
      "metadata": {
        "id": "fK2F0_NItpJh"
      },
      "execution_count": null,
      "outputs": []
    },
    {
      "cell_type": "code",
      "source": [
        "# Preenchendo os valores nulos com 9\n",
        "df_maes[['ASSISTMED', 'NECROPSIA', 'TPPOS']] = df_maes[['ASSISTMED', 'NECROPSIA', 'TPPOS']].fillna(9)"
      ],
      "metadata": {
        "id": "9ekyFj270FlH"
      },
      "execution_count": null,
      "outputs": []
    },
    {
      "cell_type": "code",
      "source": [
        "# Substituindo o S e N por 1 e 2\n",
        "df_maes['TPPOS'] = df_maes['TPPOS'].replace({'S': 1, 'N': 2})"
      ],
      "metadata": {
        "id": "Jo0cy3HN1iy_"
      },
      "execution_count": null,
      "outputs": []
    },
    {
      "cell_type": "markdown",
      "source": [
        "Checando os resultados:"
      ],
      "metadata": {
        "id": "uNP7FrO81p-9"
      }
    },
    {
      "cell_type": "code",
      "source": [
        "# Verificando nulos\n",
        "df_maes.isnull().sum()"
      ],
      "metadata": {
        "id": "V0GZn7GJ1ufc",
        "colab": {
          "base_uri": "https://localhost:8080/"
        },
        "outputId": "e3107282-76f2-4538-eb46-252c8524e627"
      },
      "execution_count": null,
      "outputs": [
        {
          "output_type": "execute_result",
          "data": {
            "text/plain": [
              "TIPOBITO                 0\n",
              "DTOBITO                  0\n",
              "NATURAL                  0\n",
              "SEXO                     0\n",
              "LOCOCOR                  0\n",
              "ASSISTMED                0\n",
              "NECROPSIA                0\n",
              "LINHAA                   0\n",
              "CAUSABAS                 0\n",
              "ATESTADO                 0\n",
              "STDOEPIDEM               0\n",
              "STDONOVA                 0\n",
              "DIFDATA                  0\n",
              "TPPOS                    0\n",
              "MUNICIPIO_DO_OBITO       0\n",
              "UF_MUNICIPIO_DO_OBITO    0\n",
              "dtype: int64"
            ]
          },
          "metadata": {},
          "execution_count": 150
        }
      ]
    },
    {
      "cell_type": "code",
      "source": [
        "# Verificando se os dados foram substituídos corretamente\n",
        "df_maes[['ASSISTMED', 'NECROPSIA', 'TPPOS']]"
      ],
      "metadata": {
        "id": "VLv8h4oK1jxk",
        "colab": {
          "base_uri": "https://localhost:8080/",
          "height": 423
        },
        "outputId": "f16ebe43-cce2-49e2-dad6-53ca86ff2d43"
      },
      "execution_count": null,
      "outputs": [
        {
          "output_type": "execute_result",
          "data": {
            "text/plain": [
              "        ASSISTMED NECROPSIA  TPPOS\n",
              "14              1         2      2\n",
              "91              1         2      2\n",
              "92              1         2      1\n",
              "146             2         2      1\n",
              "209             1         2      1\n",
              "...           ...       ...    ...\n",
              "1400546         1         2      9\n",
              "1400554         2         2      9\n",
              "1400555         2         2      9\n",
              "1400565         2         2      9\n",
              "1400567         2         2      9\n",
              "\n",
              "[22153 rows x 3 columns]"
            ],
            "text/html": [
              "\n",
              "  <div id=\"df-fd5fbd05-1f4a-4208-8027-0fc582e62c37\" class=\"colab-df-container\">\n",
              "    <div>\n",
              "<style scoped>\n",
              "    .dataframe tbody tr th:only-of-type {\n",
              "        vertical-align: middle;\n",
              "    }\n",
              "\n",
              "    .dataframe tbody tr th {\n",
              "        vertical-align: top;\n",
              "    }\n",
              "\n",
              "    .dataframe thead th {\n",
              "        text-align: right;\n",
              "    }\n",
              "</style>\n",
              "<table border=\"1\" class=\"dataframe\">\n",
              "  <thead>\n",
              "    <tr style=\"text-align: right;\">\n",
              "      <th></th>\n",
              "      <th>ASSISTMED</th>\n",
              "      <th>NECROPSIA</th>\n",
              "      <th>TPPOS</th>\n",
              "    </tr>\n",
              "  </thead>\n",
              "  <tbody>\n",
              "    <tr>\n",
              "      <th>14</th>\n",
              "      <td>1</td>\n",
              "      <td>2</td>\n",
              "      <td>2</td>\n",
              "    </tr>\n",
              "    <tr>\n",
              "      <th>91</th>\n",
              "      <td>1</td>\n",
              "      <td>2</td>\n",
              "      <td>2</td>\n",
              "    </tr>\n",
              "    <tr>\n",
              "      <th>92</th>\n",
              "      <td>1</td>\n",
              "      <td>2</td>\n",
              "      <td>1</td>\n",
              "    </tr>\n",
              "    <tr>\n",
              "      <th>146</th>\n",
              "      <td>2</td>\n",
              "      <td>2</td>\n",
              "      <td>1</td>\n",
              "    </tr>\n",
              "    <tr>\n",
              "      <th>209</th>\n",
              "      <td>1</td>\n",
              "      <td>2</td>\n",
              "      <td>1</td>\n",
              "    </tr>\n",
              "    <tr>\n",
              "      <th>...</th>\n",
              "      <td>...</td>\n",
              "      <td>...</td>\n",
              "      <td>...</td>\n",
              "    </tr>\n",
              "    <tr>\n",
              "      <th>1400546</th>\n",
              "      <td>1</td>\n",
              "      <td>2</td>\n",
              "      <td>9</td>\n",
              "    </tr>\n",
              "    <tr>\n",
              "      <th>1400554</th>\n",
              "      <td>2</td>\n",
              "      <td>2</td>\n",
              "      <td>9</td>\n",
              "    </tr>\n",
              "    <tr>\n",
              "      <th>1400555</th>\n",
              "      <td>2</td>\n",
              "      <td>2</td>\n",
              "      <td>9</td>\n",
              "    </tr>\n",
              "    <tr>\n",
              "      <th>1400565</th>\n",
              "      <td>2</td>\n",
              "      <td>2</td>\n",
              "      <td>9</td>\n",
              "    </tr>\n",
              "    <tr>\n",
              "      <th>1400567</th>\n",
              "      <td>2</td>\n",
              "      <td>2</td>\n",
              "      <td>9</td>\n",
              "    </tr>\n",
              "  </tbody>\n",
              "</table>\n",
              "<p>22153 rows × 3 columns</p>\n",
              "</div>\n",
              "    <div class=\"colab-df-buttons\">\n",
              "\n",
              "  <div class=\"colab-df-container\">\n",
              "    <button class=\"colab-df-convert\" onclick=\"convertToInteractive('df-fd5fbd05-1f4a-4208-8027-0fc582e62c37')\"\n",
              "            title=\"Convert this dataframe to an interactive table.\"\n",
              "            style=\"display:none;\">\n",
              "\n",
              "  <svg xmlns=\"http://www.w3.org/2000/svg\" height=\"24px\" viewBox=\"0 -960 960 960\">\n",
              "    <path d=\"M120-120v-720h720v720H120Zm60-500h600v-160H180v160Zm220 220h160v-160H400v160Zm0 220h160v-160H400v160ZM180-400h160v-160H180v160Zm440 0h160v-160H620v160ZM180-180h160v-160H180v160Zm440 0h160v-160H620v160Z\"/>\n",
              "  </svg>\n",
              "    </button>\n",
              "\n",
              "  <style>\n",
              "    .colab-df-container {\n",
              "      display:flex;\n",
              "      gap: 12px;\n",
              "    }\n",
              "\n",
              "    .colab-df-convert {\n",
              "      background-color: #E8F0FE;\n",
              "      border: none;\n",
              "      border-radius: 50%;\n",
              "      cursor: pointer;\n",
              "      display: none;\n",
              "      fill: #1967D2;\n",
              "      height: 32px;\n",
              "      padding: 0 0 0 0;\n",
              "      width: 32px;\n",
              "    }\n",
              "\n",
              "    .colab-df-convert:hover {\n",
              "      background-color: #E2EBFA;\n",
              "      box-shadow: 0px 1px 2px rgba(60, 64, 67, 0.3), 0px 1px 3px 1px rgba(60, 64, 67, 0.15);\n",
              "      fill: #174EA6;\n",
              "    }\n",
              "\n",
              "    .colab-df-buttons div {\n",
              "      margin-bottom: 4px;\n",
              "    }\n",
              "\n",
              "    [theme=dark] .colab-df-convert {\n",
              "      background-color: #3B4455;\n",
              "      fill: #D2E3FC;\n",
              "    }\n",
              "\n",
              "    [theme=dark] .colab-df-convert:hover {\n",
              "      background-color: #434B5C;\n",
              "      box-shadow: 0px 1px 3px 1px rgba(0, 0, 0, 0.15);\n",
              "      filter: drop-shadow(0px 1px 2px rgba(0, 0, 0, 0.3));\n",
              "      fill: #FFFFFF;\n",
              "    }\n",
              "  </style>\n",
              "\n",
              "    <script>\n",
              "      const buttonEl =\n",
              "        document.querySelector('#df-fd5fbd05-1f4a-4208-8027-0fc582e62c37 button.colab-df-convert');\n",
              "      buttonEl.style.display =\n",
              "        google.colab.kernel.accessAllowed ? 'block' : 'none';\n",
              "\n",
              "      async function convertToInteractive(key) {\n",
              "        const element = document.querySelector('#df-fd5fbd05-1f4a-4208-8027-0fc582e62c37');\n",
              "        const dataTable =\n",
              "          await google.colab.kernel.invokeFunction('convertToInteractive',\n",
              "                                                    [key], {});\n",
              "        if (!dataTable) return;\n",
              "\n",
              "        const docLinkHtml = 'Like what you see? Visit the ' +\n",
              "          '<a target=\"_blank\" href=https://colab.research.google.com/notebooks/data_table.ipynb>data table notebook</a>'\n",
              "          + ' to learn more about interactive tables.';\n",
              "        element.innerHTML = '';\n",
              "        dataTable['output_type'] = 'display_data';\n",
              "        await google.colab.output.renderOutput(dataTable, element);\n",
              "        const docLink = document.createElement('div');\n",
              "        docLink.innerHTML = docLinkHtml;\n",
              "        element.appendChild(docLink);\n",
              "      }\n",
              "    </script>\n",
              "  </div>\n",
              "\n",
              "\n",
              "<div id=\"df-c88932ce-2009-436e-80e3-38269fb51136\">\n",
              "  <button class=\"colab-df-quickchart\" onclick=\"quickchart('df-c88932ce-2009-436e-80e3-38269fb51136')\"\n",
              "            title=\"Suggest charts\"\n",
              "            style=\"display:none;\">\n",
              "\n",
              "<svg xmlns=\"http://www.w3.org/2000/svg\" height=\"24px\"viewBox=\"0 0 24 24\"\n",
              "     width=\"24px\">\n",
              "    <g>\n",
              "        <path d=\"M19 3H5c-1.1 0-2 .9-2 2v14c0 1.1.9 2 2 2h14c1.1 0 2-.9 2-2V5c0-1.1-.9-2-2-2zM9 17H7v-7h2v7zm4 0h-2V7h2v10zm4 0h-2v-4h2v4z\"/>\n",
              "    </g>\n",
              "</svg>\n",
              "  </button>\n",
              "\n",
              "<style>\n",
              "  .colab-df-quickchart {\n",
              "      --bg-color: #E8F0FE;\n",
              "      --fill-color: #1967D2;\n",
              "      --hover-bg-color: #E2EBFA;\n",
              "      --hover-fill-color: #174EA6;\n",
              "      --disabled-fill-color: #AAA;\n",
              "      --disabled-bg-color: #DDD;\n",
              "  }\n",
              "\n",
              "  [theme=dark] .colab-df-quickchart {\n",
              "      --bg-color: #3B4455;\n",
              "      --fill-color: #D2E3FC;\n",
              "      --hover-bg-color: #434B5C;\n",
              "      --hover-fill-color: #FFFFFF;\n",
              "      --disabled-bg-color: #3B4455;\n",
              "      --disabled-fill-color: #666;\n",
              "  }\n",
              "\n",
              "  .colab-df-quickchart {\n",
              "    background-color: var(--bg-color);\n",
              "    border: none;\n",
              "    border-radius: 50%;\n",
              "    cursor: pointer;\n",
              "    display: none;\n",
              "    fill: var(--fill-color);\n",
              "    height: 32px;\n",
              "    padding: 0;\n",
              "    width: 32px;\n",
              "  }\n",
              "\n",
              "  .colab-df-quickchart:hover {\n",
              "    background-color: var(--hover-bg-color);\n",
              "    box-shadow: 0 1px 2px rgba(60, 64, 67, 0.3), 0 1px 3px 1px rgba(60, 64, 67, 0.15);\n",
              "    fill: var(--button-hover-fill-color);\n",
              "  }\n",
              "\n",
              "  .colab-df-quickchart-complete:disabled,\n",
              "  .colab-df-quickchart-complete:disabled:hover {\n",
              "    background-color: var(--disabled-bg-color);\n",
              "    fill: var(--disabled-fill-color);\n",
              "    box-shadow: none;\n",
              "  }\n",
              "\n",
              "  .colab-df-spinner {\n",
              "    border: 2px solid var(--fill-color);\n",
              "    border-color: transparent;\n",
              "    border-bottom-color: var(--fill-color);\n",
              "    animation:\n",
              "      spin 1s steps(1) infinite;\n",
              "  }\n",
              "\n",
              "  @keyframes spin {\n",
              "    0% {\n",
              "      border-color: transparent;\n",
              "      border-bottom-color: var(--fill-color);\n",
              "      border-left-color: var(--fill-color);\n",
              "    }\n",
              "    20% {\n",
              "      border-color: transparent;\n",
              "      border-left-color: var(--fill-color);\n",
              "      border-top-color: var(--fill-color);\n",
              "    }\n",
              "    30% {\n",
              "      border-color: transparent;\n",
              "      border-left-color: var(--fill-color);\n",
              "      border-top-color: var(--fill-color);\n",
              "      border-right-color: var(--fill-color);\n",
              "    }\n",
              "    40% {\n",
              "      border-color: transparent;\n",
              "      border-right-color: var(--fill-color);\n",
              "      border-top-color: var(--fill-color);\n",
              "    }\n",
              "    60% {\n",
              "      border-color: transparent;\n",
              "      border-right-color: var(--fill-color);\n",
              "    }\n",
              "    80% {\n",
              "      border-color: transparent;\n",
              "      border-right-color: var(--fill-color);\n",
              "      border-bottom-color: var(--fill-color);\n",
              "    }\n",
              "    90% {\n",
              "      border-color: transparent;\n",
              "      border-bottom-color: var(--fill-color);\n",
              "    }\n",
              "  }\n",
              "</style>\n",
              "\n",
              "  <script>\n",
              "    async function quickchart(key) {\n",
              "      const quickchartButtonEl =\n",
              "        document.querySelector('#' + key + ' button');\n",
              "      quickchartButtonEl.disabled = true;  // To prevent multiple clicks.\n",
              "      quickchartButtonEl.classList.add('colab-df-spinner');\n",
              "      try {\n",
              "        const charts = await google.colab.kernel.invokeFunction(\n",
              "            'suggestCharts', [key], {});\n",
              "      } catch (error) {\n",
              "        console.error('Error during call to suggestCharts:', error);\n",
              "      }\n",
              "      quickchartButtonEl.classList.remove('colab-df-spinner');\n",
              "      quickchartButtonEl.classList.add('colab-df-quickchart-complete');\n",
              "    }\n",
              "    (() => {\n",
              "      let quickchartButtonEl =\n",
              "        document.querySelector('#df-c88932ce-2009-436e-80e3-38269fb51136 button');\n",
              "      quickchartButtonEl.style.display =\n",
              "        google.colab.kernel.accessAllowed ? 'block' : 'none';\n",
              "    })();\n",
              "  </script>\n",
              "</div>\n",
              "    </div>\n",
              "  </div>\n"
            ],
            "application/vnd.google.colaboratory.intrinsic+json": {
              "type": "dataframe",
              "summary": "{\n  \"name\": \"df_maes[['ASSISTMED', 'NECROPSIA', 'TPPOS']]\",\n  \"rows\": 22153,\n  \"fields\": [\n    {\n      \"column\": \"ASSISTMED\",\n      \"properties\": {\n        \"dtype\": \"category\",\n        \"num_unique_values\": 4,\n        \"samples\": [\n          \"2\",\n          9,\n          \"1\"\n        ],\n        \"semantic_type\": \"\",\n        \"description\": \"\"\n      }\n    },\n    {\n      \"column\": \"NECROPSIA\",\n      \"properties\": {\n        \"dtype\": \"category\",\n        \"num_unique_values\": 4,\n        \"samples\": [\n          \"1\",\n          \"9\",\n          \"2\"\n        ],\n        \"semantic_type\": \"\",\n        \"description\": \"\"\n      }\n    },\n    {\n      \"column\": \"TPPOS\",\n      \"properties\": {\n        \"dtype\": \"number\",\n        \"std\": 3,\n        \"min\": 1,\n        \"max\": 9,\n        \"num_unique_values\": 3,\n        \"samples\": [\n          2,\n          1,\n          9\n        ],\n        \"semantic_type\": \"\",\n        \"description\": \"\"\n      }\n    }\n  ]\n}"
            }
          },
          "metadata": {},
          "execution_count": 151
        }
      ]
    },
    {
      "cell_type": "markdown",
      "metadata": {
        "id": "fTSMAo6i0n9e"
      },
      "source": [
        "###7. Análise dos dados\n",
        "\n",
        "Até esse momento ocorreu o estudo introdutório sobre os dados e a devida limpeza (eliminação dos dados nulos e das colunas pouco relevantes para o escopo do projeto). Nessa etapa, ocorrerá a análise dos dados.\n",
        "\n",
        "Primeiro, será analisado o data frame df_morte_geral que trata sobre as mortes gerais (óbito não fetal). Depois, ocorrerá a análise do data frame df_maes que trata sobre os óbitos fetais."
      ]
    },
    {
      "cell_type": "markdown",
      "source": [
        "**7.1 Análise das Mortes Gerais (Data Frame df_morte_geral)**"
      ],
      "metadata": {
        "id": "9zm_hUOAiXUV"
      }
    },
    {
      "cell_type": "markdown",
      "metadata": {
        "id": "ahDlLk-adLzP"
      },
      "source": [
        "**Column**            -->    **Descrição**    -->     **Dtype**         \n",
        "------------                 ---------------            -------         \n",
        "\n",
        " **TIPOBITO** -->             Tipo do óbito  -->        object\n",
        "\n",
        " **DTOBITO**  -->             Data em que occoreu o óbito --> datetime64\n",
        "\n",
        " **HORAOBITO** -->            Hora do óbito --> object  \n",
        "\n",
        " **NATURAL**   -->            País e Unidade da Federação onde falecido nasceu --> object\n",
        "\n",
        " **DTNASC**   -->            Data do nascimento do falecido --> object     \n",
        "\n",
        " **IDADE** -->  Idade do falecido em minutos, horas, dias, meses ou anos  --> object\n",
        "\n",
        " **SEXO**     -->             Sexo do falecido  --> object   \n",
        "\n",
        " **RACACOR**    -->           367369 non-null  --> object  \n",
        "\n",
        " **ESTCIV**   -->             Situação conjugal do falecido  --> object        \n",
        "\n",
        " **ESC**      -->             Escolaridade em anos de estudo  --> object        \n",
        "\n",
        " **ESC2010**     -->         Escolaridade 2010. Nível da última série concluída pelo falecido  --> object  \n",
        "\n",
        " **OCUP** -->                 Tipo de trabalho que o falecido desenvolveu  --> object\n",
        "\n",
        " **LOCOCOR**  -->           Local de ocorrência do óbito  --> object\n",
        "\n",
        " **ASSISTMED** -->         Se refere ao atendimento médico continuado que o paciente recebeu, ou não,\n",
        "durante a enfermidade que ocasionou o óbito  --> object\n",
        "\n",
        " **NECROPSIA** -->         Refere-se a execução ou não de necropsia para confirmação do diagnóstico  --> object  \n",
        "\n",
        " **LINHAA**    -->         CIDs informados na Linha A da DO  --> object   \n",
        "\n",
        " **LINHAB**    -->         CIDs informados na Linha B da DO  --> object    \n",
        "\n",
        " **CAUSABAS**  -->            Causa básica da DO  --> object   \n",
        "\n",
        " **DTATESTADO**  -->         Data do Atestado  --> object   \n",
        "\n",
        " **DTCADASTRO**  -->         Data do cadastro do óbito  --> object      \n",
        "\n",
        " **ATESTANTE**   -->         Indica se o medico que assina atendeu o paciente  --> object\n",
        "\n",
        " **DTRECEBIM**   -->         Data do recebimento  --> object  \n",
        "\n",
        " **ATESTADO**   -->         CIDs informados no atestado  --> object\n",
        "\n",
        "**ESCFALAGR1**  -->          Escolaridade\n",
        "do falecido agregada (formulário a partir de 2010)  --> object\n",
        "\n",
        " **STDOEPIDEM** -->          Status de DO Epidemiológica  --> object\n",
        "\n",
        " **STDONOVA**   -->          Status de DO Nova  --> object  \n",
        "\n",
        " **DIFDATA**    -->          Diferença entre a data de óbito e data do recebimento original da DO  --> object\n",
        "\n",
        " **TPPOS**      -->          Óbito investigado  --> object  \n",
        "\n",
        " **MUNICIPIO_DO_FALECIDO** --> Município de naturalidade do falecido  --> object  \n",
        "\n",
        " **MUNICIPIO_DO_OBITO**  -->   Relativo ao município onde ocorreu o óbito  --> object  \n",
        "\n",
        " **MUNICIPIO_DE_RESIDENCIA** --> Município de residência. Em caso de óbito fetal, considerar o município de residência da mãe  --> object  \n",
        "\n",
        " **UF_MUNICIPIO_DO_FALECIDO** --> Estado do município de naturalidade do falecido --> object\n",
        "\n",
        "**UF_MUNICIPIO_DO_OBITO** --> Estado relativo ao município onde ocorreu o óbito --> object\n",
        "\n",
        "**UF_MUNICIPIO_DE_RESIDENCIA** --> Estado do município de residência do falecido. Em caso de óbito fetal, considerar o município de residência da mãe --> object"
      ]
    },
    {
      "cell_type": "markdown",
      "metadata": {
        "id": "G4nGJZfI48Kj"
      },
      "source": [
        "Com a finalidade de melhorar o entendimento sobre os dados, segue uma breve análise - explicação sobre o conceito de cada coluna, e a análise de cada coluna correlacionada com os seus devidos códigos. Também ocorrerão algumas análises cruzadas entre as colunas e serão expostas algumas visualizações.\n",
        "\n",
        "\n"
      ]
    },
    {
      "cell_type": "markdown",
      "metadata": {
        "id": "6Of_SvVwXug3"
      },
      "source": [
        "**ANÁLISE CONCEITUAL DA COLUNA Tipo Óbito**\n",
        "\n",
        "  A primeira coluna a ser analisada é a coluna Tipo Óbito.\n",
        "1. Tipo Óbito:  Há dois tipos de dados.\n",
        "\n",
        "**Óbito fetal :** morte antes da expulsão ou da extração completa do corpo da Mãe, independentemente da duração da gravidez. Indica o óbito o fato de o feto, depois da expulsão do corpo materno, não respirar nem apresentar nenhum outro sinal de vida,como batimentos do coração, pulsações do cordão umbilical ou movimentos efetivos dos músculos de contração voluntária. (1-Fetal);\n",
        "\n",
        "**óbito não fetal**: (2-Não Fetal)\n",
        "\n",
        "Devido a divisão dos dados em dois data frames: óbito fetal e não fetal, nesse momento apenas serão visualizados e analisados os óbitos não fetais. Como pode ser visualizado abaixo, 100 % dos dados são dos óbitos não fetais (tipo 2). E o número absoluto de mortes não fetais em 2023 foi 367.369.\n"
      ]
    },
    {
      "cell_type": "code",
      "execution_count": null,
      "metadata": {
        "id": "54mUQsF6j4Oc"
      },
      "outputs": [],
      "source": [
        "df_morte_geral_copy = df_morte_geral.copy(deep=True)"
      ]
    },
    {
      "cell_type": "code",
      "execution_count": null,
      "metadata": {
        "id": "LhjTuoqt7-25",
        "colab": {
          "base_uri": "https://localhost:8080/",
          "height": 81
        },
        "outputId": "5399649b-5a4b-45a9-d4d0-cee8732c0e6a"
      },
      "outputs": [
        {
          "output_type": "execute_result",
          "data": {
            "text/plain": [
              "  Valores  Contagem  Percentual (%)\n",
              "0       2    367369           100.0"
            ],
            "text/html": [
              "\n",
              "  <div id=\"df-da8dac39-ca64-492d-b1c7-a169056c3290\" class=\"colab-df-container\">\n",
              "    <div>\n",
              "<style scoped>\n",
              "    .dataframe tbody tr th:only-of-type {\n",
              "        vertical-align: middle;\n",
              "    }\n",
              "\n",
              "    .dataframe tbody tr th {\n",
              "        vertical-align: top;\n",
              "    }\n",
              "\n",
              "    .dataframe thead th {\n",
              "        text-align: right;\n",
              "    }\n",
              "</style>\n",
              "<table border=\"1\" class=\"dataframe\">\n",
              "  <thead>\n",
              "    <tr style=\"text-align: right;\">\n",
              "      <th></th>\n",
              "      <th>Valores</th>\n",
              "      <th>Contagem</th>\n",
              "      <th>Percentual (%)</th>\n",
              "    </tr>\n",
              "  </thead>\n",
              "  <tbody>\n",
              "    <tr>\n",
              "      <th>0</th>\n",
              "      <td>2</td>\n",
              "      <td>367369</td>\n",
              "      <td>100.0</td>\n",
              "    </tr>\n",
              "  </tbody>\n",
              "</table>\n",
              "</div>\n",
              "    <div class=\"colab-df-buttons\">\n",
              "\n",
              "  <div class=\"colab-df-container\">\n",
              "    <button class=\"colab-df-convert\" onclick=\"convertToInteractive('df-da8dac39-ca64-492d-b1c7-a169056c3290')\"\n",
              "            title=\"Convert this dataframe to an interactive table.\"\n",
              "            style=\"display:none;\">\n",
              "\n",
              "  <svg xmlns=\"http://www.w3.org/2000/svg\" height=\"24px\" viewBox=\"0 -960 960 960\">\n",
              "    <path d=\"M120-120v-720h720v720H120Zm60-500h600v-160H180v160Zm220 220h160v-160H400v160Zm0 220h160v-160H400v160ZM180-400h160v-160H180v160Zm440 0h160v-160H620v160ZM180-180h160v-160H180v160Zm440 0h160v-160H620v160Z\"/>\n",
              "  </svg>\n",
              "    </button>\n",
              "\n",
              "  <style>\n",
              "    .colab-df-container {\n",
              "      display:flex;\n",
              "      gap: 12px;\n",
              "    }\n",
              "\n",
              "    .colab-df-convert {\n",
              "      background-color: #E8F0FE;\n",
              "      border: none;\n",
              "      border-radius: 50%;\n",
              "      cursor: pointer;\n",
              "      display: none;\n",
              "      fill: #1967D2;\n",
              "      height: 32px;\n",
              "      padding: 0 0 0 0;\n",
              "      width: 32px;\n",
              "    }\n",
              "\n",
              "    .colab-df-convert:hover {\n",
              "      background-color: #E2EBFA;\n",
              "      box-shadow: 0px 1px 2px rgba(60, 64, 67, 0.3), 0px 1px 3px 1px rgba(60, 64, 67, 0.15);\n",
              "      fill: #174EA6;\n",
              "    }\n",
              "\n",
              "    .colab-df-buttons div {\n",
              "      margin-bottom: 4px;\n",
              "    }\n",
              "\n",
              "    [theme=dark] .colab-df-convert {\n",
              "      background-color: #3B4455;\n",
              "      fill: #D2E3FC;\n",
              "    }\n",
              "\n",
              "    [theme=dark] .colab-df-convert:hover {\n",
              "      background-color: #434B5C;\n",
              "      box-shadow: 0px 1px 3px 1px rgba(0, 0, 0, 0.15);\n",
              "      filter: drop-shadow(0px 1px 2px rgba(0, 0, 0, 0.3));\n",
              "      fill: #FFFFFF;\n",
              "    }\n",
              "  </style>\n",
              "\n",
              "    <script>\n",
              "      const buttonEl =\n",
              "        document.querySelector('#df-da8dac39-ca64-492d-b1c7-a169056c3290 button.colab-df-convert');\n",
              "      buttonEl.style.display =\n",
              "        google.colab.kernel.accessAllowed ? 'block' : 'none';\n",
              "\n",
              "      async function convertToInteractive(key) {\n",
              "        const element = document.querySelector('#df-da8dac39-ca64-492d-b1c7-a169056c3290');\n",
              "        const dataTable =\n",
              "          await google.colab.kernel.invokeFunction('convertToInteractive',\n",
              "                                                    [key], {});\n",
              "        if (!dataTable) return;\n",
              "\n",
              "        const docLinkHtml = 'Like what you see? Visit the ' +\n",
              "          '<a target=\"_blank\" href=https://colab.research.google.com/notebooks/data_table.ipynb>data table notebook</a>'\n",
              "          + ' to learn more about interactive tables.';\n",
              "        element.innerHTML = '';\n",
              "        dataTable['output_type'] = 'display_data';\n",
              "        await google.colab.output.renderOutput(dataTable, element);\n",
              "        const docLink = document.createElement('div');\n",
              "        docLink.innerHTML = docLinkHtml;\n",
              "        element.appendChild(docLink);\n",
              "      }\n",
              "    </script>\n",
              "  </div>\n",
              "\n",
              "    </div>\n",
              "  </div>\n"
            ],
            "application/vnd.google.colaboratory.intrinsic+json": {
              "type": "dataframe",
              "variable_name": "resultados",
              "summary": "{\n  \"name\": \"resultados\",\n  \"rows\": 1,\n  \"fields\": [\n    {\n      \"column\": \"Valores\",\n      \"properties\": {\n        \"dtype\": \"string\",\n        \"num_unique_values\": 1,\n        \"samples\": [\n          \"2\"\n        ],\n        \"semantic_type\": \"\",\n        \"description\": \"\"\n      }\n    },\n    {\n      \"column\": \"Contagem\",\n      \"properties\": {\n        \"dtype\": \"number\",\n        \"std\": null,\n        \"min\": 367369,\n        \"max\": 367369,\n        \"num_unique_values\": 1,\n        \"samples\": [\n          367369\n        ],\n        \"semantic_type\": \"\",\n        \"description\": \"\"\n      }\n    },\n    {\n      \"column\": \"Percentual (%)\",\n      \"properties\": {\n        \"dtype\": \"number\",\n        \"std\": null,\n        \"min\": 100.0,\n        \"max\": 100.0,\n        \"num_unique_values\": 1,\n        \"samples\": [\n          100.0\n        ],\n        \"semantic_type\": \"\",\n        \"description\": \"\"\n      }\n    }\n  ]\n}"
            }
          },
          "metadata": {},
          "execution_count": 153
        }
      ],
      "source": [
        "df_morte_geral_copy.head(50)\n",
        "contagem_valores = df_morte_geral_copy['TIPOBITO'].value_counts()\n",
        "percentual_valores = contagem_valores / len(df_morte_geral_copy) * 100\n",
        "resultados = pd.DataFrame({'Valores': contagem_valores.index, 'Contagem': contagem_valores.values, 'Percentual (%)': percentual_valores.values})\n",
        "resultados"
      ]
    },
    {
      "cell_type": "markdown",
      "metadata": {
        "id": "JaozxXk7ArS5"
      },
      "source": [
        "**ANÁLISE CONCEITUAL DAS COLUNAS:**\n",
        "\n",
        "A coluna **DTOBITO** - demonstra a data em que ocoreu o óbito (data no padrão ddmmaaaa).\n",
        "\n",
        "A coluna **HORAOBITO** - explicita a hora em que ocorreu a morte. O padrão seguido é o de 24 horas 00:00.\n",
        "\n",
        "A coluna **Natural** - informa o País e a Unidade da Federação onde o falecido nasceu. Quando é estrangeiro informa o País. A referência é sempre em Números.\n",
        "\n",
        "A coluna **DTNASC** - demonstra a data de nascimento do falecido. Em caso de óbito fetal as datas de óbito e nascimento deverão ser iguais.A data está no padrão ddmmaaaa.\n",
        "\n",
        "A coluna **IDADE** - trata sobre a idade do falecido em minutos, horas, dias, meses ou anos. A referência é a seguinte: a idade está  composta de dois subcampos. O primeiro, de 1 dígito, indica a unidade da idade (se 1 = minuto, se 2 = hora, se 3 = mês, se 4 = ano, se = 5 idade maior que 100 anos). O segundo, de dois dígitos, indica a quantidade de unidades: Idade menor de 1 hora: subcampo varia de 01 e 59 (minutos); De 1 a 23 Horas:subcampo varia de 01 a 23 (horas); De 24 horas e 29 dias: subcampo varia de 01 a 29 (dias); De 1 a menos de 12 meses completos: subcampo varia de 01 a 11 (meses); Anos - subcampo varia de 00 a 99; - 9 - ignorado).\n",
        "\n",
        "\n",
        "\n",
        "\n"
      ]
    },
    {
      "cell_type": "markdown",
      "metadata": {
        "id": "ZTgymKpHHhHA"
      },
      "source": [
        "**ESTUDO DA MORTALIDADE COM BASE NO PERÍODO**\n",
        "\n",
        "Nessa etapa será determinada a data com o maior número de mortes e o mês com a maior quantidade de mortos."
      ]
    },
    {
      "cell_type": "code",
      "execution_count": null,
      "metadata": {
        "id": "xHg18aMFgD9h",
        "colab": {
          "base_uri": "https://localhost:8080/"
        },
        "outputId": "b068ee91-b743-4c44-a5d7-ec7666a1ff66"
      },
      "outputs": [
        {
          "output_type": "stream",
          "name": "stdout",
          "text": [
            "DTOBITO\n",
            "2023-06-18    1253\n",
            "2023-11-18    1226\n",
            "2023-06-30    1224\n",
            "2023-06-24    1223\n",
            "2023-06-20    1201\n",
            "              ... \n",
            "2023-12-27     179\n",
            "2023-12-28     103\n",
            "2023-12-29     102\n",
            "2023-12-30     101\n",
            "2023-12-31     100\n",
            "Name: count, Length: 365, dtype: int64\n",
            "A data com o maior número de mortes é: 2023-06-18 00:00:00\n"
          ]
        }
      ],
      "source": [
        "# 1. Converter a coluna de datas para o tipo datetime, especificando o formato \"dia mês ano\"\n",
        "df_morte_geral_copy['DTOBITO'] = pd.to_datetime(df_morte_geral_copy['DTOBITO'], format='%d%m%Y')\n",
        "\n",
        "# 2. Contar o número de mortes em cada data\n",
        "contagem_por_data = df_morte_geral_copy['DTOBITO'].value_counts()\n",
        "print(contagem_por_data)\n",
        "\n",
        "# 3. Encontrar a data com o maior número de mortes\n",
        "data_mais_frequente = contagem_por_data.idxmax()\n",
        "\n",
        "print(\"A data com o maior número de mortes é:\", data_mais_frequente)\n"
      ]
    },
    {
      "cell_type": "markdown",
      "metadata": {
        "id": "82hklwzieTZx"
      },
      "source": [
        "Como visto acima, a data com o maior número de mortes é 18 de junho de 2023 (1253 mortes). Também foram determinadas as datas com os maiores números de mortes em ordem decrescente. Uma análise desse tipo permite visualizar quais períodos do ano ocorrem mais mortes e as medidas necessárias para mitigá-las, principalmente se ocorrer o cruzamento entre as colunas \"DTOBITO\" (data do óbito) e \"LINHAA\" (causa da morte)."
      ]
    },
    {
      "cell_type": "code",
      "execution_count": null,
      "metadata": {
        "id": "JpcN2Ue7ipU3",
        "colab": {
          "base_uri": "https://localhost:8080/"
        },
        "outputId": "a6c1fad9-0c48-4f56-d9b5-b96993d47a7a"
      },
      "outputs": [
        {
          "output_type": "stream",
          "name": "stdout",
          "text": [
            "Número de mortes por mes:\n",
            "MÊS\n",
            "1     31010\n",
            "2     27660\n",
            "3     32263\n",
            "4     31767\n",
            "5     34605\n",
            "6     34766\n",
            "7     35004\n",
            "8     32424\n",
            "9     31487\n",
            "10    30975\n",
            "11    29782\n",
            "12    15626\n",
            "dtype: int64\n",
            "\n",
            "O mês com mais mortes é o mês número: 7\n"
          ]
        }
      ],
      "source": [
        "# O número de mortes por mês e o mês com maior número de mortos\n",
        "# 1. Converta a coluna de datas para o tipo datetime, especificando o formato \"diamesano\"\n",
        "df_morte_geral_copy.loc[:, 'DTOBITO'] = pd.to_datetime(df_morte_geral_copy['DTOBITO'], format='%d%m%Y')\n",
        "\n",
        "# 2. Extraia o mês de cada data\n",
        "df_morte_geral_copy.loc[:, 'MÊS'] = df_morte_geral_copy['DTOBITO'].dt.month\n",
        "\n",
        "# 3. Agrupe por mês, e some o número de mortes\n",
        "total_mortes_por_mes = df_morte_geral_copy.groupby('MÊS').size()\n",
        "\n",
        "# 4. Encontre o mês com o maior número total de mortes\n",
        "mes_max_mortes = total_mortes_por_mes.idxmax()\n",
        "\n",
        "# 5. Imprima o número de mortes por mês\n",
        "print(\"Número de mortes por mes:\")\n",
        "print(total_mortes_por_mes)\n",
        "\n",
        "#6. Imprima o mês com maior número total de mortes\n",
        "print(\"\\nO mês com mais mortes é o mês número:\", mes_max_mortes)\n"
      ]
    },
    {
      "cell_type": "markdown",
      "metadata": {
        "id": "9dr3Lp4ZwV6V"
      },
      "source": [
        "O mês com o maior número de mortos foi 7 (julho). E quando comparado com os demais meses do ano, percebe-se que não ocorreu uma grande disparidade, exceto com o mês de dezembro. Os números do mês de dezembro parecem \"outlier\" (dado que se desvia significativamente do restante dos dados em um conjunto), devido a sua divergência significativa."
      ]
    },
    {
      "cell_type": "markdown",
      "metadata": {
        "id": "E9QryT8purLA"
      },
      "source": [
        "**ESTUDO DA MORTALIDADE COM BASE NO CRITÉRIO IDADE**\n",
        "\n",
        "Nessa etapa haverá o estudo sobre mortalidade, com base no critério idade."
      ]
    },
    {
      "cell_type": "code",
      "execution_count": null,
      "metadata": {
        "id": "ynKYhwPVxCkY",
        "colab": {
          "base_uri": "https://localhost:8080/"
        },
        "outputId": "2a7c3d40-032f-4746-f4a3-5675b2476350"
      },
      "outputs": [
        {
          "output_type": "stream",
          "name": "stdout",
          "text": [
            "A mediana da idade das pessoas que morreram no ano de 2023:\n",
            "472.0\n",
            "\n",
            "A mediana da idade das pessoas que morreram por mês é:\n",
            "Mensal\n",
            "2023-01    471.0\n",
            "2023-02    471.0\n",
            "2023-03    471.0\n",
            "2023-04    471.0\n",
            "2023-05    471.0\n",
            "2023-06    472.0\n",
            "2023-07    472.0\n",
            "2023-08    472.0\n",
            "2023-09    472.0\n",
            "2023-10    472.0\n",
            "2023-11    472.0\n",
            "2023-12    472.0\n",
            "Freq: M, Name: IDADE, dtype: object\n"
          ]
        }
      ],
      "source": [
        "#codigo que determina a idade mediana das pessoas que morreram no ano de 2023, e por mês\n",
        "\n",
        "# periodo: Mês\n",
        "df_morte_geral_copy.loc[:,'Anual'] = pd.to_datetime(df_morte_geral_copy['DTOBITO']).dt.to_period('A')\n",
        "df_morte_geral_copy.loc[:,'Mensal'] = pd.to_datetime(df_morte_geral_copy['DTOBITO']).dt.to_period('M')\n",
        "\n",
        "# 1. Calcule a mediana da idade das pessoas que morreram em cada mês e ano\n",
        "mediana_idade_anual = df_morte_geral_copy['IDADE'].median()\n",
        "mediana_idade_mensal = df_morte_geral_copy.groupby('Mensal')['IDADE'].median()\n",
        "\n",
        "# 2. Imprima a mediana da idade das pessoas que morreram no ano de 2023\n",
        "print(\"A mediana da idade das pessoas que morreram no ano de 2023:\")\n",
        "print(mediana_idade_anual)\n",
        "\n",
        "# 2. Imprima a mediana da idade por mês\n",
        "print(\"\\nA mediana da idade das pessoas que morreram por mês é:\")\n",
        "print(mediana_idade_mensal)"
      ]
    },
    {
      "cell_type": "markdown",
      "metadata": {
        "id": "NUok6CfM5tUF"
      },
      "source": [
        "Após a aplicação desse código e do estudo estatítico da mediana, é possível inferir que as pessoas morreram no ano de 2023 com a idade mediana de 72 anos. Também foi exposto a mediana das mortes por mês, como observado acima. O critério mediana é importante porque aponta a tendência típica de idade do brasileiro, excluindo os extremos: por exemplo, as poucas pessoas com mais de 100 anos."
      ]
    },
    {
      "cell_type": "markdown",
      "metadata": {
        "id": "zw9p4qQNvnMt"
      },
      "source": [
        "**ESTUDO DA MORTALIDADE COM BASE NO CRITÉRIO SEXO**\n",
        "\n",
        "Nessa etapa haverá o estudo sobre mortalidade, com base no critério SEXO."
      ]
    },
    {
      "cell_type": "markdown",
      "metadata": {
        "id": "S5Oaf5B46zuU"
      },
      "source": [
        "A coluna SEXO [6] significa Sexo do falecido. O termo “Ignorado” é determinado em casos especiais como cadáveres mutilados, em estado avançado de decomposição, genitália indefinida ou\n",
        "hermafroditismo. (M – masculino; F – feminino; I - ignorado)"
      ]
    },
    {
      "cell_type": "code",
      "execution_count": null,
      "metadata": {
        "id": "ZCWkhZkg6iG3",
        "colab": {
          "base_uri": "https://localhost:8080/"
        },
        "outputId": "3db1f9d7-b41f-40f9-f6de-32b774726ea9"
      },
      "outputs": [
        {
          "output_type": "stream",
          "name": "stdout",
          "text": [
            "SEXO\n",
            "1    196381\n",
            "2    170975\n",
            "0        13\n",
            "Name: count, dtype: int64\n"
          ]
        }
      ],
      "source": [
        "# Contagem de mortos de acordo com o sexo Masculino e Feminino\n",
        "\n",
        "contagem_por_sexo = df_morte_geral_copy['SEXO'].value_counts()\n",
        "\n",
        "print(contagem_por_sexo)"
      ]
    },
    {
      "cell_type": "markdown",
      "metadata": {
        "id": "a_JQBUpn_iVz"
      },
      "source": [
        "**Limitação da análise :** O dicionário não esclareceu como o  critério sexo masculino, feminino e ignorado está relacionado com os números 1, 2 e 0. Contudo, se seguirmos as tendência dos outros conceitos, que seguiu a numeração pela ordem exposta do critério quantitativo: masculino é 1, feminino é 2, e ignorado é 0. Devido ao pouco tempo de pesquisa, não foi possível contactar os pesquisadores para dirimir tal problema, o que em um estudo mais longo seria de essencial importancia.\n",
        "Caso a análise siga a tendência dos outros conceitos, no ano de 2023 ocorreu mais morte de homens [196.381], depois de mulheres [170.975] e por fim do termo ignorado [13]."
      ]
    },
    {
      "cell_type": "markdown",
      "metadata": {
        "id": "1dRIhD2fyzDu"
      },
      "source": [
        "**ESTUDO DA MORTALIDADE COM BASE NO CRITÉRIO RAÇA/COR**\n",
        "\n",
        "Nessa etapa haverá o estudo sobre mortalidade, com base no critério Raça/cor.\n",
        "\n"
      ]
    },
    {
      "cell_type": "markdown",
      "metadata": {
        "id": "fUPdktPs_ry_"
      },
      "source": [
        "A coluna RACACOR [7] foi informada pelo responsável pelas informações do falecido. O padrão é: 1 – Branco; 2– Preto; 3 – Amarelo; 4 – Pardo; 5 –Indígena.\n"
      ]
    },
    {
      "cell_type": "code",
      "execution_count": null,
      "metadata": {
        "id": "is52H51pAoXy",
        "colab": {
          "base_uri": "https://localhost:8080/"
        },
        "outputId": "7d4927b5-eb4a-429a-cde2-d6240b54c0e0"
      },
      "outputs": [
        {
          "output_type": "stream",
          "name": "stdout",
          "text": [
            "RACACOR\n",
            "1    216452\n",
            "4    120503\n",
            "2     27279\n",
            "3      2024\n",
            "5      1111\n",
            "Name: count, dtype: int64\n"
          ]
        }
      ],
      "source": [
        "contagem_por_racacor = df_morte_geral_copy['RACACOR'].value_counts()\n",
        "\n",
        "print(contagem_por_racacor)"
      ]
    },
    {
      "cell_type": "markdown",
      "metadata": {
        "id": "f3HZSJazBW3a"
      },
      "source": [
        "O maior número de mortos no ano de 2023, com base no critério raça/cor foram de brancos (216.452), seguido de pardos (120.503), pretos (27.279), amarelos( 2.024) e indígenas (1.111)."
      ]
    },
    {
      "cell_type": "markdown",
      "source": [
        "Gráfico de mortes por raça e cor:"
      ],
      "metadata": {
        "id": "VRtATL5K-XZp"
      }
    },
    {
      "cell_type": "code",
      "source": [
        "# Contagem de mortes por raça/cor\n",
        "contagem_por_racacor = {\n",
        "    \"Brancos\": 216452,\n",
        "    \"Pretos\": 27279,\n",
        "    \"Amarelos\": 2024,\n",
        "    \"Pardos\": 120503,\n",
        "    \"Indígenas\": 1111\n",
        "}\n",
        "\n",
        "# Extrai os rótulos e contagens\n",
        "labels = contagem_por_racacor.keys()\n",
        "sizes = contagem_por_racacor.values()\n",
        "\n",
        "# Define cores para as barras\n",
        "cores = ['blue', 'orange', 'green', 'red', 'purple']\n",
        "\n",
        "# Cria o gráfico de barras\n",
        "plt.figure(figsize=(10, 6))\n",
        "bars = plt.bar(labels, sizes, color=cores)\n",
        "\n",
        "# Adiciona rótulos aos eixos e um título\n",
        "plt.xlabel('Raça/Cor')\n",
        "plt.ylabel('Número de Mortes (milhares)')\n",
        "plt.title('Mortes por Raça/Cor')\n",
        "\n",
        "# Ajusta a escala do eixo y para incluir os valores totais de mortes\n",
        "plt.yticks(np.arange(0, max(sizes) + 20000, 10000), [f'{val/1000:.0f}' for val in np.arange(0, max(sizes) + 20000, 10000)])\n",
        "\n",
        "# Adiciona a porcentagem total no topo de cada barra\n",
        "for bar in bars:\n",
        "    height = bar.get_height()\n",
        "    plt.text(bar.get_x() + bar.get_width() / 2, height + 5000, f'{height / sum(sizes) * 100:.1f}%', ha='center', va='bottom')\n",
        "\n",
        "# Exibe o gráfico\n",
        "plt.show()\n"
      ],
      "metadata": {
        "colab": {
          "base_uri": "https://localhost:8080/",
          "height": 565
        },
        "id": "9nCMqs23Hjzx",
        "outputId": "9c535bd7-d6cc-4c33-ce34-ff6b2168dd66"
      },
      "execution_count": null,
      "outputs": [
        {
          "output_type": "display_data",
          "data": {
            "text/plain": [
              "<Figure size 1000x600 with 1 Axes>"
            ],
            "image/png": "[encoded data removed]"
          },
          "metadata": {}
        }
      ]
    },
    {
      "cell_type": "markdown",
      "metadata": {
        "id": "q-_Zi-zn1E-s"
      },
      "source": [
        "Conforme exposto no gráfico acima, cerca de 58.9 % das pessoas mortas foram brancas, 32,8 % pardas, 7,4 % pretas, 0.6 % amarelas e 0.3 % indígenas."
      ]
    },
    {
      "cell_type": "markdown",
      "metadata": {
        "id": "XWaqqxsC2IJS"
      },
      "source": [
        "**ESTUDO DA MORTALIDADE COM BASE NO CRITÉRIO ESTADO CIVIL**\n",
        "\n",
        "Nessa etapa haverá o estudo sobre mortalidade, com base no critério Estado Civil"
      ]
    },
    {
      "cell_type": "markdown",
      "metadata": {
        "id": "WLY1x9StEfZn"
      },
      "source": [
        "A coluna ESTCIV [8] demonstra a situação conjugal do falecido, informada pelos familiares  (1 – Solteiro; 2–Casado; 3 – Viúvo; 4 – Separado judicialmente/divorciado; 5 – União estável; 9 – Ignorado).\n"
      ]
    },
    {
      "cell_type": "code",
      "execution_count": null,
      "metadata": {
        "id": "dC0PnXG1Eg_6",
        "colab": {
          "base_uri": "https://localhost:8080/"
        },
        "outputId": "945fa0c4-ee8d-4b8d-e86e-7df191dbd71e"
      },
      "outputs": [
        {
          "output_type": "stream",
          "name": "stdout",
          "text": [
            "ESTCIV\n",
            "2    123692\n",
            "3     95374\n",
            "1     93555\n",
            "4     31212\n",
            "5     11926\n",
            "9     11610\n",
            "Name: count, dtype: int64\n"
          ]
        }
      ],
      "source": [
        "contagem_por_estado_civil = df_morte_geral_copy['ESTCIV'].value_counts()\n",
        "\n",
        "print(contagem_por_estado_civil)"
      ]
    },
    {
      "cell_type": "markdown",
      "metadata": {
        "id": "YWtA5QfYRqi8"
      },
      "source": [
        "Diante dos resultados expostos, em 2023 a ordem de mortes com base na situação conjugal foram: casados (123.692), viúvos (95.374), solteiros (93.555), separados judicialmente ou divorciados (31.212), união estável (11926) e por fim, ignorada tal informação (11.610)."
      ]
    },
    {
      "cell_type": "markdown",
      "metadata": {
        "id": "YPGejSIP3dDk"
      },
      "source": [
        "**ESTUDO DA MORTALIDADE COM BASE NO CRITÉRIO ESCOLARIDADE EM ANOS**\n",
        "\n",
        "Nessa etapa haverá o estudo sobre mortalidade, com base no critério escolaridade em anos."
      ]
    },
    {
      "cell_type": "markdown",
      "metadata": {
        "id": "SfNOF_9hR7qA"
      },
      "source": [
        "A coluna ESC [9] trata sobre a escolaridade em anos. A referência é a seguinte: 1 –Nenhuma; 2 – de 1 a 3 anos; 3 – de 4 a 7 anos; 4 – de 8 a 11 anos; 5 – 12 anos e mais; 9 – Ignorado.\n"
      ]
    },
    {
      "cell_type": "code",
      "execution_count": null,
      "metadata": {
        "id": "Kg6dH_bgSSUs",
        "colab": {
          "base_uri": "https://localhost:8080/"
        },
        "outputId": "151cc24f-ad96-45d3-8a1d-62add650fce2"
      },
      "outputs": [
        {
          "output_type": "stream",
          "name": "stdout",
          "text": [
            "ESC\n",
            "3    105885\n",
            "4     84586\n",
            "2     62655\n",
            "1     53983\n",
            "9     34138\n",
            "5     26122\n",
            "Name: count, dtype: int64\n"
          ]
        }
      ],
      "source": [
        "# contagem em valores absolutos da escolaridade em anos\n",
        "contagem_por_escolaridade = df_morte_geral_copy['ESC'].value_counts()\n",
        "\n",
        "print(contagem_por_escolaridade)"
      ]
    },
    {
      "cell_type": "code",
      "source": [
        "\n",
        "# contagem em valores percentuais da escolaridade em anos\n",
        "contagem_por_escolaridade = df_morte_geral_copy['ESC'].value_counts()\n",
        "\n",
        "# Calcula o total de ocorrências\n",
        "total_ocorrencias = contagem_por_escolaridade.sum()\n",
        "\n",
        "# Calcula a porcentagem de cada valor de escolaridade\n",
        "porcentagem_por_escolaridade = (contagem_por_escolaridade / total_ocorrencias) * 100\n",
        "\n",
        "print(porcentagem_por_escolaridade)"
      ],
      "metadata": {
        "id": "YjYYPOI2Y6qZ",
        "colab": {
          "base_uri": "https://localhost:8080/"
        },
        "outputId": "c10a470e-29ed-466e-b039-22b38da2b2d9"
      },
      "execution_count": null,
      "outputs": [
        {
          "output_type": "stream",
          "name": "stdout",
          "text": [
            "ESC\n",
            "3    28.822519\n",
            "4    23.024806\n",
            "2    17.055059\n",
            "1    14.694490\n",
            "9     9.292564\n",
            "5     7.110562\n",
            "Name: count, dtype: float64\n"
          ]
        }
      ]
    },
    {
      "cell_type": "markdown",
      "metadata": {
        "id": "lXF60NNkSfcs"
      },
      "source": [
        "Diante dos resultados expostos acima, é possível determinar: 105.885 pessoas têm de 4 a 7 anos de estudo, 84.586 pessoas têm de 8 a 11 anos de estudo, 62.655 têm de 1 a 3 anos de estudo,  53.983 pessoas não têm nenhum estudo, de 34.138 pessoas não se conhece tal informação e apenas 26.122 pessoas têm entre 12 e mais anos de estudo. Esses dados são de relevante importância, pois permite a análise educacional de uma amostra da população brasileira, que apesar de não estarem mais vivos possuem representatividade. Observe, apenas 7.11 % das pessoas mortas tinham entre 12 ou mais anos de estudo. Pior, veja só: quase 15 % das pessoas falecidas não tinham nenhum ano de estudo, provavelmente pessoas analfabetas e colocadas a margem da sociedade brasileira."
      ]
    },
    {
      "cell_type": "markdown",
      "metadata": {
        "id": "iXpbXZuP46sC"
      },
      "source": [
        "**ESTUDO DA MORTALIDADE COM BASE NO CRITÉRIO ESCOLARIDADE EM NÍVEL**\n",
        "\n",
        "Nessa etapa haverá o estudo sobre mortalidade, com base no critério escolaridade em nível."
      ]
    },
    {
      "cell_type": "markdown",
      "metadata": {
        "id": "WPLslj9jSn32"
      },
      "source": [
        "A coluna ESC2010 [10] aborda  o nível da última série concluída pelo falecido. (0 – Sem escolaridade; 1 – Fundamental I (1ª a 4ª série); 2 – Fundamental II (5ª a 8ª série); 3 – Médio (antigo 2º Grau); 4 – Superior incompleto; 5 – Superior completo; 9 – Ignorado)\n"
      ]
    },
    {
      "cell_type": "code",
      "execution_count": null,
      "metadata": {
        "id": "WzyBToXoTZ2N",
        "colab": {
          "base_uri": "https://localhost:8080/"
        },
        "outputId": "f074ad9b-53df-4ce7-c191-9b70ebea556b"
      },
      "outputs": [
        {
          "output_type": "stream",
          "name": "stdout",
          "text": [
            "ESC2010\n",
            "1    132469\n",
            "2     62254\n",
            "3     58403\n",
            "0     53983\n",
            "9     34138\n",
            "5     22014\n",
            "4      4108\n",
            "Name: count, dtype: int64\n"
          ]
        }
      ],
      "source": [
        "# Valores absolutos da escolaridade em nível\n",
        "contagem_por_escolaridade_nivel = df_morte_geral_copy['ESC2010'].value_counts()\n",
        "\n",
        "print(contagem_por_escolaridade_nivel)"
      ]
    },
    {
      "cell_type": "code",
      "source": [
        "# Valores Percentuais da escolaridade em nível\n",
        "\n",
        "contagem_por_escolaridade_nivel = df_morte_geral_copy['ESC2010'].value_counts()\n",
        "\n",
        "# Calcula o total de ocorrências\n",
        "total_ocorrencias = contagem_por_escolaridade_nivel.sum()\n",
        "\n",
        "# Calcula a porcentagem de cada valor de escolaridade\n",
        "porcentagem_por_escolaridade_nivel = (contagem_por_escolaridade_nivel / total_ocorrencias) * 100\n",
        "\n",
        "print(porcentagem_por_escolaridade_nivel)"
      ],
      "metadata": {
        "id": "Jl6lWsbOd3Fl",
        "colab": {
          "base_uri": "https://localhost:8080/"
        },
        "outputId": "46dd8fbc-3cf1-49e4-d30e-da53f5dbf3c0"
      },
      "execution_count": null,
      "outputs": [
        {
          "output_type": "stream",
          "name": "stdout",
          "text": [
            "ESC2010\n",
            "1    36.058840\n",
            "2    16.945905\n",
            "3    15.897640\n",
            "0    14.694490\n",
            "9     9.292564\n",
            "5     5.992340\n",
            "4     1.118222\n",
            "Name: count, dtype: float64\n"
          ]
        }
      ]
    },
    {
      "cell_type": "markdown",
      "metadata": {
        "id": "691mKBer5oRy"
      },
      "source": [
        "Confirmando o que foi exposto anteriormente, apenas quase 6 % (22.014) das pessoas mortas tinham ensino superior completo, 1.1 % (4.108) tinham ensino superior incompleto, 15.89 % (58.403) tinham ensino médio concluído, 53 % tinham ensino fundamental (194.723) e quase 15 % (53.983) não tinham nenhuma escolaridade. Assim, se ocorrer a soma das pessoas sem escolaridade com as pessoas que estudaram ensino fundamental I ou II, quase 70 % das pessoas mortas em 2023 tinham um educação rudimentar. Pode-se até inferir que tais pessoas ou não sabiam ler e escrever, ou estudaram o básico para realizar tais operações e cálculos simples."
      ]
    },
    {
      "cell_type": "markdown",
      "source": [
        "**ESTUDO DA MORTALIDADE COM BASE NO CRITÉRIO OCUPAÇÃO**\n",
        "\n",
        "Nessa etapa haverá o estudo sobre mortalidade, com base no critério ocupação"
      ],
      "metadata": {
        "id": "uiWFRT8sj9ZH"
      }
    },
    {
      "cell_type": "markdown",
      "metadata": {
        "id": "4ESEHXdNUCG2"
      },
      "source": [
        "A coluna OCUP [11] significa o tipo de trabalho que o falecido desenvolveu na maior parte de sua vida produtiva. Ela foi preenchimento de acordo com Classificação Brasileira de Ocupações – CBO 2002.\n"
      ]
    },
    {
      "cell_type": "code",
      "source": [
        "ocupacao_mais_frequente = df_morte_geral_copy['OCUP'].value_counts()\n",
        "print(ocupacao_mais_frequente)"
      ],
      "metadata": {
        "id": "jRLJ0cglmCET",
        "colab": {
          "base_uri": "https://localhost:8080/"
        },
        "outputId": "01e79523-82dc-4bef-f8b6-5d78faab2542"
      },
      "execution_count": null,
      "outputs": [
        {
          "output_type": "stream",
          "name": "stdout",
          "text": [
            "OCUP\n",
            "999993    105772\n",
            "999992     59486\n",
            "622020     17421\n",
            "621005     12536\n",
            "354705     10150\n",
            "           ...  \n",
            "318310         1\n",
            "711220         1\n",
            "623410         1\n",
            "142605         1\n",
            "848105         1\n",
            "Name: count, Length: 1775, dtype: int64\n"
          ]
        }
      ]
    },
    {
      "cell_type": "markdown",
      "source": [
        "**LIMITES DA PESQUISA:** Como a referência está representada em números, obtidos na Classificação Brasileira de Ocupações – CBO 2002, bem como o pouco tempo para obter tal classificação e tratá-la, não haverá uma análise abrangente desse campo. É possível, contudo, visualizar as 5 mais frequentes ocupações das pessoas que morreram em 2023, bem como sua ocorrência.\n",
        "\n",
        "1º - 999993 - Outros trabalhadores em manutenção e reparação (105.722)\n",
        "\n",
        "2º-  999992 - Trabalhadores elementares da manutenção (59.486)\n",
        "\n",
        "3º - 622020-Trabalhador volante da agricultura (17421)\n",
        "\n",
        "4º - 621005- trabalhador agropecuário em geral (12.536)\n",
        "\n",
        "5º - Representante Comercial Autônomo (10150)\n",
        "\n",
        "Referência: https://www.ocupacoes.com.br/\n",
        "\n"
      ],
      "metadata": {
        "id": "NG7AMpB_pPzw"
      }
    },
    {
      "cell_type": "markdown",
      "metadata": {
        "id": "RsWBUNJ-6BBU"
      },
      "source": [
        "**ESTUDO DA MORTALIDADE COM BASE NO CRITÉRIO LOCAL DO ÓBITO**\n",
        "\n",
        "Nessa etapa haverá o estudo sobre mortalidade, com base no critério local do óbito."
      ]
    },
    {
      "cell_type": "markdown",
      "metadata": {
        "id": "TlYqT0U4Uii5"
      },
      "source": [
        "A coluna LOCOCOR [12] trata sobre o Local de ocorrência do óbito. As referência são: 1 – hospital; 2 – outros estabelecimentos de saúde; 3 – domicílio; 4 – via pública; 5 – outros; 6 - aldeia indígena; 9 – ignorado.\n"
      ]
    },
    {
      "cell_type": "code",
      "execution_count": null,
      "metadata": {
        "id": "1u2E5hIKUWyw",
        "colab": {
          "base_uri": "https://localhost:8080/"
        },
        "outputId": "bc3f7ecc-318e-4f80-c9a1-b81a35cf6019"
      },
      "outputs": [
        {
          "output_type": "stream",
          "name": "stdout",
          "text": [
            "LOCOCOR\n",
            "1    259816\n",
            "3     61597\n",
            "2     23849\n",
            "4     11640\n",
            "5     10381\n",
            "9        86\n",
            "Name: count, dtype: int64\n"
          ]
        }
      ],
      "source": [
        "contagem_por_local_obito = df_morte_geral_copy['LOCOCOR'].value_counts()\n",
        "\n",
        "print(contagem_por_local_obito)\n"
      ]
    },
    {
      "cell_type": "markdown",
      "metadata": {
        "id": "z8DUXkHD7nsC"
      },
      "source": [
        "Diante do exposto, há um número significativo de mortes em hospitais (259816). Depois que aparecem os outros locais: domicílio (61597), outros estabelecimentos de saúde (23.849), via pública (11640) e outros (10381)."
      ]
    },
    {
      "cell_type": "markdown",
      "metadata": {
        "id": "rItBuj8a7ptr"
      },
      "source": [
        "**ESTUDO DA MORTALIDADE COM BASE NO ATENDIMENTO MÉDICO CONTINUADO**\n",
        "\n",
        "Nessa etapa haverá o estudo sobre mortalidade, com base no critério atendimento médico continuado."
      ]
    },
    {
      "cell_type": "markdown",
      "metadata": {
        "id": "HSiGsXXGVApm"
      },
      "source": [
        "A coluna ASSISTMED [13] se refere ao atendimento médico continuado que o paciente recebeu, ou não, durante a enfermidade que ocasionou o óbito. A referência é 1 – sim; 2 – não; 9 – ignorado.\n",
        "\n"
      ]
    },
    {
      "cell_type": "code",
      "source": [
        "contagem_por_atendimento_continuado = df_morte_geral_copy['ASSISTMED'].value_counts()\n",
        "\n",
        "print(contagem_por_atendimento_continuado)\n"
      ],
      "metadata": {
        "id": "QBrH0IAX2ngz",
        "colab": {
          "base_uri": "https://localhost:8080/"
        },
        "outputId": "dd849a25-295d-45ef-da03-07928cf82a12"
      },
      "execution_count": null,
      "outputs": [
        {
          "output_type": "stream",
          "name": "stdout",
          "text": [
            "ASSISTMED\n",
            "1    300921\n",
            "2     42283\n",
            "9     24165\n",
            "Name: count, dtype: int64\n"
          ]
        }
      ]
    },
    {
      "cell_type": "markdown",
      "source": [
        "É possível observar que ocorreu de forma majoritária um atendimento continuado dos pacientes durante a enfermidade que ocasionou o óbito (300.921) em comparação com a ausência de atendimento continuado (42.283) e ignorado (24.165)."
      ],
      "metadata": {
        "id": "1FGEBw-r3A0G"
      }
    },
    {
      "cell_type": "markdown",
      "metadata": {
        "id": "6-c0BuHSC-gJ"
      },
      "source": [
        "**ESTUDO DA MORTALIDADE COM BASE NA REALIZAÇÃO DA NECRÓPSIA**\n",
        "\n",
        "Nessa etapa haverá o estudo sobre mortalidade, com base no critério realização da necrópsia."
      ]
    },
    {
      "cell_type": "markdown",
      "metadata": {
        "id": "eS1jGpLoVhyZ"
      },
      "source": [
        "A coluna NECROPSIA [14] Refere-se a execução ou não de necropsia para confirmação do diagnóstico (1 – sim; 2 – não; 9 – ignorado)."
      ]
    },
    {
      "cell_type": "code",
      "execution_count": null,
      "metadata": {
        "id": "UX_IHhi8Dpsm",
        "colab": {
          "base_uri": "https://localhost:8080/"
        },
        "outputId": "3dcc7180-4c59-4ed3-d15b-543d09ff1b3d"
      },
      "outputs": [
        {
          "output_type": "stream",
          "name": "stdout",
          "text": [
            "NECROPSIA\n",
            "2    296448\n",
            "1     55390\n",
            "9     15531\n",
            "Name: count, dtype: int64\n"
          ]
        }
      ],
      "source": [
        "contagem_por_necropsia = df_morte_geral_copy['NECROPSIA'].value_counts()\n",
        "\n",
        "print(contagem_por_necropsia)"
      ]
    },
    {
      "cell_type": "markdown",
      "source": [
        "Diante do exposto, observá-se que maior parte dos mortos (296448) não passaram por necropsia. Apenas uma pequena parcela foi necropsiada (55.390)."
      ],
      "metadata": {
        "id": "Lu-gU-Uv4oi6"
      }
    },
    {
      "cell_type": "markdown",
      "metadata": {
        "id": "Af9cWAC7D_Pa"
      },
      "source": [
        "**ESTUDO DA MORTALIDADE COM BASE NA REALIZAÇÃO DO DIAGNÓSTICO DA CAUSA TERMINAL**\n",
        "\n",
        "Nessa etapa haverá o estudo sobre mortalidade, com base no critério diagnóstico da causa terminal."
      ]
    },
    {
      "cell_type": "markdown",
      "metadata": {
        "id": "CWCTEdqND5cf"
      },
      "source": [
        "A coluna 15 LINHAA [15] refere-se ao diagnóstico da causa terminal. Isto é, o diagnóstico da doença ou estado mórbido que causou diretamente a morte. A referência é o Código CID 10.\n"
      ]
    },
    {
      "cell_type": "code",
      "execution_count": null,
      "metadata": {
        "id": "Y9P9Z8oWE-_N",
        "colab": {
          "base_uri": "https://localhost:8080/"
        },
        "outputId": "d59b2cec-bbe7-4ea1-b3e2-49b6e9719aee"
      },
      "outputs": [
        {
          "output_type": "stream",
          "name": "stdout",
          "text": [
            "LINHAA\n",
            "*A419              73800\n",
            "*J960              34186\n",
            "*R570              23959\n",
            "*J969              18732\n",
            "*R092              16025\n",
            "                   ...  \n",
            "*J969*A418             1\n",
            "*F102*K808             1\n",
            "*R960*R568             1\n",
            "*E86X*E878*R739        1\n",
            "*V17X                  1\n",
            "Name: count, Length: 4094, dtype: int64\n"
          ]
        }
      ],
      "source": [
        "causa_terminal = df_morte_geral_copy['LINHAA'].value_counts()\n",
        "print(causa_terminal)"
      ]
    },
    {
      "cell_type": "markdown",
      "metadata": {
        "id": "TtvS7sQTE_cE"
      },
      "source": [
        "**LIMITES DA PESQUISA:** Da mesma forma como ocorreu em ocupações, a causa terminal está representada por um código, dessa vez alfanumérico (CÓDIGO CID 10). Dessa forma, devido ao pouco tempo para obter a classificação e tratá-la, não haverá uma análise abrangente desse campo. É possível, contudo, visualizar as 5 mais frequentes causas terminais das pessoas que morreram em 2023, bem como sua ocorrência.\n",
        "\n",
        "1ª A419 - Septicemia não especificada (73.800)\n",
        "\n",
        "2º J960 - Insuficiência respiratória aguda (34.186)\n",
        "\n",
        "3º R570 - Choque Cardiogênico (23.959)\n",
        "\n",
        "4º J969 - insuficiência respiratória não especificada (18.732)\n",
        "\n",
        "5º R092 - Parada Respiratória (16.025)\n",
        "\n",
        "Referência: https://cid.ninsaude.com/pesquisar-por-cid/"
      ]
    },
    {
      "cell_type": "markdown",
      "metadata": {
        "id": "nGRac6vaV37P"
      },
      "source": [
        "***ANÁLISE CONCEITUAL DAS COLUNAS 16 A 26 ***\n",
        "\n",
        "A coluna [16] LINHAB CIDs informam na Linha B DO referente diagnóstico a causa antecedente ou conseqüencial do estado mórbido, se existir, que\n",
        "produziu a causa direta da morte registrada na linha A. (Códigos CID 10)\n",
        "\n",
        "A coluna CAUSABAS [17]- Causa básica da DO. (Códigos CID 10)\n",
        "\n",
        "A coluna DTATESTADO [18] - Data do Atestado\n",
        "\n",
        "\n",
        "\n",
        "A coluna DTCADASTRO [19] - Data do cadastro do óbito (Data no padrão ddmmaaaa)\n",
        "\n",
        "A coluna ATESTANTE [20]  - Indica se o medico que assina atendeu o paciente.\n",
        "\n",
        "A coluna DTRECEBIM [21] - Data do recebimento (Data no padrão ddmmaaaa)\n",
        "\n",
        "A coluna ATESTADO [22] - CIDs informados no atestado (Códigos CID 10)\n",
        "\n",
        "A coluna ESCFALAGR1  [23] - Escolaridade do falecido agregada (formulário a partir de 2010)  (00 – Sem Escolaridade; 01 – Fundamental I Incompleto; 02 – Fundamental I Completo; 03 – Fundamental II Incompleto; 04 – Fundamental II Completo; 05 – Ensino Médio Incompleto; 06 – Ensino Médio Completo; 07 –\n",
        "Superior Incompleto; 08 – Superior Completo; 09 – Ignorado; 10 – Fundamental I Incompleto ou Inespecífico; 11 – Fundamental II Incompleto ou Inespecífico; 12 – Ensino Médio Incompleto ou Inespecífico)\n",
        "\n",
        "A coluna STDOEPIDEM  [24] - Status de DO Epidemiológica (1 - Sim; 0 - Não)\n",
        "\n",
        "A coluna STDONOVA  [25] - Status de DO Nova. (1 - Sim; 0 - Não)\n",
        "\n",
        "A coluna DIFDATA    [26] - Diferença entre a data de óbito e data do recebimento original da DO ([DTOBITO] – [DTRECORIG]) (Números)"
      ]
    },
    {
      "cell_type": "markdown",
      "metadata": {
        "id": "wuHJDBQKH-pV"
      },
      "source": [
        "Os dados que constam nas colunas 16 a 31 terão apenas análise conceitual, pois não foram considerados de grande relevância para estudos mais detalhados. Ademais, o período temporal curto da pesquisa condiciona na realização de escolhas temáticas e analíticas."
      ]
    },
    {
      "cell_type": "markdown",
      "metadata": {
        "id": "IGacjn2rIkBS"
      },
      "source": [
        "**ESTUDO DA MORTALIDADE COM BASE EM ÓBITOS INVESTIGADOS**\n",
        "\n",
        "Nessa etapa haverá o estudo sobre mortalidade, com base no critério da realização dos óbitos investigados."
      ]
    },
    {
      "cell_type": "markdown",
      "metadata": {
        "id": "b133RgxrcsYi"
      },
      "source": [
        " A coluna TPPOS  [27] trata sobre os Óbitos investigados. A referência é 1 – sim; 2 – não."
      ]
    },
    {
      "cell_type": "code",
      "execution_count": null,
      "metadata": {
        "id": "bNQJ-wZ3cxoW",
        "colab": {
          "base_uri": "https://localhost:8080/"
        },
        "outputId": "88d76612-802c-42ed-aeaf-b4cd7ae1a3d1"
      },
      "outputs": [
        {
          "output_type": "stream",
          "name": "stdout",
          "text": [
            "TPPOS\n",
            "N    295357\n",
            "S     72012\n",
            "Name: count, dtype: int64\n"
          ]
        }
      ],
      "source": [
        "obitos_investigados = df_morte_geral_copy['TPPOS'].value_counts()\n",
        "print(obitos_investigados)"
      ]
    },
    {
      "cell_type": "markdown",
      "metadata": {
        "id": "VasZWxZZI8Ih"
      },
      "source": [
        "Diante do exposto, percebe-se que em 2023 a maioria dos óbitos não foram investigados (295.357). Apenas em 72.012 falecimentos ocorreu a investigação da causa mortis."
      ]
    },
    {
      "cell_type": "markdown",
      "source": [
        "**ANÁLISE CONCEITUAL DAS COLUNAS 28 A 33**\n",
        "\n",
        "A coluna MUNICIPIO_DO_FALECIDO [28] representa o município de naturalidade do falecido. Ela era originalmente chamada CODMUNNATU e sua referência estava em números. Entretanto, para haver maior compreensão sobre os dados, ocorreu a sua correlação com os códigos da tabela do IBGE. Dessa forma, atualmente a referência não está em números, mas em nomes.\n",
        "\n",
        "A coluna MUNICIPIO_DO_OBITO [29] representa o município onde ocorreu o óbito. Ela era originalmente chamada CODMUNOCOR e sua referência estava em números. Entretanto, para haver maior entendimento sobre os dados, ocorreu a sua correlação com os códigos da tabela do IBGE. Dessa forma, atualmente a referência não está em números, mas em nomes.\n",
        "\n",
        "A coluna MUNICIPIO_DE_RESIDENCIA [30] representa o município de residência do falecido. Em caso de óbito fetal, é considerado o município de residência da mãe (informação interessante apenas para análise do data frame df_maes). Ela era originalmente chamada CODMUNRES e sua referência estava em números. Entretanto, para haver maior entendimento sobre os dados, ocorreu a sua correlação com os códigos da tabela do IBGE. Dessa forma, atualmente a referência não está em números, mas em nomes.\n",
        "\n",
        "A coluna UF_MUNICIPIO_DO_FALECIDO [31] representa o estado federativo de naturalidade do falecido.\n",
        "\n",
        "A coluna UF_MUNICIPIO_DO_OBITO [32] representa o estado onde ocorreu o óbito.\n",
        "\n",
        "A coluna UF_MUNICIPIO_DE_RESIDENCIA [33] representa o estado de residência do falecido. Em caso de óbito fetal foi considerado o estado de residência da mãe.\n",
        "\n"
      ],
      "metadata": {
        "id": "v4VrghO6EPEg"
      }
    },
    {
      "cell_type": "markdown",
      "source": [
        "**ESTUDO DA MORTALIDADE COM BASE NO CRITÉRIO MUNICÍPIO**"
      ],
      "metadata": {
        "id": "NVgN6HQC1qoW"
      }
    },
    {
      "cell_type": "code",
      "execution_count": null,
      "metadata": {
        "id": "j-spmzc7c1mY",
        "colab": {
          "base_uri": "https://localhost:8080/"
        },
        "outputId": "83b41c8e-1518-4b94-9a8c-13f9755e28d5"
      },
      "outputs": [
        {
          "output_type": "stream",
          "name": "stdout",
          "text": [
            "Os municípios com a maior quantidade de mortes em 2023 são : MUNICIPIO_DO_OBITO\n",
            "RECIFE                   13407\n",
            "BELO HORIZONTE            9333\n",
            "CURITIBA                  9211\n",
            "CAMPINAS                  7270\n",
            "RIO DE JANEIRO            7192\n",
            "                         ...  \n",
            "TIMBAÚBA DOS BATISTAS        1\n",
            "SÃO JOÃO DA URTIGA           1\n",
            "PUXINANÃ                     1\n",
            "AFRÂNIO                      1\n",
            "TURUÇU                       1\n",
            "Name: count, Length: 4046, dtype: int64\n"
          ]
        }
      ],
      "source": [
        "# Análise sobre o município com o maior número de mortes\n",
        "\n",
        "municipio_maior_morte = df_morte_geral_copy['MUNICIPIO_DO_OBITO'].value_counts()\n",
        "print(\"Os municípios com a maior quantidade de mortes em 2023 são :\", municipio_maior_morte )"
      ]
    },
    {
      "cell_type": "markdown",
      "source": [
        " Diante do resultado obtido, é possivel concluir que os cinco municípios com maior número de mortes em 2023 foram Recife (13.407), Belo Horizonte (9333), Curitiba (9211), Campinas (7270) e Rio de Janeiro (7197).\n",
        " Então, diante desse resultado é importante deixar um alerta sobre a necessidade de maiores investimentos em saúde e em outros setores para aumentar a expectativa de vida da população, bem como sua qualidade de vida."
      ],
      "metadata": {
        "id": "j_2UFHMqU936"
      }
    },
    {
      "cell_type": "code",
      "source": [
        "# Análise sobre a quantidade de mortes que ocorreram em cidades diferentes da cidade de nascimento\n",
        "# Vamos contar quantos municípios de morte são diferentes dos municípios de nascimento\n",
        "diferentes = df_morte_geral_copy[df_morte_geral_copy['MUNICIPIO_DO_FALECIDO'] != df_morte_geral_copy['MUNICIPIO_DO_OBITO']]\n",
        "\n",
        "# contando o número de municípios diferentes\n",
        "num_municipios_diferentes = len(diferentes)\n",
        "\n",
        "print(\"Número de municípios de morte diferentes dos municípios de nascimento:\", num_municipios_diferentes)\n",
        "\n",
        "total_registros = len(df_morte_geral_copy)\n",
        "print(\"O número de mortes em 2023 foi: \", total_registros)\n",
        "\n",
        "percentual_diferentes = (len(diferentes) /(total_registros) * 100)\n",
        "print(percentual_diferentes)"
      ],
      "metadata": {
        "id": "6DUWCz8-XbUP",
        "colab": {
          "base_uri": "https://localhost:8080/"
        },
        "outputId": "cd713c6d-269f-4294-f2b5-fbfaecdf89ec"
      },
      "execution_count": null,
      "outputs": [
        {
          "output_type": "stream",
          "name": "stdout",
          "text": [
            "Número de municípios de morte diferentes dos municípios de nascimento: 263296\n",
            "O número de mortes em 2023 foi:  367369\n",
            "71.67071799743582\n"
          ]
        }
      ]
    },
    {
      "cell_type": "markdown",
      "source": [
        " Diante do resultado obtido, é possível constatar que 71.6 % das mortes ocorreram em cidades diferentes das cidades naturais dos indivíduos. E o número absoluto foi 263.296 mortes."
      ],
      "metadata": {
        "id": "C0s3ox3YdwWY"
      }
    },
    {
      "cell_type": "code",
      "source": [
        "# Análise sobre a quantidade de mortes que ocorreram em cidades diferentes da cidade de residência\n",
        "# Vamos contar quantos municípios de morte são diferentes dos municípios de nascimento\n",
        "diferentes = df_morte_geral_copy[df_morte_geral_copy['MUNICIPIO_DE_RESIDENCIA'] != df_morte_geral_copy['MUNICIPIO_DO_OBITO']]\n",
        "\n",
        "# contando o número de municípios diferentes\n",
        "num_municipios_diferentes = len(diferentes)\n",
        "\n",
        "print(\"Número de municípios de morte diferentes dos municípios de residência:\", num_municipios_diferentes)\n",
        "\n",
        "total_registros = len(df_morte_geral_copy)\n",
        "\n",
        "percentual_diferentes = (len(diferentes) /(total_registros) * 100)\n",
        "print(percentual_diferentes)"
      ],
      "metadata": {
        "id": "hg029IAJeZN7",
        "colab": {
          "base_uri": "https://localhost:8080/"
        },
        "outputId": "781d9a4b-5b40-40e7-f4b6-69d8498d242f"
      },
      "execution_count": null,
      "outputs": [
        {
          "output_type": "stream",
          "name": "stdout",
          "text": [
            "Número de municípios de morte diferentes dos municípios de residência: 101679\n",
            "27.67762113841941\n"
          ]
        }
      ]
    },
    {
      "cell_type": "markdown",
      "source": [
        "Muitas vezes as mortes ocorrem em locais distintos das cidades de residência dos indivíduos. Foi possível verificar que em 2023 tal fato ocorreu 101.679 vezes, representando 27.67 % do valor total."
      ],
      "metadata": {
        "id": "UmL7FCljf5C6"
      }
    },
    {
      "cell_type": "markdown",
      "source": [
        "**ESTUDO DA MORTALIDADE COM BASE NO CRITÉRIO ESTADO**"
      ],
      "metadata": {
        "id": "0fjkOfixMwJ9"
      }
    },
    {
      "cell_type": "markdown",
      "source": [
        "Análise sobre o estado com o maior número de mortes."
      ],
      "metadata": {
        "id": "wQqIX_rtQJxe"
      }
    },
    {
      "cell_type": "code",
      "source": [
        "uf_maior_morte = df_morte_geral_copy['UF_MUNICIPIO_DO_OBITO'].value_counts()\n",
        "print(\"Os estados com a maior quantidade de mortes em 2023 são :\", uf_maior_morte )"
      ],
      "metadata": {
        "colab": {
          "base_uri": "https://localhost:8080/"
        },
        "id": "HaQlcylAMvxr",
        "outputId": "3f2121d2-c872-41fd-fe71-a00aceadfbea"
      },
      "execution_count": null,
      "outputs": [
        {
          "output_type": "stream",
          "name": "stdout",
          "text": [
            "Os estados com a maior quantidade de mortes em 2023 são : UF_MUNICIPIO_DO_OBITO\n",
            "SÃO PAULO              110849\n",
            "PARANÁ                  41831\n",
            "MINAS GERAIS            27427\n",
            "RIO GRANDE DO SUL       23465\n",
            "SANTA CATARINA          22283\n",
            "PERNAMBUCO              22091\n",
            "RIO DE JANEIRO          17030\n",
            "CEARÁ                   17004\n",
            "GOIÁS                    9642\n",
            "MATO GROSSO DO SUL       8980\n",
            "ESPÍRITO SANTO           7695\n",
            "PARÁ                     7571\n",
            "BAHIA                    7471\n",
            "MARANHÃO                 7384\n",
            "MATO GROSSO              5506\n",
            "AMAZONAS                 5072\n",
            "PIAUÍ                    4311\n",
            "53                       4085\n",
            "RIO GRANDE DO NORTE      3732\n",
            "PARAÍBA                  3342\n",
            "RONDÔNIA                 3116\n",
            "ALAGOAS                  1798\n",
            "TOCANTINS                1765\n",
            "ACRE                     1289\n",
            "RORAIMA                  1235\n",
            "SERGIPE                  1154\n",
            "AMAPÁ                     241\n",
            "Name: count, dtype: int64\n"
          ]
        }
      ]
    },
    {
      "cell_type": "markdown",
      "source": [
        "O top 5 estados com maior número de mortes foram todos da região sul-sudeste, sendo dois do sudeste (São Paulo e Minas Gerais) e três do sul (Paraná, Rio Grande do Sul e Santa Catarina). Posteriormente que aparecem estados de outras regiões: Pernambuco ( nordeste), Rio de Janeiro (sudeste novamente), Ceará (nordeste) e outros.\n",
        "\n",
        "Precisamos analisar os tipos de mortes mais comuns nestes estados para que possamos compreender se houve algum tipo de evento natural, epidemiológico ou aumento da violência que tenha impactado no elevado número de mortes nestes estados e regiões em relação aos outros. Também pode ser critério demográfico, isto é, o tamanho da população dos estados do sudeste como São Paulo são maiores em valores absolutos."
      ],
      "metadata": {
        "id": "beZFSCx8QegE"
      }
    },
    {
      "cell_type": "markdown",
      "source": [
        "Análise sobre a quantidade de mortes que ocorreram em estados diferentes do estado de nascimento. Vamos contar quantos dos estados onde ocorreu o óbito são diferentes dos estados de nascimento."
      ],
      "metadata": {
        "id": "nSvZv_jvNybz"
      }
    },
    {
      "cell_type": "code",
      "source": [
        "\n",
        "diferentes = df_morte_geral_copy[df_morte_geral_copy['UF_MUNICIPIO_DO_FALECIDO'] != df_morte_geral_copy['UF_MUNICIPIO_DO_OBITO']]\n",
        "\n",
        "# contando o número de estados diferentes\n",
        "num_uf_diferentes = len(diferentes)\n",
        "\n",
        "print(\"Número de estados de morte diferentes dos estados de nascimento:\", num_uf_diferentes)\n",
        "\n",
        "total_registros = len(df_morte_geral_copy)\n",
        "print(\"O número de mortes em 2023 foi: \", total_registros)\n",
        "\n",
        "percentual_diferentes = (len(diferentes) /(total_registros) * 100)\n",
        "print(\"O percentual de estados distintos (nascimento e morte):\", percentual_diferentes)"
      ],
      "metadata": {
        "colab": {
          "base_uri": "https://localhost:8080/"
        },
        "id": "y-Y9aYGaNAsa",
        "outputId": "95b18010-ff19-41dc-bfe9-d7f015b5e816"
      },
      "execution_count": null,
      "outputs": [
        {
          "output_type": "stream",
          "name": "stdout",
          "text": [
            "Número de estados de morte diferentes dos estados de nascimento: 92608\n",
            "O número de mortes em 2023 foi:  367369\n",
            "O percentual de estados distintos (nascimento e morte): 25.20844164858766\n"
          ]
        }
      ]
    },
    {
      "cell_type": "markdown",
      "source": [
        "Diante do resultado obtido, é possível constatar que 25.20 % das mortes ocorreram em estados diferentes dos estados naturais dos falecidos. E o número absoluto foi 92.608 mortes."
      ],
      "metadata": {
        "id": "V7O4V0SY6aeK"
      }
    },
    {
      "cell_type": "markdown",
      "source": [
        "Análise sobre a quantidade de mortes que ocorreram em estados diferentes do estado de residência."
      ],
      "metadata": {
        "id": "UeKZ5upgOWLt"
      }
    },
    {
      "cell_type": "code",
      "source": [
        "diferentes = df_morte_geral_copy[df_morte_geral_copy['UF_MUNICIPIO_DE_RESIDENCIA'] != df_morte_geral_copy['UF_MUNICIPIO_DO_OBITO']]\n",
        "\n",
        "# contando o número de estados diferentes\n",
        "num_uf_diferentes = len(diferentes)\n",
        "\n",
        "print(\"Número de estados onde ocorreu o óbito que são diferentes dos estados de residência:\", num_uf_diferentes)\n",
        "\n",
        "total_registros = len(df_morte_geral_copy)\n",
        "\n",
        "percentual_diferentes = (len(diferentes) /(total_registros) * 100)\n",
        "print(percentual_diferentes)"
      ],
      "metadata": {
        "colab": {
          "base_uri": "https://localhost:8080/"
        },
        "id": "aa4QTXoeOJNn",
        "outputId": "a2c7c8c6-0807-485b-feea-d788ce610a7d"
      },
      "execution_count": null,
      "outputs": [
        {
          "output_type": "stream",
          "name": "stdout",
          "text": [
            "Número de estados onde ocorreu o óbito que são diferentes dos estados de residência: 4549\n",
            "1.238264524224962\n"
          ]
        }
      ]
    },
    {
      "cell_type": "markdown",
      "source": [
        "Diante do resultado obtido, é possível constatar que 1.23 % das mortes ocorreram em estados diferentes dos estados de residência dos falecidos. E o número absoluto foi 4.549 mortes."
      ],
      "metadata": {
        "id": "JPnrvoBC7JBs"
      }
    },
    {
      "cell_type": "markdown",
      "source": [
        "**Análise das mortes mais comuns nos estados com o maior número de mortes**"
      ],
      "metadata": {
        "id": "8cQ28s8NaCtR"
      }
    },
    {
      "cell_type": "markdown",
      "source": [
        "Iremos usar as duas colunas abaixo para analisar as causas de morte mais comuns dos estados Top 5."
      ],
      "metadata": {
        "id": "8SYIu9LR2Xhd"
      }
    },
    {
      "cell_type": "code",
      "source": [
        "df_morte_geral_copy[['LINHAA', 'CAUSABAS']]"
      ],
      "metadata": {
        "colab": {
          "base_uri": "https://localhost:8080/",
          "height": 423
        },
        "id": "4MUKT4qscGlu",
        "outputId": "630c0e27-0533-4ebb-da34-f76344b5bb77"
      },
      "execution_count": null,
      "outputs": [
        {
          "output_type": "execute_result",
          "data": {
            "text/plain": [
              "        LINHAA CAUSABAS\n",
              "2        *I509     I420\n",
              "12       *J960     J189\n",
              "16       *A419     K805\n",
              "27       *A419     J159\n",
              "32       *R578     A419\n",
              "...        ...      ...\n",
              "1400483  *R688     C509\n",
              "1400484  *J81X     E112\n",
              "1400499  *I469     I219\n",
              "1400501  *J960     C349\n",
              "1400503  *I469     G309\n",
              "\n",
              "[367369 rows x 2 columns]"
            ],
            "text/html": [
              "\n",
              "  <div id=\"df-8bef1618-5581-4aea-a91f-6519643c6a05\" class=\"colab-df-container\">\n",
              "    <div>\n",
              "<style scoped>\n",
              "    .dataframe tbody tr th:only-of-type {\n",
              "        vertical-align: middle;\n",
              "    }\n",
              "\n",
              "    .dataframe tbody tr th {\n",
              "        vertical-align: top;\n",
              "    }\n",
              "\n",
              "    .dataframe thead th {\n",
              "        text-align: right;\n",
              "    }\n",
              "</style>\n",
              "<table border=\"1\" class=\"dataframe\">\n",
              "  <thead>\n",
              "    <tr style=\"text-align: right;\">\n",
              "      <th></th>\n",
              "      <th>LINHAA</th>\n",
              "      <th>CAUSABAS</th>\n",
              "    </tr>\n",
              "  </thead>\n",
              "  <tbody>\n",
              "    <tr>\n",
              "      <th>2</th>\n",
              "      <td>*I509</td>\n",
              "      <td>I420</td>\n",
              "    </tr>\n",
              "    <tr>\n",
              "      <th>12</th>\n",
              "      <td>*J960</td>\n",
              "      <td>J189</td>\n",
              "    </tr>\n",
              "    <tr>\n",
              "      <th>16</th>\n",
              "      <td>*A419</td>\n",
              "      <td>K805</td>\n",
              "    </tr>\n",
              "    <tr>\n",
              "      <th>27</th>\n",
              "      <td>*A419</td>\n",
              "      <td>J159</td>\n",
              "    </tr>\n",
              "    <tr>\n",
              "      <th>32</th>\n",
              "      <td>*R578</td>\n",
              "      <td>A419</td>\n",
              "    </tr>\n",
              "    <tr>\n",
              "      <th>...</th>\n",
              "      <td>...</td>\n",
              "      <td>...</td>\n",
              "    </tr>\n",
              "    <tr>\n",
              "      <th>1400483</th>\n",
              "      <td>*R688</td>\n",
              "      <td>C509</td>\n",
              "    </tr>\n",
              "    <tr>\n",
              "      <th>1400484</th>\n",
              "      <td>*J81X</td>\n",
              "      <td>E112</td>\n",
              "    </tr>\n",
              "    <tr>\n",
              "      <th>1400499</th>\n",
              "      <td>*I469</td>\n",
              "      <td>I219</td>\n",
              "    </tr>\n",
              "    <tr>\n",
              "      <th>1400501</th>\n",
              "      <td>*J960</td>\n",
              "      <td>C349</td>\n",
              "    </tr>\n",
              "    <tr>\n",
              "      <th>1400503</th>\n",
              "      <td>*I469</td>\n",
              "      <td>G309</td>\n",
              "    </tr>\n",
              "  </tbody>\n",
              "</table>\n",
              "<p>367369 rows × 2 columns</p>\n",
              "</div>\n",
              "    <div class=\"colab-df-buttons\">\n",
              "\n",
              "  <div class=\"colab-df-container\">\n",
              "    <button class=\"colab-df-convert\" onclick=\"convertToInteractive('df-8bef1618-5581-4aea-a91f-6519643c6a05')\"\n",
              "            title=\"Convert this dataframe to an interactive table.\"\n",
              "            style=\"display:none;\">\n",
              "\n",
              "  <svg xmlns=\"http://www.w3.org/2000/svg\" height=\"24px\" viewBox=\"0 -960 960 960\">\n",
              "    <path d=\"M120-120v-720h720v720H120Zm60-500h600v-160H180v160Zm220 220h160v-160H400v160Zm0 220h160v-160H400v160ZM180-400h160v-160H180v160Zm440 0h160v-160H620v160ZM180-180h160v-160H180v160Zm440 0h160v-160H620v160Z\"/>\n",
              "  </svg>\n",
              "    </button>\n",
              "\n",
              "  <style>\n",
              "    .colab-df-container {\n",
              "      display:flex;\n",
              "      gap: 12px;\n",
              "    }\n",
              "\n",
              "    .colab-df-convert {\n",
              "      background-color: #E8F0FE;\n",
              "      border: none;\n",
              "      border-radius: 50%;\n",
              "      cursor: pointer;\n",
              "      display: none;\n",
              "      fill: #1967D2;\n",
              "      height: 32px;\n",
              "      padding: 0 0 0 0;\n",
              "      width: 32px;\n",
              "    }\n",
              "\n",
              "    .colab-df-convert:hover {\n",
              "      background-color: #E2EBFA;\n",
              "      box-shadow: 0px 1px 2px rgba(60, 64, 67, 0.3), 0px 1px 3px 1px rgba(60, 64, 67, 0.15);\n",
              "      fill: #174EA6;\n",
              "    }\n",
              "\n",
              "    .colab-df-buttons div {\n",
              "      margin-bottom: 4px;\n",
              "    }\n",
              "\n",
              "    [theme=dark] .colab-df-convert {\n",
              "      background-color: #3B4455;\n",
              "      fill: #D2E3FC;\n",
              "    }\n",
              "\n",
              "    [theme=dark] .colab-df-convert:hover {\n",
              "      background-color: #434B5C;\n",
              "      box-shadow: 0px 1px 3px 1px rgba(0, 0, 0, 0.15);\n",
              "      filter: drop-shadow(0px 1px 2px rgba(0, 0, 0, 0.3));\n",
              "      fill: #FFFFFF;\n",
              "    }\n",
              "  </style>\n",
              "\n",
              "    <script>\n",
              "      const buttonEl =\n",
              "        document.querySelector('#df-8bef1618-5581-4aea-a91f-6519643c6a05 button.colab-df-convert');\n",
              "      buttonEl.style.display =\n",
              "        google.colab.kernel.accessAllowed ? 'block' : 'none';\n",
              "\n",
              "      async function convertToInteractive(key) {\n",
              "        const element = document.querySelector('#df-8bef1618-5581-4aea-a91f-6519643c6a05');\n",
              "        const dataTable =\n",
              "          await google.colab.kernel.invokeFunction('convertToInteractive',\n",
              "                                                    [key], {});\n",
              "        if (!dataTable) return;\n",
              "\n",
              "        const docLinkHtml = 'Like what you see? Visit the ' +\n",
              "          '<a target=\"_blank\" href=https://colab.research.google.com/notebooks/data_table.ipynb>data table notebook</a>'\n",
              "          + ' to learn more about interactive tables.';\n",
              "        element.innerHTML = '';\n",
              "        dataTable['output_type'] = 'display_data';\n",
              "        await google.colab.output.renderOutput(dataTable, element);\n",
              "        const docLink = document.createElement('div');\n",
              "        docLink.innerHTML = docLinkHtml;\n",
              "        element.appendChild(docLink);\n",
              "      }\n",
              "    </script>\n",
              "  </div>\n",
              "\n",
              "\n",
              "<div id=\"df-68990e69-93f1-4be4-bfc9-ba2e3eb19342\">\n",
              "  <button class=\"colab-df-quickchart\" onclick=\"quickchart('df-68990e69-93f1-4be4-bfc9-ba2e3eb19342')\"\n",
              "            title=\"Suggest charts\"\n",
              "            style=\"display:none;\">\n",
              "\n",
              "<svg xmlns=\"http://www.w3.org/2000/svg\" height=\"24px\"viewBox=\"0 0 24 24\"\n",
              "     width=\"24px\">\n",
              "    <g>\n",
              "        <path d=\"M19 3H5c-1.1 0-2 .9-2 2v14c0 1.1.9 2 2 2h14c1.1 0 2-.9 2-2V5c0-1.1-.9-2-2-2zM9 17H7v-7h2v7zm4 0h-2V7h2v10zm4 0h-2v-4h2v4z\"/>\n",
              "    </g>\n",
              "</svg>\n",
              "  </button>\n",
              "\n",
              "<style>\n",
              "  .colab-df-quickchart {\n",
              "      --bg-color: #E8F0FE;\n",
              "      --fill-color: #1967D2;\n",
              "      --hover-bg-color: #E2EBFA;\n",
              "      --hover-fill-color: #174EA6;\n",
              "      --disabled-fill-color: #AAA;\n",
              "      --disabled-bg-color: #DDD;\n",
              "  }\n",
              "\n",
              "  [theme=dark] .colab-df-quickchart {\n",
              "      --bg-color: #3B4455;\n",
              "      --fill-color: #D2E3FC;\n",
              "      --hover-bg-color: #434B5C;\n",
              "      --hover-fill-color: #FFFFFF;\n",
              "      --disabled-bg-color: #3B4455;\n",
              "      --disabled-fill-color: #666;\n",
              "  }\n",
              "\n",
              "  .colab-df-quickchart {\n",
              "    background-color: var(--bg-color);\n",
              "    border: none;\n",
              "    border-radius: 50%;\n",
              "    cursor: pointer;\n",
              "    display: none;\n",
              "    fill: var(--fill-color);\n",
              "    height: 32px;\n",
              "    padding: 0;\n",
              "    width: 32px;\n",
              "  }\n",
              "\n",
              "  .colab-df-quickchart:hover {\n",
              "    background-color: var(--hover-bg-color);\n",
              "    box-shadow: 0 1px 2px rgba(60, 64, 67, 0.3), 0 1px 3px 1px rgba(60, 64, 67, 0.15);\n",
              "    fill: var(--button-hover-fill-color);\n",
              "  }\n",
              "\n",
              "  .colab-df-quickchart-complete:disabled,\n",
              "  .colab-df-quickchart-complete:disabled:hover {\n",
              "    background-color: var(--disabled-bg-color);\n",
              "    fill: var(--disabled-fill-color);\n",
              "    box-shadow: none;\n",
              "  }\n",
              "\n",
              "  .colab-df-spinner {\n",
              "    border: 2px solid var(--fill-color);\n",
              "    border-color: transparent;\n",
              "    border-bottom-color: var(--fill-color);\n",
              "    animation:\n",
              "      spin 1s steps(1) infinite;\n",
              "  }\n",
              "\n",
              "  @keyframes spin {\n",
              "    0% {\n",
              "      border-color: transparent;\n",
              "      border-bottom-color: var(--fill-color);\n",
              "      border-left-color: var(--fill-color);\n",
              "    }\n",
              "    20% {\n",
              "      border-color: transparent;\n",
              "      border-left-color: var(--fill-color);\n",
              "      border-top-color: var(--fill-color);\n",
              "    }\n",
              "    30% {\n",
              "      border-color: transparent;\n",
              "      border-left-color: var(--fill-color);\n",
              "      border-top-color: var(--fill-color);\n",
              "      border-right-color: var(--fill-color);\n",
              "    }\n",
              "    40% {\n",
              "      border-color: transparent;\n",
              "      border-right-color: var(--fill-color);\n",
              "      border-top-color: var(--fill-color);\n",
              "    }\n",
              "    60% {\n",
              "      border-color: transparent;\n",
              "      border-right-color: var(--fill-color);\n",
              "    }\n",
              "    80% {\n",
              "      border-color: transparent;\n",
              "      border-right-color: var(--fill-color);\n",
              "      border-bottom-color: var(--fill-color);\n",
              "    }\n",
              "    90% {\n",
              "      border-color: transparent;\n",
              "      border-bottom-color: var(--fill-color);\n",
              "    }\n",
              "  }\n",
              "</style>\n",
              "\n",
              "  <script>\n",
              "    async function quickchart(key) {\n",
              "      const quickchartButtonEl =\n",
              "        document.querySelector('#' + key + ' button');\n",
              "      quickchartButtonEl.disabled = true;  // To prevent multiple clicks.\n",
              "      quickchartButtonEl.classList.add('colab-df-spinner');\n",
              "      try {\n",
              "        const charts = await google.colab.kernel.invokeFunction(\n",
              "            'suggestCharts', [key], {});\n",
              "      } catch (error) {\n",
              "        console.error('Error during call to suggestCharts:', error);\n",
              "      }\n",
              "      quickchartButtonEl.classList.remove('colab-df-spinner');\n",
              "      quickchartButtonEl.classList.add('colab-df-quickchart-complete');\n",
              "    }\n",
              "    (() => {\n",
              "      let quickchartButtonEl =\n",
              "        document.querySelector('#df-68990e69-93f1-4be4-bfc9-ba2e3eb19342 button');\n",
              "      quickchartButtonEl.style.display =\n",
              "        google.colab.kernel.accessAllowed ? 'block' : 'none';\n",
              "    })();\n",
              "  </script>\n",
              "</div>\n",
              "    </div>\n",
              "  </div>\n"
            ],
            "application/vnd.google.colaboratory.intrinsic+json": {
              "type": "dataframe"
            }
          },
          "metadata": {},
          "execution_count": 177
        }
      ]
    },
    {
      "cell_type": "markdown",
      "source": [
        "Criando df para cada estado:"
      ],
      "metadata": {
        "id": "5AKts_sA2tKx"
      }
    },
    {
      "cell_type": "code",
      "source": [
        "df_saopaulo = df_morte_geral_copy[df_morte_geral_copy['UF_MUNICIPIO_DO_OBITO'] == 'SÃO PAULO']\n",
        "df_parana = df_morte_geral_copy[df_morte_geral_copy['UF_MUNICIPIO_DO_OBITO'] == 'PARANÁ']\n",
        "df_minasgerais = df_morte_geral_copy[df_morte_geral_copy['UF_MUNICIPIO_DO_OBITO'] == 'MINAS GERAIS']\n",
        "df_riograndesul = df_morte_geral_copy[df_morte_geral_copy['UF_MUNICIPIO_DO_OBITO'] == 'RIO GRANDE DO SUL']\n",
        "df_santacatarina = df_morte_geral_copy[df_morte_geral_copy['UF_MUNICIPIO_DO_OBITO'] == 'SANTA CATARINA']"
      ],
      "metadata": {
        "id": "PPOI7kODc9d9"
      },
      "execution_count": null,
      "outputs": []
    },
    {
      "cell_type": "markdown",
      "source": [
        "Separando as mortes mais comuns de cada estado Top 5"
      ],
      "metadata": {
        "id": "2MjMQV022wua"
      }
    },
    {
      "cell_type": "code",
      "source": [
        "top_causabas_sp = df_saopaulo['LINHAA'].value_counts()\n",
        "top_linhaa_sp = df_saopaulo['CAUSABAS'].value_counts()"
      ],
      "metadata": {
        "id": "BdZRYu5ieuPx"
      },
      "execution_count": null,
      "outputs": []
    },
    {
      "cell_type": "code",
      "source": [
        "top_causabas_pr = df_parana['LINHAA'].value_counts()\n",
        "top_linhaa_pr = df_parana['CAUSABAS'].value_counts()"
      ],
      "metadata": {
        "id": "jyVNSeC2fj3g"
      },
      "execution_count": null,
      "outputs": []
    },
    {
      "cell_type": "code",
      "source": [
        "top_causabas_mg = df_minasgerais['LINHAA'].value_counts()\n",
        "top_linhaa_mg = df_minasgerais['CAUSABAS'].value_counts()"
      ],
      "metadata": {
        "id": "ISXsKkaGhRcb"
      },
      "execution_count": null,
      "outputs": []
    },
    {
      "cell_type": "code",
      "source": [
        "top_causabas_rs = df_riograndesul['LINHAA'].value_counts()\n",
        "top_linhaa_rs = df_riograndesul['CAUSABAS'].value_counts()"
      ],
      "metadata": {
        "id": "AXuhz0Pek1RS"
      },
      "execution_count": null,
      "outputs": []
    },
    {
      "cell_type": "code",
      "source": [
        "top_causabas_sc = df_santacatarina['LINHAA'].value_counts()\n",
        "top_linhaa_sc = df_santacatarina['CAUSABAS'].value_counts()"
      ],
      "metadata": {
        "id": "iXCbCBywlHC3"
      },
      "execution_count": null,
      "outputs": []
    },
    {
      "cell_type": "markdown",
      "source": [
        "**As causas de mortes mais comuns do Top 5 estados com mais mortes**"
      ],
      "metadata": {
        "id": "9dY9I7kAtpwY"
      }
    },
    {
      "cell_type": "markdown",
      "source": [
        "São Paulo"
      ],
      "metadata": {
        "id": "X75pmirTt9RR"
      }
    },
    {
      "cell_type": "code",
      "source": [
        "print(top_causabas_sp)\n",
        "top_linhaa_sp"
      ],
      "metadata": {
        "colab": {
          "base_uri": "https://localhost:8080/"
        },
        "id": "aEqu2NeihfE9",
        "outputId": "a317b88b-577a-4142-8020-96ca891dfa4c"
      },
      "execution_count": null,
      "outputs": [
        {
          "output_type": "stream",
          "name": "stdout",
          "text": [
            "LINHAA\n",
            "*A419         22922\n",
            "*J960         10665\n",
            "*R570          7345\n",
            "*J969          5965\n",
            "*I219          4991\n",
            "              ...  \n",
            "*Y848*J958        1\n",
            "*J69X             1\n",
            "*A419*J159        1\n",
            "*T421             1\n",
            "*C795*C787        1\n",
            "Name: count, Length: 1804, dtype: int64\n"
          ]
        },
        {
          "output_type": "execute_result",
          "data": {
            "text/plain": [
              "CAUSABAS\n",
              "I219    8425\n",
              "J189    4779\n",
              "N390    3350\n",
              "G309    2472\n",
              "C349    2356\n",
              "        ... \n",
              "D037       1\n",
              "O000       1\n",
              "Y071       1\n",
              "R101       1\n",
              "Q851       1\n",
              "Name: count, Length: 2603, dtype: int64"
            ]
          },
          "metadata": {},
          "execution_count": 184
        }
      ]
    },
    {
      "cell_type": "markdown",
      "source": [
        "**LINHAA**\n",
        "\n",
        "* A419 - Septicemia não especificada\n",
        "* J960 - Insuficiência respiratória aguda\n",
        "* R570 - Choque cardiogênico\n",
        "* J969 - Insuficiência respiratória não especificada\n",
        "* I219 - Infarto agudo do miocárdio não especificado\n",
        "\n",
        "**CAUSABAS**\n",
        "\n",
        "* I219 - Infarto agudo do miocárdio não especificado\n",
        "* J189 - Pneumonia não especificada\n",
        "* N390 - Infecção do trato urinário de localização não especificada\n",
        "* G309 - Doença de Alzheimer não especificada\n",
        "* C349 - Neoplasia maligna dos brônquios ou pulmões, não especificado"
      ],
      "metadata": {
        "id": "4DHA9vWCl-nf"
      }
    },
    {
      "cell_type": "markdown",
      "source": [
        "Paraná"
      ],
      "metadata": {
        "id": "t6fGhcoPuCbw"
      }
    },
    {
      "cell_type": "code",
      "source": [
        "print(top_causabas_pr)\n",
        "top_linhaa_pr"
      ],
      "metadata": {
        "colab": {
          "base_uri": "https://localhost:8080/"
        },
        "id": "9udHjmAGuGLw",
        "outputId": "208bcbe3-d487-4832-d025-778e92546342"
      },
      "execution_count": null,
      "outputs": [
        {
          "output_type": "stream",
          "name": "stdout",
          "text": [
            "LINHAA\n",
            "*A419         9043\n",
            "*J960         3421\n",
            "*R570         2399\n",
            "*J969         1836\n",
            "*R092         1620\n",
            "              ... \n",
            "*E145            1\n",
            "*I211            1\n",
            "*E790            1\n",
            "*T811*R571       1\n",
            "*C957            1\n",
            "Name: count, Length: 1119, dtype: int64\n"
          ]
        },
        {
          "output_type": "execute_result",
          "data": {
            "text/plain": [
              "CAUSABAS\n",
              "I219    1857\n",
              "J189    1794\n",
              "I64      945\n",
              "G309     903\n",
              "C349     901\n",
              "        ... \n",
              "J410       1\n",
              "M860       1\n",
              "C715       1\n",
              "I742       1\n",
              "K225       1\n",
              "Name: count, Length: 1938, dtype: int64"
            ]
          },
          "metadata": {},
          "execution_count": 185
        }
      ]
    },
    {
      "cell_type": "markdown",
      "source": [
        "**LINHAA**\n",
        "\n",
        "* A419 - Septicemia não especificada\n",
        "\n",
        "* J960 - Insuficiência respiratória aguda\n",
        "\n",
        "* R570 - Choque, não especificado\n",
        "\n",
        "* J969 - Insuficiência respiratória não especificada\n",
        "\n",
        "* R092 - Dispneia\n",
        "\n",
        "**CAUSABAS**\n",
        "\n",
        "* I219 - Infarto agudo do miocárdio, não especificado\n",
        "\n",
        "* J189 - Pneumonia não especificada\n",
        "\n",
        "* I64 - Acidente vascular cerebral, não especificado como hemorrágico ou isquêmico\n",
        "\n",
        "* G309 - Demência não especificada, não especificada como de início agudo ou crônico\n",
        "\n",
        "* C349 - Tumor maligno do brônquio ou do pulmão, não especificado como primário ou secundário"
      ],
      "metadata": {
        "id": "QKdfLJWKu2Iy"
      }
    },
    {
      "cell_type": "markdown",
      "source": [
        "Minas Gerais"
      ],
      "metadata": {
        "id": "7oYKRFXTuGmT"
      }
    },
    {
      "cell_type": "code",
      "source": [
        "print(top_causabas_mg)\n",
        "top_linhaa_mg"
      ],
      "metadata": {
        "colab": {
          "base_uri": "https://localhost:8080/"
        },
        "id": "JgwCmfHLwlPJ",
        "outputId": "a1306e2e-da11-4360-9fb4-a01ce30a7498"
      },
      "execution_count": null,
      "outputs": [
        {
          "output_type": "stream",
          "name": "stdout",
          "text": [
            "LINHAA\n",
            "*A419              6338\n",
            "*J960              2132\n",
            "*R570              1476\n",
            "*J969              1430\n",
            "*R092              1077\n",
            "                   ... \n",
            "*Y836*T811            1\n",
            "*R094                 1\n",
            "*Y753*T814*B968       1\n",
            "*R739                 1\n",
            "*R640                 1\n",
            "Name: count, Length: 1032, dtype: int64\n"
          ]
        },
        {
          "output_type": "execute_result",
          "data": {
            "text/plain": [
              "CAUSABAS\n",
              "J189    1297\n",
              "I219    1161\n",
              "N390     717\n",
              "I64      677\n",
              "G309     661\n",
              "        ... \n",
              "A188       1\n",
              "K458       1\n",
              "W338       1\n",
              "D383       1\n",
              "Y129       1\n",
              "Name: count, Length: 1701, dtype: int64"
            ]
          },
          "metadata": {},
          "execution_count": 186
        }
      ]
    },
    {
      "cell_type": "markdown",
      "source": [
        "**LINHAA**\n",
        "\n",
        "* A419 - Septicemia não especificada\n",
        "* J960 - Insuficiência respiratória aguda\n",
        "* R570 - Choque, não especificado\n",
        "* J969 - Insuficiência respiratória não especificada\n",
        "* R092 - Dispneia\n",
        "\n",
        "**CAUSABAS**\n",
        "\n",
        "* J189 - Pneumonia não especificada\n",
        "* I219 - Infarto agudo do miocárdio, não especificado\n",
        "* N390 - Infecção do trato urinário, não especificada\n",
        "* I64 - Acidente vascular cerebral, não especificado como hemorrágico ou isquêmico\n",
        "* G309 - Demência não especificada, não especificada como de início agudo ou crônico"
      ],
      "metadata": {
        "id": "2nymOlXpwt-f"
      }
    },
    {
      "cell_type": "markdown",
      "source": [
        "Rio Grande do Sul"
      ],
      "metadata": {
        "id": "GR41NBDluKbf"
      }
    },
    {
      "cell_type": "code",
      "source": [
        "print(top_causabas_rs)\n",
        "top_linhaa_rs"
      ],
      "metadata": {
        "colab": {
          "base_uri": "https://localhost:8080/"
        },
        "id": "8CmOzR6szR0W",
        "outputId": "58d68a7c-9448-4af6-8485-80233e1e66c1"
      },
      "execution_count": null,
      "outputs": [
        {
          "output_type": "stream",
          "name": "stdout",
          "text": [
            "LINHAA\n",
            "*A419    6065\n",
            "*J960    2229\n",
            "*J969    2217\n",
            "*R092    1994\n",
            "*R570     797\n",
            "         ... \n",
            "*C56X       1\n",
            "*K223       1\n",
            "*E108       1\n",
            "*S273       1\n",
            "*K639       1\n",
            "Name: count, Length: 715, dtype: int64\n"
          ]
        },
        {
          "output_type": "execute_result",
          "data": {
            "text/plain": [
              "CAUSABAS\n",
              "I219    977\n",
              "C349    904\n",
              "G309    680\n",
              "J189    616\n",
              "J449    552\n",
              "       ... \n",
              "V239      1\n",
              "C062      1\n",
              "K658      1\n",
              "C621      1\n",
              "E839      1\n",
              "Name: count, Length: 1399, dtype: int64"
            ]
          },
          "metadata": {},
          "execution_count": 187
        }
      ]
    },
    {
      "cell_type": "markdown",
      "source": [
        "**LINHAA**\n",
        "\n",
        "* A419 - Septicemia não especificada\n",
        "* J960 - Insuficiência respiratória aguda\n",
        "* J969 - Insuficiência respiratória não especificada\n",
        "* R092 - Dispneia\n",
        "* R570 - Choque, não especificado\n",
        "\n",
        "**CAUSABAS**\n",
        "\n",
        "* I219 - Infarto agudo do miocárdio, não especificado\n",
        "* C349 - Tumor maligno do brônquio ou do pulmão, não especificado como primário ou secundário\n",
        "* G309 - Demência não especificada, não especificada como de início agudo ou crônico\n",
        "* J189 - Pneumonia não especificada\n",
        "* J449 - Asma não especificada, com exacerbação aguda"
      ],
      "metadata": {
        "id": "IlSSuH8RzlOh"
      }
    },
    {
      "cell_type": "markdown",
      "source": [
        "Santa Catarina"
      ],
      "metadata": {
        "id": "LZh1eTTcuOX1"
      }
    },
    {
      "cell_type": "code",
      "source": [
        "print(top_causabas_sc)\n",
        "top_linhaa_sc"
      ],
      "metadata": {
        "colab": {
          "base_uri": "https://localhost:8080/"
        },
        "id": "MP8am9SR00fV",
        "outputId": "d7f3208f-fefd-4dad-ecaa-acbbea8c8312"
      },
      "execution_count": null,
      "outputs": [
        {
          "output_type": "stream",
          "name": "stdout",
          "text": [
            "LINHAA\n",
            "*A419              4524\n",
            "*J960              2042\n",
            "*R092              1822\n",
            "*R570              1079\n",
            "*J969              1057\n",
            "                   ... \n",
            "*F013                 1\n",
            "*G629                 1\n",
            "*Y831*T847            1\n",
            "*X610*T430            1\n",
            "*X690*X610*X780       1\n",
            "Name: count, Length: 935, dtype: int64\n"
          ]
        },
        {
          "output_type": "execute_result",
          "data": {
            "text/plain": [
              "CAUSABAS\n",
              "I219    1160\n",
              "J189     754\n",
              "C349     693\n",
              "G309     564\n",
              "J440     556\n",
              "        ... \n",
              "X040       1\n",
              "V200       1\n",
              "C715       1\n",
              "C927       1\n",
              "D591       1\n",
              "Name: count, Length: 1611, dtype: int64"
            ]
          },
          "metadata": {},
          "execution_count": 188
        }
      ]
    },
    {
      "cell_type": "markdown",
      "source": [
        "**LINHAA**\n",
        "\n",
        "* A419 - Septicemia não especificada\n",
        "* J960 - Insuficiência respiratória aguda\n",
        "* R092 - Dispneia\n",
        "* R570 - Choque, não especificado\n",
        "* J969 - Insuficiência respiratória não especificada\n",
        "\n",
        "**CAUSABAS**\n",
        "\n",
        "* I219 - Infarto agudo do miocárdio, não especificado\n",
        "* J189 - Pneumonia não especificada\n",
        "* C349 - Tumor maligno do brônquio ou do pulmão, não especificado como primário ou secundário\n",
        "* G309 - Demência não especificada, não especificada como de início agudo ou crônico\n",
        "* J440 - Doença pulmonar obstrutiva crônica com componente agudo, não especificada   "
      ],
      "metadata": {
        "id": "-_UiAHLs0_i_"
      }
    },
    {
      "cell_type": "markdown",
      "source": [
        "**CONCLUSÃO**\n",
        "\n",
        "As diversas análises elaboradas sobre as mortes não fetais no Brasil em 2023 são de significante importância para compreender as mortes no Brasil e estabelecer relações com a conjuntura social do Brasil: expectativa de vida, sistema educacional, sexo, ocupações e outros.\n",
        "\n",
        " Apesar de alguns limites de pesquisa, é perceptível o quanto é desalentador a situação brasileira do ponto de vista social. A maioria dos mortos, por exemplo, tinham ocupações precárias e baixo nível escolar.\n",
        "\n",
        " Ter um dimensionamento de quem são seus mortos é de fundamental importância, pois foram uma amostra da população brasileira. De modo, que a partir de tais indicadores, medidas devem ser tomadas pelas instituições públicas e pela sociedade em geral para melhorar a qualidade de vida da população e o sistema público de saúde."
      ],
      "metadata": {
        "id": "oL4KJcoBiIhQ"
      }
    },
    {
      "cell_type": "markdown",
      "source": [
        "**7.2 Análise das Mortes Fetais (Dataframe df_maes)**"
      ],
      "metadata": {
        "id": "yRT8BD_AjKPm"
      }
    },
    {
      "cell_type": "code",
      "source": [
        "#Cópia do dataframe por segurança\n",
        "df_fetal= df_maes.copy(deep=True)"
      ],
      "metadata": {
        "id": "cE7FR6PWolTA"
      },
      "execution_count": null,
      "outputs": []
    },
    {
      "cell_type": "markdown",
      "source": [
        "Anteriormente, ocorreu a análise dos óbitos não fetais. Nesse momento, apenas serão visualizados e analisados os óbitos fetais. Como pode ser visualizado abaixo: 100 % dos dados são de óbitos fetais (tipo 1). E o número absoluto de mortes fetais em 2023 foi 22.153.\n",
        "\n",
        "É importante esclarecer o termo feto. Essa denominação é dada para o embrião, após a oitava semana posterior a fecundação. Isto é, até a oitava semana é chamada embrião e posteriormente feto.\n",
        "\n",
        "Para o direito civil, o feto não possui personalidade civil (direito a herança, ao nome, por exemplo), entretanto seus direitos são resguardados desde a concepção. Logo, o feto tem tais direitos resguardados, inclusive o direito a vida. Qualquer atentado é considerado crime, com exceção de casos específicos."
      ],
      "metadata": {
        "id": "_ZVhiGkBsAWg"
      }
    },
    {
      "cell_type": "code",
      "source": [
        "# Obtenção dos dados fetais: valor, número absoluto (contagem) e percentual\n",
        "contagem_valores = df_fetal['TIPOBITO'].value_counts()\n",
        "percentual_valores = contagem_valores / len(df_fetal) * 100\n",
        "resultados = pd.DataFrame({'Valores': contagem_valores.index, 'Contagem': contagem_valores.values, 'Percentual (%)': percentual_valores.values})\n",
        "resultados"
      ],
      "metadata": {
        "id": "owMVYD_Koa8K",
        "colab": {
          "base_uri": "https://localhost:8080/",
          "height": 81
        },
        "outputId": "be2cbdb7-04ed-4a73-a023-e3bafd059347"
      },
      "execution_count": null,
      "outputs": [
        {
          "output_type": "execute_result",
          "data": {
            "text/plain": [
              "  Valores  Contagem  Percentual (%)\n",
              "0       1     22153           100.0"
            ],
            "text/html": [
              "\n",
              "  <div id=\"df-ce746eb4-9ae5-4f98-a493-3011702411fc\" class=\"colab-df-container\">\n",
              "    <div>\n",
              "<style scoped>\n",
              "    .dataframe tbody tr th:only-of-type {\n",
              "        vertical-align: middle;\n",
              "    }\n",
              "\n",
              "    .dataframe tbody tr th {\n",
              "        vertical-align: top;\n",
              "    }\n",
              "\n",
              "    .dataframe thead th {\n",
              "        text-align: right;\n",
              "    }\n",
              "</style>\n",
              "<table border=\"1\" class=\"dataframe\">\n",
              "  <thead>\n",
              "    <tr style=\"text-align: right;\">\n",
              "      <th></th>\n",
              "      <th>Valores</th>\n",
              "      <th>Contagem</th>\n",
              "      <th>Percentual (%)</th>\n",
              "    </tr>\n",
              "  </thead>\n",
              "  <tbody>\n",
              "    <tr>\n",
              "      <th>0</th>\n",
              "      <td>1</td>\n",
              "      <td>22153</td>\n",
              "      <td>100.0</td>\n",
              "    </tr>\n",
              "  </tbody>\n",
              "</table>\n",
              "</div>\n",
              "    <div class=\"colab-df-buttons\">\n",
              "\n",
              "  <div class=\"colab-df-container\">\n",
              "    <button class=\"colab-df-convert\" onclick=\"convertToInteractive('df-ce746eb4-9ae5-4f98-a493-3011702411fc')\"\n",
              "            title=\"Convert this dataframe to an interactive table.\"\n",
              "            style=\"display:none;\">\n",
              "\n",
              "  <svg xmlns=\"http://www.w3.org/2000/svg\" height=\"24px\" viewBox=\"0 -960 960 960\">\n",
              "    <path d=\"M120-120v-720h720v720H120Zm60-500h600v-160H180v160Zm220 220h160v-160H400v160Zm0 220h160v-160H400v160ZM180-400h160v-160H180v160Zm440 0h160v-160H620v160ZM180-180h160v-160H180v160Zm440 0h160v-160H620v160Z\"/>\n",
              "  </svg>\n",
              "    </button>\n",
              "\n",
              "  <style>\n",
              "    .colab-df-container {\n",
              "      display:flex;\n",
              "      gap: 12px;\n",
              "    }\n",
              "\n",
              "    .colab-df-convert {\n",
              "      background-color: #E8F0FE;\n",
              "      border: none;\n",
              "      border-radius: 50%;\n",
              "      cursor: pointer;\n",
              "      display: none;\n",
              "      fill: #1967D2;\n",
              "      height: 32px;\n",
              "      padding: 0 0 0 0;\n",
              "      width: 32px;\n",
              "    }\n",
              "\n",
              "    .colab-df-convert:hover {\n",
              "      background-color: #E2EBFA;\n",
              "      box-shadow: 0px 1px 2px rgba(60, 64, 67, 0.3), 0px 1px 3px 1px rgba(60, 64, 67, 0.15);\n",
              "      fill: #174EA6;\n",
              "    }\n",
              "\n",
              "    .colab-df-buttons div {\n",
              "      margin-bottom: 4px;\n",
              "    }\n",
              "\n",
              "    [theme=dark] .colab-df-convert {\n",
              "      background-color: #3B4455;\n",
              "      fill: #D2E3FC;\n",
              "    }\n",
              "\n",
              "    [theme=dark] .colab-df-convert:hover {\n",
              "      background-color: #434B5C;\n",
              "      box-shadow: 0px 1px 3px 1px rgba(0, 0, 0, 0.15);\n",
              "      filter: drop-shadow(0px 1px 2px rgba(0, 0, 0, 0.3));\n",
              "      fill: #FFFFFF;\n",
              "    }\n",
              "  </style>\n",
              "\n",
              "    <script>\n",
              "      const buttonEl =\n",
              "        document.querySelector('#df-ce746eb4-9ae5-4f98-a493-3011702411fc button.colab-df-convert');\n",
              "      buttonEl.style.display =\n",
              "        google.colab.kernel.accessAllowed ? 'block' : 'none';\n",
              "\n",
              "      async function convertToInteractive(key) {\n",
              "        const element = document.querySelector('#df-ce746eb4-9ae5-4f98-a493-3011702411fc');\n",
              "        const dataTable =\n",
              "          await google.colab.kernel.invokeFunction('convertToInteractive',\n",
              "                                                    [key], {});\n",
              "        if (!dataTable) return;\n",
              "\n",
              "        const docLinkHtml = 'Like what you see? Visit the ' +\n",
              "          '<a target=\"_blank\" href=https://colab.research.google.com/notebooks/data_table.ipynb>data table notebook</a>'\n",
              "          + ' to learn more about interactive tables.';\n",
              "        element.innerHTML = '';\n",
              "        dataTable['output_type'] = 'display_data';\n",
              "        await google.colab.output.renderOutput(dataTable, element);\n",
              "        const docLink = document.createElement('div');\n",
              "        docLink.innerHTML = docLinkHtml;\n",
              "        element.appendChild(docLink);\n",
              "      }\n",
              "    </script>\n",
              "  </div>\n",
              "\n",
              "    </div>\n",
              "  </div>\n"
            ],
            "application/vnd.google.colaboratory.intrinsic+json": {
              "type": "dataframe",
              "variable_name": "resultados",
              "summary": "{\n  \"name\": \"resultados\",\n  \"rows\": 1,\n  \"fields\": [\n    {\n      \"column\": \"Valores\",\n      \"properties\": {\n        \"dtype\": \"string\",\n        \"num_unique_values\": 1,\n        \"samples\": [\n          \"1\"\n        ],\n        \"semantic_type\": \"\",\n        \"description\": \"\"\n      }\n    },\n    {\n      \"column\": \"Contagem\",\n      \"properties\": {\n        \"dtype\": \"number\",\n        \"std\": null,\n        \"min\": 22153,\n        \"max\": 22153,\n        \"num_unique_values\": 1,\n        \"samples\": [\n          22153\n        ],\n        \"semantic_type\": \"\",\n        \"description\": \"\"\n      }\n    },\n    {\n      \"column\": \"Percentual (%)\",\n      \"properties\": {\n        \"dtype\": \"number\",\n        \"std\": null,\n        \"min\": 100.0,\n        \"max\": 100.0,\n        \"num_unique_values\": 1,\n        \"samples\": [\n          100.0\n        ],\n        \"semantic_type\": \"\",\n        \"description\": \"\"\n      }\n    }\n  ]\n}"
            }
          },
          "metadata": {},
          "execution_count": 190
        }
      ]
    },
    {
      "cell_type": "markdown",
      "source": [
        "**ANÁLISE GERAL DO DATAFRAME df_fetal**"
      ],
      "metadata": {
        "id": "uANxhRGELXZl"
      }
    },
    {
      "cell_type": "markdown",
      "source": [
        "O dataframe df_fetal possui 15 colunas, conforme exposto abaixo. Não ocorrerá análise conceitual pois todas as colunas estavam presentes no outro data frame. E essa análise já ocorreu anteriormente."
      ],
      "metadata": {
        "id": "C5zL2cs2-OMF"
      }
    },
    {
      "cell_type": "code",
      "source": [
        "df_fetal.info()\n",
        "df_fetal"
      ],
      "metadata": {
        "id": "wIv0uu6KvAxy",
        "colab": {
          "base_uri": "https://localhost:8080/",
          "height": 896
        },
        "outputId": "06207772-7be7-4cde-9c02-dd8d2e1ebcb7"
      },
      "execution_count": null,
      "outputs": [
        {
          "output_type": "stream",
          "name": "stdout",
          "text": [
            "<class 'pandas.core.frame.DataFrame'>\n",
            "Index: 22153 entries, 14 to 1400567\n",
            "Data columns (total 16 columns):\n",
            " #   Column                 Non-Null Count  Dtype \n",
            "---  ------                 --------------  ----- \n",
            " 0   TIPOBITO               22153 non-null  object\n",
            " 1   DTOBITO                22153 non-null  object\n",
            " 2   NATURAL                22153 non-null  object\n",
            " 3   SEXO                   22153 non-null  object\n",
            " 4   LOCOCOR                22153 non-null  object\n",
            " 5   ASSISTMED              22153 non-null  object\n",
            " 6   NECROPSIA              22153 non-null  object\n",
            " 7   LINHAA                 22153 non-null  object\n",
            " 8   CAUSABAS               22153 non-null  object\n",
            " 9   ATESTADO               22153 non-null  object\n",
            " 10  STDOEPIDEM             22153 non-null  object\n",
            " 11  STDONOVA               22153 non-null  object\n",
            " 12  DIFDATA                22153 non-null  object\n",
            " 13  TPPOS                  22153 non-null  int64 \n",
            " 14  MUNICIPIO_DO_OBITO     22153 non-null  object\n",
            " 15  UF_MUNICIPIO_DO_OBITO  22153 non-null  object\n",
            "dtypes: int64(1), object(15)\n",
            "memory usage: 2.9+ MB\n"
          ]
        },
        {
          "output_type": "execute_result",
          "data": {
            "text/plain": [
              "        TIPOBITO   DTOBITO NATURAL SEXO LOCOCOR ASSISTMED NECROPSIA LINHAA  \\\n",
              "14             1  14022023     841    1       1         1         2  *P95X   \n",
              "91             1  01012023     822    2       1         1         2  *Q899   \n",
              "92             1  01012023     822    2       1         1         2  *P209   \n",
              "146            1  01012023     813    2       3         2         2   P021   \n",
              "209            1  01012023     833    1       1         1         2  *P964   \n",
              "...          ...       ...     ...  ...     ...       ...       ...    ...   \n",
              "1400546        1  08052023     813    1       6         1         2  *P209   \n",
              "1400554        1  12062023     813    1       6         2         2  *P95X   \n",
              "1400555        1  14062023     815    2       3         2         2  *P95X   \n",
              "1400565        1  27072023     816    1       6         2         2  *P209   \n",
              "1400567        1  07082023     815    2       6         2         2  *P95X   \n",
              "\n",
              "        CAUSABAS        ATESTADO STDOEPIDEM STDONOVA DIFDATA  TPPOS  \\\n",
              "14          P000   P95/P021/P000          0        1     010      2   \n",
              "91          Q899            Q899          0        1     002      2   \n",
              "92          P024  P209/P024*P000          0        1     107      1   \n",
              "146         P021      /P209/P021          0        1     302      1   \n",
              "209         Q789       P964/Q789          0        1     087      1   \n",
              "...          ...             ...        ...      ...     ...    ...   \n",
              "1400546     P039  P209/P039*P031          0        1     036      9   \n",
              "1400554      P95             P95          0        1     108      9   \n",
              "1400555      P95             P95          0        1     065      9   \n",
              "1400565     P209            P209          0        1     095      9   \n",
              "1400567      P95             P95          0        1     050      9   \n",
              "\n",
              "               MUNICIPIO_DO_OBITO UF_MUNICIPIO_DO_OBITO  \n",
              "14       SANTO ANTÔNIO DA PLATINA                PARANÁ  \n",
              "91                          PICOS                 PIAUÍ  \n",
              "92                          PICOS                 PIAUÍ  \n",
              "146          NOVA OLINDA DO NORTE              AMAZONAS  \n",
              "209                RIO DE JANEIRO        RIO DE JANEIRO  \n",
              "...                           ...                   ...  \n",
              "1400546          ATALAIA DO NORTE              AMAZONAS  \n",
              "1400554                  EIRUNEPÉ              AMAZONAS  \n",
              "1400555              JACAREACANGA                  PARÁ  \n",
              "1400565                  OIAPOQUE                 AMAPÁ  \n",
              "1400567              JACAREACANGA                  PARÁ  \n",
              "\n",
              "[22153 rows x 16 columns]"
            ],
            "text/html": [
              "\n",
              "  <div id=\"df-d7dcc8ed-2a08-4783-97f6-3180e7786a8a\" class=\"colab-df-container\">\n",
              "    <div>\n",
              "<style scoped>\n",
              "    .dataframe tbody tr th:only-of-type {\n",
              "        vertical-align: middle;\n",
              "    }\n",
              "\n",
              "    .dataframe tbody tr th {\n",
              "        vertical-align: top;\n",
              "    }\n",
              "\n",
              "    .dataframe thead th {\n",
              "        text-align: right;\n",
              "    }\n",
              "</style>\n",
              "<table border=\"1\" class=\"dataframe\">\n",
              "  <thead>\n",
              "    <tr style=\"text-align: right;\">\n",
              "      <th></th>\n",
              "      <th>TIPOBITO</th>\n",
              "      <th>DTOBITO</th>\n",
              "      <th>NATURAL</th>\n",
              "      <th>SEXO</th>\n",
              "      <th>LOCOCOR</th>\n",
              "      <th>ASSISTMED</th>\n",
              "      <th>NECROPSIA</th>\n",
              "      <th>LINHAA</th>\n",
              "      <th>CAUSABAS</th>\n",
              "      <th>ATESTADO</th>\n",
              "      <th>STDOEPIDEM</th>\n",
              "      <th>STDONOVA</th>\n",
              "      <th>DIFDATA</th>\n",
              "      <th>TPPOS</th>\n",
              "      <th>MUNICIPIO_DO_OBITO</th>\n",
              "      <th>UF_MUNICIPIO_DO_OBITO</th>\n",
              "    </tr>\n",
              "  </thead>\n",
              "  <tbody>\n",
              "    <tr>\n",
              "      <th>14</th>\n",
              "      <td>1</td>\n",
              "      <td>14022023</td>\n",
              "      <td>841</td>\n",
              "      <td>1</td>\n",
              "      <td>1</td>\n",
              "      <td>1</td>\n",
              "      <td>2</td>\n",
              "      <td>*P95X</td>\n",
              "      <td>P000</td>\n",
              "      <td>P95/P021/P000</td>\n",
              "      <td>0</td>\n",
              "      <td>1</td>\n",
              "      <td>010</td>\n",
              "      <td>2</td>\n",
              "      <td>SANTO ANTÔNIO DA PLATINA</td>\n",
              "      <td>PARANÁ</td>\n",
              "    </tr>\n",
              "    <tr>\n",
              "      <th>91</th>\n",
              "      <td>1</td>\n",
              "      <td>01012023</td>\n",
              "      <td>822</td>\n",
              "      <td>2</td>\n",
              "      <td>1</td>\n",
              "      <td>1</td>\n",
              "      <td>2</td>\n",
              "      <td>*Q899</td>\n",
              "      <td>Q899</td>\n",
              "      <td>Q899</td>\n",
              "      <td>0</td>\n",
              "      <td>1</td>\n",
              "      <td>002</td>\n",
              "      <td>2</td>\n",
              "      <td>PICOS</td>\n",
              "      <td>PIAUÍ</td>\n",
              "    </tr>\n",
              "    <tr>\n",
              "      <th>92</th>\n",
              "      <td>1</td>\n",
              "      <td>01012023</td>\n",
              "      <td>822</td>\n",
              "      <td>2</td>\n",
              "      <td>1</td>\n",
              "      <td>1</td>\n",
              "      <td>2</td>\n",
              "      <td>*P209</td>\n",
              "      <td>P024</td>\n",
              "      <td>P209/P024*P000</td>\n",
              "      <td>0</td>\n",
              "      <td>1</td>\n",
              "      <td>107</td>\n",
              "      <td>1</td>\n",
              "      <td>PICOS</td>\n",
              "      <td>PIAUÍ</td>\n",
              "    </tr>\n",
              "    <tr>\n",
              "      <th>146</th>\n",
              "      <td>1</td>\n",
              "      <td>01012023</td>\n",
              "      <td>813</td>\n",
              "      <td>2</td>\n",
              "      <td>3</td>\n",
              "      <td>2</td>\n",
              "      <td>2</td>\n",
              "      <td>P021</td>\n",
              "      <td>P021</td>\n",
              "      <td>/P209/P021</td>\n",
              "      <td>0</td>\n",
              "      <td>1</td>\n",
              "      <td>302</td>\n",
              "      <td>1</td>\n",
              "      <td>NOVA OLINDA DO NORTE</td>\n",
              "      <td>AMAZONAS</td>\n",
              "    </tr>\n",
              "    <tr>\n",
              "      <th>209</th>\n",
              "      <td>1</td>\n",
              "      <td>01012023</td>\n",
              "      <td>833</td>\n",
              "      <td>1</td>\n",
              "      <td>1</td>\n",
              "      <td>1</td>\n",
              "      <td>2</td>\n",
              "      <td>*P964</td>\n",
              "      <td>Q789</td>\n",
              "      <td>P964/Q789</td>\n",
              "      <td>0</td>\n",
              "      <td>1</td>\n",
              "      <td>087</td>\n",
              "      <td>1</td>\n",
              "      <td>RIO DE JANEIRO</td>\n",
              "      <td>RIO DE JANEIRO</td>\n",
              "    </tr>\n",
              "    <tr>\n",
              "      <th>...</th>\n",
              "      <td>...</td>\n",
              "      <td>...</td>\n",
              "      <td>...</td>\n",
              "      <td>...</td>\n",
              "      <td>...</td>\n",
              "      <td>...</td>\n",
              "      <td>...</td>\n",
              "      <td>...</td>\n",
              "      <td>...</td>\n",
              "      <td>...</td>\n",
              "      <td>...</td>\n",
              "      <td>...</td>\n",
              "      <td>...</td>\n",
              "      <td>...</td>\n",
              "      <td>...</td>\n",
              "      <td>...</td>\n",
              "    </tr>\n",
              "    <tr>\n",
              "      <th>1400546</th>\n",
              "      <td>1</td>\n",
              "      <td>08052023</td>\n",
              "      <td>813</td>\n",
              "      <td>1</td>\n",
              "      <td>6</td>\n",
              "      <td>1</td>\n",
              "      <td>2</td>\n",
              "      <td>*P209</td>\n",
              "      <td>P039</td>\n",
              "      <td>P209/P039*P031</td>\n",
              "      <td>0</td>\n",
              "      <td>1</td>\n",
              "      <td>036</td>\n",
              "      <td>9</td>\n",
              "      <td>ATALAIA DO NORTE</td>\n",
              "      <td>AMAZONAS</td>\n",
              "    </tr>\n",
              "    <tr>\n",
              "      <th>1400554</th>\n",
              "      <td>1</td>\n",
              "      <td>12062023</td>\n",
              "      <td>813</td>\n",
              "      <td>1</td>\n",
              "      <td>6</td>\n",
              "      <td>2</td>\n",
              "      <td>2</td>\n",
              "      <td>*P95X</td>\n",
              "      <td>P95</td>\n",
              "      <td>P95</td>\n",
              "      <td>0</td>\n",
              "      <td>1</td>\n",
              "      <td>108</td>\n",
              "      <td>9</td>\n",
              "      <td>EIRUNEPÉ</td>\n",
              "      <td>AMAZONAS</td>\n",
              "    </tr>\n",
              "    <tr>\n",
              "      <th>1400555</th>\n",
              "      <td>1</td>\n",
              "      <td>14062023</td>\n",
              "      <td>815</td>\n",
              "      <td>2</td>\n",
              "      <td>3</td>\n",
              "      <td>2</td>\n",
              "      <td>2</td>\n",
              "      <td>*P95X</td>\n",
              "      <td>P95</td>\n",
              "      <td>P95</td>\n",
              "      <td>0</td>\n",
              "      <td>1</td>\n",
              "      <td>065</td>\n",
              "      <td>9</td>\n",
              "      <td>JACAREACANGA</td>\n",
              "      <td>PARÁ</td>\n",
              "    </tr>\n",
              "    <tr>\n",
              "      <th>1400565</th>\n",
              "      <td>1</td>\n",
              "      <td>27072023</td>\n",
              "      <td>816</td>\n",
              "      <td>1</td>\n",
              "      <td>6</td>\n",
              "      <td>2</td>\n",
              "      <td>2</td>\n",
              "      <td>*P209</td>\n",
              "      <td>P209</td>\n",
              "      <td>P209</td>\n",
              "      <td>0</td>\n",
              "      <td>1</td>\n",
              "      <td>095</td>\n",
              "      <td>9</td>\n",
              "      <td>OIAPOQUE</td>\n",
              "      <td>AMAPÁ</td>\n",
              "    </tr>\n",
              "    <tr>\n",
              "      <th>1400567</th>\n",
              "      <td>1</td>\n",
              "      <td>07082023</td>\n",
              "      <td>815</td>\n",
              "      <td>2</td>\n",
              "      <td>6</td>\n",
              "      <td>2</td>\n",
              "      <td>2</td>\n",
              "      <td>*P95X</td>\n",
              "      <td>P95</td>\n",
              "      <td>P95</td>\n",
              "      <td>0</td>\n",
              "      <td>1</td>\n",
              "      <td>050</td>\n",
              "      <td>9</td>\n",
              "      <td>JACAREACANGA</td>\n",
              "      <td>PARÁ</td>\n",
              "    </tr>\n",
              "  </tbody>\n",
              "</table>\n",
              "<p>22153 rows × 16 columns</p>\n",
              "</div>\n",
              "    <div class=\"colab-df-buttons\">\n",
              "\n",
              "  <div class=\"colab-df-container\">\n",
              "    <button class=\"colab-df-convert\" onclick=\"convertToInteractive('df-d7dcc8ed-2a08-4783-97f6-3180e7786a8a')\"\n",
              "            title=\"Convert this dataframe to an interactive table.\"\n",
              "            style=\"display:none;\">\n",
              "\n",
              "  <svg xmlns=\"http://www.w3.org/2000/svg\" height=\"24px\" viewBox=\"0 -960 960 960\">\n",
              "    <path d=\"M120-120v-720h720v720H120Zm60-500h600v-160H180v160Zm220 220h160v-160H400v160Zm0 220h160v-160H400v160ZM180-400h160v-160H180v160Zm440 0h160v-160H620v160ZM180-180h160v-160H180v160Zm440 0h160v-160H620v160Z\"/>\n",
              "  </svg>\n",
              "    </button>\n",
              "\n",
              "  <style>\n",
              "    .colab-df-container {\n",
              "      display:flex;\n",
              "      gap: 12px;\n",
              "    }\n",
              "\n",
              "    .colab-df-convert {\n",
              "      background-color: #E8F0FE;\n",
              "      border: none;\n",
              "      border-radius: 50%;\n",
              "      cursor: pointer;\n",
              "      display: none;\n",
              "      fill: #1967D2;\n",
              "      height: 32px;\n",
              "      padding: 0 0 0 0;\n",
              "      width: 32px;\n",
              "    }\n",
              "\n",
              "    .colab-df-convert:hover {\n",
              "      background-color: #E2EBFA;\n",
              "      box-shadow: 0px 1px 2px rgba(60, 64, 67, 0.3), 0px 1px 3px 1px rgba(60, 64, 67, 0.15);\n",
              "      fill: #174EA6;\n",
              "    }\n",
              "\n",
              "    .colab-df-buttons div {\n",
              "      margin-bottom: 4px;\n",
              "    }\n",
              "\n",
              "    [theme=dark] .colab-df-convert {\n",
              "      background-color: #3B4455;\n",
              "      fill: #D2E3FC;\n",
              "    }\n",
              "\n",
              "    [theme=dark] .colab-df-convert:hover {\n",
              "      background-color: #434B5C;\n",
              "      box-shadow: 0px 1px 3px 1px rgba(0, 0, 0, 0.15);\n",
              "      filter: drop-shadow(0px 1px 2px rgba(0, 0, 0, 0.3));\n",
              "      fill: #FFFFFF;\n",
              "    }\n",
              "  </style>\n",
              "\n",
              "    <script>\n",
              "      const buttonEl =\n",
              "        document.querySelector('#df-d7dcc8ed-2a08-4783-97f6-3180e7786a8a button.colab-df-convert');\n",
              "      buttonEl.style.display =\n",
              "        google.colab.kernel.accessAllowed ? 'block' : 'none';\n",
              "\n",
              "      async function convertToInteractive(key) {\n",
              "        const element = document.querySelector('#df-d7dcc8ed-2a08-4783-97f6-3180e7786a8a');\n",
              "        const dataTable =\n",
              "          await google.colab.kernel.invokeFunction('convertToInteractive',\n",
              "                                                    [key], {});\n",
              "        if (!dataTable) return;\n",
              "\n",
              "        const docLinkHtml = 'Like what you see? Visit the ' +\n",
              "          '<a target=\"_blank\" href=https://colab.research.google.com/notebooks/data_table.ipynb>data table notebook</a>'\n",
              "          + ' to learn more about interactive tables.';\n",
              "        element.innerHTML = '';\n",
              "        dataTable['output_type'] = 'display_data';\n",
              "        await google.colab.output.renderOutput(dataTable, element);\n",
              "        const docLink = document.createElement('div');\n",
              "        docLink.innerHTML = docLinkHtml;\n",
              "        element.appendChild(docLink);\n",
              "      }\n",
              "    </script>\n",
              "  </div>\n",
              "\n",
              "\n",
              "<div id=\"df-af9ef909-809b-4931-aa5b-0510658eb3b3\">\n",
              "  <button class=\"colab-df-quickchart\" onclick=\"quickchart('df-af9ef909-809b-4931-aa5b-0510658eb3b3')\"\n",
              "            title=\"Suggest charts\"\n",
              "            style=\"display:none;\">\n",
              "\n",
              "<svg xmlns=\"http://www.w3.org/2000/svg\" height=\"24px\"viewBox=\"0 0 24 24\"\n",
              "     width=\"24px\">\n",
              "    <g>\n",
              "        <path d=\"M19 3H5c-1.1 0-2 .9-2 2v14c0 1.1.9 2 2 2h14c1.1 0 2-.9 2-2V5c0-1.1-.9-2-2-2zM9 17H7v-7h2v7zm4 0h-2V7h2v10zm4 0h-2v-4h2v4z\"/>\n",
              "    </g>\n",
              "</svg>\n",
              "  </button>\n",
              "\n",
              "<style>\n",
              "  .colab-df-quickchart {\n",
              "      --bg-color: #E8F0FE;\n",
              "      --fill-color: #1967D2;\n",
              "      --hover-bg-color: #E2EBFA;\n",
              "      --hover-fill-color: #174EA6;\n",
              "      --disabled-fill-color: #AAA;\n",
              "      --disabled-bg-color: #DDD;\n",
              "  }\n",
              "\n",
              "  [theme=dark] .colab-df-quickchart {\n",
              "      --bg-color: #3B4455;\n",
              "      --fill-color: #D2E3FC;\n",
              "      --hover-bg-color: #434B5C;\n",
              "      --hover-fill-color: #FFFFFF;\n",
              "      --disabled-bg-color: #3B4455;\n",
              "      --disabled-fill-color: #666;\n",
              "  }\n",
              "\n",
              "  .colab-df-quickchart {\n",
              "    background-color: var(--bg-color);\n",
              "    border: none;\n",
              "    border-radius: 50%;\n",
              "    cursor: pointer;\n",
              "    display: none;\n",
              "    fill: var(--fill-color);\n",
              "    height: 32px;\n",
              "    padding: 0;\n",
              "    width: 32px;\n",
              "  }\n",
              "\n",
              "  .colab-df-quickchart:hover {\n",
              "    background-color: var(--hover-bg-color);\n",
              "    box-shadow: 0 1px 2px rgba(60, 64, 67, 0.3), 0 1px 3px 1px rgba(60, 64, 67, 0.15);\n",
              "    fill: var(--button-hover-fill-color);\n",
              "  }\n",
              "\n",
              "  .colab-df-quickchart-complete:disabled,\n",
              "  .colab-df-quickchart-complete:disabled:hover {\n",
              "    background-color: var(--disabled-bg-color);\n",
              "    fill: var(--disabled-fill-color);\n",
              "    box-shadow: none;\n",
              "  }\n",
              "\n",
              "  .colab-df-spinner {\n",
              "    border: 2px solid var(--fill-color);\n",
              "    border-color: transparent;\n",
              "    border-bottom-color: var(--fill-color);\n",
              "    animation:\n",
              "      spin 1s steps(1) infinite;\n",
              "  }\n",
              "\n",
              "  @keyframes spin {\n",
              "    0% {\n",
              "      border-color: transparent;\n",
              "      border-bottom-color: var(--fill-color);\n",
              "      border-left-color: var(--fill-color);\n",
              "    }\n",
              "    20% {\n",
              "      border-color: transparent;\n",
              "      border-left-color: var(--fill-color);\n",
              "      border-top-color: var(--fill-color);\n",
              "    }\n",
              "    30% {\n",
              "      border-color: transparent;\n",
              "      border-left-color: var(--fill-color);\n",
              "      border-top-color: var(--fill-color);\n",
              "      border-right-color: var(--fill-color);\n",
              "    }\n",
              "    40% {\n",
              "      border-color: transparent;\n",
              "      border-right-color: var(--fill-color);\n",
              "      border-top-color: var(--fill-color);\n",
              "    }\n",
              "    60% {\n",
              "      border-color: transparent;\n",
              "      border-right-color: var(--fill-color);\n",
              "    }\n",
              "    80% {\n",
              "      border-color: transparent;\n",
              "      border-right-color: var(--fill-color);\n",
              "      border-bottom-color: var(--fill-color);\n",
              "    }\n",
              "    90% {\n",
              "      border-color: transparent;\n",
              "      border-bottom-color: var(--fill-color);\n",
              "    }\n",
              "  }\n",
              "</style>\n",
              "\n",
              "  <script>\n",
              "    async function quickchart(key) {\n",
              "      const quickchartButtonEl =\n",
              "        document.querySelector('#' + key + ' button');\n",
              "      quickchartButtonEl.disabled = true;  // To prevent multiple clicks.\n",
              "      quickchartButtonEl.classList.add('colab-df-spinner');\n",
              "      try {\n",
              "        const charts = await google.colab.kernel.invokeFunction(\n",
              "            'suggestCharts', [key], {});\n",
              "      } catch (error) {\n",
              "        console.error('Error during call to suggestCharts:', error);\n",
              "      }\n",
              "      quickchartButtonEl.classList.remove('colab-df-spinner');\n",
              "      quickchartButtonEl.classList.add('colab-df-quickchart-complete');\n",
              "    }\n",
              "    (() => {\n",
              "      let quickchartButtonEl =\n",
              "        document.querySelector('#df-af9ef909-809b-4931-aa5b-0510658eb3b3 button');\n",
              "      quickchartButtonEl.style.display =\n",
              "        google.colab.kernel.accessAllowed ? 'block' : 'none';\n",
              "    })();\n",
              "  </script>\n",
              "</div>\n",
              "    </div>\n",
              "  </div>\n"
            ],
            "application/vnd.google.colaboratory.intrinsic+json": {
              "type": "dataframe",
              "variable_name": "df_fetal",
              "summary": "{\n  \"name\": \"df_fetal\",\n  \"rows\": 22153,\n  \"fields\": [\n    {\n      \"column\": \"TIPOBITO\",\n      \"properties\": {\n        \"dtype\": \"category\",\n        \"num_unique_values\": 1,\n        \"samples\": [\n          \"1\"\n        ],\n        \"semantic_type\": \"\",\n        \"description\": \"\"\n      }\n    },\n    {\n      \"column\": \"DTOBITO\",\n      \"properties\": {\n        \"dtype\": \"category\",\n        \"num_unique_values\": 365,\n        \"samples\": [\n          \"13072023\"\n        ],\n        \"semantic_type\": \"\",\n        \"description\": \"\"\n      }\n    },\n    {\n      \"column\": \"NATURAL\",\n      \"properties\": {\n        \"dtype\": \"category\",\n        \"num_unique_values\": 27,\n        \"samples\": [\n          \"842\"\n        ],\n        \"semantic_type\": \"\",\n        \"description\": \"\"\n      }\n    },\n    {\n      \"column\": \"SEXO\",\n      \"properties\": {\n        \"dtype\": \"category\",\n        \"num_unique_values\": 3,\n        \"samples\": [\n          \"1\"\n        ],\n        \"semantic_type\": \"\",\n        \"description\": \"\"\n      }\n    },\n    {\n      \"column\": \"LOCOCOR\",\n      \"properties\": {\n        \"dtype\": \"category\",\n        \"num_unique_values\": 7,\n        \"samples\": [\n          \"1\"\n        ],\n        \"semantic_type\": \"\",\n        \"description\": \"\"\n      }\n    },\n    {\n      \"column\": \"ASSISTMED\",\n      \"properties\": {\n        \"dtype\": \"category\",\n        \"num_unique_values\": 4,\n        \"samples\": [\n          \"2\"\n        ],\n        \"semantic_type\": \"\",\n        \"description\": \"\"\n      }\n    },\n    {\n      \"column\": \"NECROPSIA\",\n      \"properties\": {\n        \"dtype\": \"category\",\n        \"num_unique_values\": 4,\n        \"samples\": [\n          \"1\"\n        ],\n        \"semantic_type\": \"\",\n        \"description\": \"\"\n      }\n    },\n    {\n      \"column\": \"LINHAA\",\n      \"properties\": {\n        \"dtype\": \"category\",\n        \"num_unique_values\": 338,\n        \"samples\": [\n          \"*Q771\"\n        ],\n        \"semantic_type\": \"\",\n        \"description\": \"\"\n      }\n    },\n    {\n      \"column\": \"CAUSABAS\",\n      \"properties\": {\n        \"dtype\": \"category\",\n        \"num_unique_values\": 223,\n        \"samples\": [\n          \"P95\"\n        ],\n        \"semantic_type\": \"\",\n        \"description\": \"\"\n      }\n    },\n    {\n      \"column\": \"ATESTADO\",\n      \"properties\": {\n        \"dtype\": \"category\",\n        \"num_unique_values\": 5312,\n        \"samples\": [\n          \"P201/P700\"\n        ],\n        \"semantic_type\": \"\",\n        \"description\": \"\"\n      }\n    },\n    {\n      \"column\": \"STDOEPIDEM\",\n      \"properties\": {\n        \"dtype\": \"category\",\n        \"num_unique_values\": 1,\n        \"samples\": [\n          \"0\"\n        ],\n        \"semantic_type\": \"\",\n        \"description\": \"\"\n      }\n    },\n    {\n      \"column\": \"STDONOVA\",\n      \"properties\": {\n        \"dtype\": \"category\",\n        \"num_unique_values\": 1,\n        \"samples\": [\n          \"1\"\n        ],\n        \"semantic_type\": \"\",\n        \"description\": \"\"\n      }\n    },\n    {\n      \"column\": \"DIFDATA\",\n      \"properties\": {\n        \"dtype\": \"category\",\n        \"num_unique_values\": 351,\n        \"samples\": [\n          \"070\"\n        ],\n        \"semantic_type\": \"\",\n        \"description\": \"\"\n      }\n    },\n    {\n      \"column\": \"TPPOS\",\n      \"properties\": {\n        \"dtype\": \"number\",\n        \"std\": 3,\n        \"min\": 1,\n        \"max\": 9,\n        \"num_unique_values\": 3,\n        \"samples\": [\n          2\n        ],\n        \"semantic_type\": \"\",\n        \"description\": \"\"\n      }\n    },\n    {\n      \"column\": \"MUNICIPIO_DO_OBITO\",\n      \"properties\": {\n        \"dtype\": \"category\",\n        \"num_unique_values\": 1655,\n        \"samples\": [\n          \"ALTO PARNA\\u00cdBA\"\n        ],\n        \"semantic_type\": \"\",\n        \"description\": \"\"\n      }\n    },\n    {\n      \"column\": \"UF_MUNICIPIO_DO_OBITO\",\n      \"properties\": {\n        \"dtype\": \"category\",\n        \"num_unique_values\": 27,\n        \"samples\": [\n          \"SANTA CATARINA\"\n        ],\n        \"semantic_type\": \"\",\n        \"description\": \"\"\n      }\n    }\n  ]\n}"
            }
          },
          "metadata": {},
          "execution_count": 191
        }
      ]
    },
    {
      "cell_type": "markdown",
      "source": [
        "**ESTUDO DA MORTALIDADE FETAL COM BASE NO CRITÉRIO TEMPORAL**"
      ],
      "metadata": {
        "id": "hXbhepxpMKFe"
      }
    },
    {
      "cell_type": "code",
      "source": [
        "# 1. Converter a coluna de datas para o tipo datetime, especificando o formato \"dia mês ano\"\n",
        "df_fetal['DTOBITO'] = pd.to_datetime(df_fetal['DTOBITO'], format='%d%m%Y')\n",
        "\n",
        "# 2. Contar o número de mortes em cada data\n",
        "contagem_por_data = df_fetal['DTOBITO'].value_counts()\n",
        "print(contagem_por_data)\n",
        "\n",
        "# 3. Encontrar a data com o maior número de mortes\n",
        "data_mais_frequente = contagem_por_data.idxmax()\n",
        "\n",
        "print(\"A data com o maior número de mortes fetais é:\", data_mais_frequente)\n"
      ],
      "metadata": {
        "id": "axomN_RJHtxa",
        "colab": {
          "base_uri": "https://localhost:8080/"
        },
        "outputId": "798651bc-d037-4fcc-87c0-7a98bdd90bf4"
      },
      "execution_count": null,
      "outputs": [
        {
          "output_type": "stream",
          "name": "stdout",
          "text": [
            "DTOBITO\n",
            "2023-04-26    99\n",
            "2023-07-26    96\n",
            "2023-04-14    93\n",
            "2023-04-27    92\n",
            "2023-08-16    90\n",
            "              ..\n",
            "2023-12-29     9\n",
            "2023-12-27     8\n",
            "2023-12-28     8\n",
            "2023-12-30     4\n",
            "2023-12-31     4\n",
            "Name: count, Length: 365, dtype: int64\n",
            "A data com o maior número de mortes fetais é: 2023-04-26 00:00:00\n"
          ]
        }
      ]
    },
    {
      "cell_type": "markdown",
      "source": [
        "Conforme apresentado, a data com o maior número de mortes fetais foi 26 de abril de 2023."
      ],
      "metadata": {
        "id": "FqO0bv7SK6rF"
      }
    },
    {
      "cell_type": "code",
      "source": [
        "# O número de mortes por mês e o mês com maior número de mortos\n",
        "\n",
        "\n",
        "# 1. Converta a coluna de datas para o tipo datetime, especificando o formato \"diamesano\"\n",
        "df_fetal.loc[:, 'DTOBITO'] = pd.to_datetime(df_fetal['DTOBITO'], format='%d%m%Y')\n",
        "\n",
        "# 2. Extraia o mês de cada data\n",
        "df_fetal.loc[:, 'MÊS'] = df_fetal['DTOBITO'].dt.month\n",
        "\n",
        "# 3. Agrupe por mês, e some o número de mortes\n",
        "total_mortes_por_mes = df_fetal.groupby('MÊS').size()\n",
        "\n",
        "# 4. Encontre o mês com o maior número total de mortes\n",
        "mes_max_mortes = total_mortes_por_mes.idxmax()\n",
        "\n",
        "# 5. Imprima o número de mortes por mês\n",
        "print(\"Número de mortes por mes:\")\n",
        "print(total_mortes_por_mes)\n",
        "\n",
        "#6. Imprima o mês com maior número total de mortes\n",
        "print(\"\\nO mês com mais mortes fetais é o mês número:\", mes_max_mortes)\n"
      ],
      "metadata": {
        "id": "06XTCQew_zu-",
        "colab": {
          "base_uri": "https://localhost:8080/"
        },
        "outputId": "3531ed2d-d060-458d-a3af-725cfa4dca19"
      },
      "execution_count": null,
      "outputs": [
        {
          "output_type": "stream",
          "name": "stdout",
          "text": [
            "Número de mortes por mes:\n",
            "MÊS\n",
            "1     2142\n",
            "2     1910\n",
            "3     2107\n",
            "4     2061\n",
            "5     2013\n",
            "6     1938\n",
            "7     1966\n",
            "8     1863\n",
            "9     1785\n",
            "10    1745\n",
            "11    1698\n",
            "12     925\n",
            "dtype: int64\n",
            "\n",
            "O mês com mais mortes fetais é o mês número: 1\n"
          ]
        }
      ]
    },
    {
      "cell_type": "markdown",
      "source": [
        "O mês com mais mortes fetais foi janeiro (2142). Também não há grande variação entre os meses, com exceção do mês de dezembro. Há provavelmente outlier nesse período, como dito na análise anterior."
      ],
      "metadata": {
        "id": "ayOlMLUxIj8Y"
      }
    },
    {
      "cell_type": "markdown",
      "source": [
        "**ESTUDO DA MORTALIDADE FETAL COM BASE NO CRITÉRIO SEXO**"
      ],
      "metadata": {
        "id": "9OqBHv6dNo4h"
      }
    },
    {
      "cell_type": "code",
      "source": [
        "# Contagem de mortos fetais (sexo Masculino e Feminino)\n",
        "\n",
        "contagem_por_sexo = df_fetal['SEXO'].value_counts()\n",
        "\n",
        "print(contagem_por_sexo)"
      ],
      "metadata": {
        "id": "AAz2enLMNtJy",
        "colab": {
          "base_uri": "https://localhost:8080/"
        },
        "outputId": "04e7025a-0461-439d-fc98-c45f1f078e1b"
      },
      "execution_count": null,
      "outputs": [
        {
          "output_type": "stream",
          "name": "stdout",
          "text": [
            "SEXO\n",
            "1    11526\n",
            "2     9993\n",
            "0      634\n",
            "Name: count, dtype: int64\n"
          ]
        }
      ]
    },
    {
      "cell_type": "markdown",
      "source": [
        "**Limitação da análise :** O dicionário não esclareceu como o critério sexo masculino, feminino e ignorado está relacionado com os números 1, 2 e 3. Contudo, se seguirmos as tendência dos outros conceitos, que seguiu a numeração pela ordem exposta do critério quantitativo: masculino é 1, feminino é 2, e ignorado é 0. Devido ao pouco tempo de pesquisa, não foi possível contactar os pesquisadores para dirimir tal problema, o que em um estudo mais longo seria de essencial importancia. Caso a análise siga a tendência dos outros conceitos, no ano de 2023 ocorreu mais mortes fetais do sexo masculino [11.526], depois de mulheres [9.993] e por fim do termo ignorado [634]. Há um aumento significativo do termo ignorado em relação às mortes gerais/não fetais [13], provavelmente porque o sexo do feto ainda não podia ser determinado."
      ],
      "metadata": {
        "id": "z57KAZIrOSrU"
      }
    },
    {
      "cell_type": "markdown",
      "source": [
        "**ESTUDO DA MORTALIDADE FETAL COM BASE NO CRITÉRIO LOCAL DE OCORRÊNCIA DO ÓBITO**"
      ],
      "metadata": {
        "id": "Lkh4hRlAP__e"
      }
    },
    {
      "cell_type": "code",
      "source": [
        "contagem_por_local_obito = df_fetal['LOCOCOR'].value_counts()\n",
        "\n",
        "print(contagem_por_local_obito)"
      ],
      "metadata": {
        "id": "0SyJeyHHQ4Su",
        "colab": {
          "base_uri": "https://localhost:8080/"
        },
        "outputId": "0774777f-7fe4-47cd-c6b7-88552c39f6c5"
      },
      "execution_count": null,
      "outputs": [
        {
          "output_type": "stream",
          "name": "stdout",
          "text": [
            "LOCOCOR\n",
            "1    20654\n",
            "3      786\n",
            "2      280\n",
            "5      214\n",
            "9      109\n",
            "4       98\n",
            "6       12\n",
            "Name: count, dtype: int64\n"
          ]
        }
      ]
    },
    {
      "cell_type": "markdown",
      "source": [
        "Diante do exposto, há um número significativo de mortes fetais em hospitais (20654). Depois que aparecem os outros locais: domicílio (786), outros estabelecimentos de saúde (280),  outros (214), ignorado (109), via pública (98) e aldeia indígena (12). Quando comparado com o antigo dataframe, é perceptível que houve um aumento percentual de mortes em hospitais e em casa, assim como diminuição de mortes em via pública. Isso ocorre provavelmente devido a peculiaridade do sujeito, ser que ainda não se locomove."
      ],
      "metadata": {
        "id": "5QHUA_J9Q-EV"
      }
    },
    {
      "cell_type": "markdown",
      "source": [
        "**ESTUDO DA MORTALIDADE FETAL COM BASE NO CRITÉRIO REALIZAÇÃO DE NECROPSIA**"
      ],
      "metadata": {
        "id": "3J-KuMYJYrH3"
      }
    },
    {
      "cell_type": "code",
      "source": [
        "contagem_por_necropsia = df_fetal['NECROPSIA'].value_counts()\n",
        "\n",
        "print(contagem_por_necropsia)"
      ],
      "metadata": {
        "id": "q9H_-QwEZWTo",
        "colab": {
          "base_uri": "https://localhost:8080/"
        },
        "outputId": "2789211b-e5a4-4de4-e73a-10cc599743c8"
      },
      "execution_count": null,
      "outputs": [
        {
          "output_type": "stream",
          "name": "stdout",
          "text": [
            "NECROPSIA\n",
            "2    11188\n",
            "9     7000\n",
            "1     3162\n",
            "9      803\n",
            "Name: count, dtype: int64\n"
          ]
        }
      ]
    },
    {
      "cell_type": "markdown",
      "source": [
        "Diante do exposto, verifica-se que 11.188 fetos não passaram por necropsia. Apenas 3.162 foram necropsiados."
      ],
      "metadata": {
        "id": "JyK08KkSZ5dO"
      }
    },
    {
      "cell_type": "markdown",
      "source": [
        "**ESTUDO DA MORTALIDADE FETAL COM BASE NO CRITÉRIO CAUSA TERMINAL**"
      ],
      "metadata": {
        "id": "wW1w2iCdb2-4"
      }
    },
    {
      "cell_type": "code",
      "source": [
        "causa_terminal = df_fetal['LINHAA'].value_counts()\n",
        "print(causa_terminal)"
      ],
      "metadata": {
        "id": "baBb0ToEcZHR",
        "colab": {
          "base_uri": "https://localhost:8080/"
        },
        "outputId": "e9dec045-228e-4a51-9d45-d6f0c09fe309"
      },
      "execution_count": null,
      "outputs": [
        {
          "output_type": "stream",
          "name": "stdout",
          "text": [
            "LINHAA\n",
            "*P95X         6651\n",
            "*P209         5953\n",
            "*P200         3661\n",
            "*P021          544\n",
            "*P072          449\n",
            "              ... \n",
            "*Q789            1\n",
            "*P741            1\n",
            "*P010*P022       1\n",
            "*P200*P025       1\n",
            "*P960            1\n",
            "Name: count, Length: 338, dtype: int64\n"
          ]
        }
      ]
    },
    {
      "cell_type": "markdown",
      "source": [
        "**LIMITES DA PESQUISA:** A causa terminal está representada por um código alfanumérico (CÓDIGO CID 10). Dessa forma, devido ao pouco tempo para obter a classificação e tratá-la, não haverá uma análise abrangente desse campo. É possível, contudo, visualizar as 5 mais frequentes causas terminais dos fetos que morreram em 2023, bem como sua ocorrência.\n",
        "\n",
        "1ª P95X - Morte fetal de causa não especificada (6.651)\n",
        "\n",
        "2º P209 - Hipóxia intra-uterina não especificada (5.953)\n",
        "\n",
        "3º P200 - Hipóxia intra-uterina diagnosticada antes do início do trabalho de parto (3.661)\n",
        "\n",
        "4º P021 - Feto e recém-nascido afetados por outras formas de descolamento da placenta e hemorragia (544)\n",
        "\n",
        "5º P072 - Imaturidade extrema (449)\n",
        "\n",
        "Referência: https://cid.ninsaude.com/pesquisar-por-cid/"
      ],
      "metadata": {
        "id": "0m5FV5bWdLCs"
      }
    },
    {
      "cell_type": "markdown",
      "source": [
        "**ESTUDO DA MORTALIDADE FETAL COM BASE NO CRITÉRIO MUNICÍPIO DO ÓBITO**"
      ],
      "metadata": {
        "id": "ifH0rnIGf_Ww"
      }
    },
    {
      "cell_type": "code",
      "source": [
        "# Análise sobre o município com o maior número de mortes\n",
        "\n",
        "municipio_maior_morte = df_fetal['MUNICIPIO_DO_OBITO'].value_counts()\n",
        "print(\"Os municípios com a maior quantidade de mortes fetais em 2023 são :\", municipio_maior_morte )"
      ],
      "metadata": {
        "id": "qTKAuPyuf_FD",
        "colab": {
          "base_uri": "https://localhost:8080/"
        },
        "outputId": "61bede01-f526-4ded-9946-138bea34cc0c"
      },
      "execution_count": null,
      "outputs": [
        {
          "output_type": "stream",
          "name": "stdout",
          "text": [
            "Os municípios com a maior quantidade de mortes fetais em 2023 são : MUNICIPIO_DO_OBITO\n",
            "SÃO PAULO           1328\n",
            "SALVADOR             536\n",
            "BRASÍLIA             468\n",
            "FORTALEZA            442\n",
            "MANAUS               409\n",
            "                    ... \n",
            "AFRÂNIO                1\n",
            "FÊNIX                  1\n",
            "MACARANI               1\n",
            "GENERAL CARNEIRO       1\n",
            "ITAÍ                   1\n",
            "Name: count, Length: 1655, dtype: int64\n"
          ]
        }
      ]
    },
    {
      "cell_type": "markdown",
      "source": [
        "Diante do resultado obtido, é possivel concluir que os cinco municípios com maior número de mortes fetais em 2023 foram São Paulo (1.328), Salvador (536), Brasília (468), Fortaleza (442) e Manaus (409).\n",
        "\n",
        "Então, diante desse resultado é importante deixar alguns questionamentos: por que o número de mortes fetais em São Paulo é quase três vezes maior que a segunda cidade? É *outlier*? Existe uma coleta eficiente de dados em relação as outras cidades? A saúde pública focada no atendimento para o pré-natal, parto e puerpério não é eficiente ?\n",
        "\n",
        "Enfim, tais questionamentos são importantes a fim que investigações sejam realizadas e medidas implementadas.\n"
      ],
      "metadata": {
        "id": "4fejGuxMhMwc"
      }
    },
    {
      "cell_type": "markdown",
      "source": [
        "**ESTUDO DA MORTALIDADE FETAL COM BASE NO CRITÉRIO ESTADO DO ÓBITO**"
      ],
      "metadata": {
        "id": "zVyJejWl-Mog"
      }
    },
    {
      "cell_type": "code",
      "source": [
        "uf_maior_morte = df_fetal['UF_MUNICIPIO_DO_OBITO'].value_counts()\n",
        "print(\"Os estados com a maior quantidade de mortes fetais em 2023 são :\", uf_maior_morte )"
      ],
      "metadata": {
        "colab": {
          "base_uri": "https://localhost:8080/"
        },
        "id": "QZDD8cJm-VQt",
        "outputId": "a90d98e6-e96d-4c65-af78-e752dfcebae0"
      },
      "execution_count": null,
      "outputs": [
        {
          "output_type": "stream",
          "name": "stdout",
          "text": [
            "Os estados com a maior quantidade de mortes fetais em 2023 são : UF_MUNICIPIO_DO_OBITO\n",
            "SÃO PAULO              4478\n",
            "BAHIA                  2053\n",
            "MINAS GERAIS           1994\n",
            "RIO DE JANEIRO         1367\n",
            "PARÁ                   1343\n",
            "PARANÁ                 1044\n",
            "CEARÁ                  1015\n",
            "MARANHÃO                961\n",
            "PERNAMBUCO              814\n",
            "RIO GRANDE DO SUL       798\n",
            "AMAZONAS                779\n",
            "GOIÁS                   750\n",
            "SANTA CATARINA          684\n",
            "MATO GROSSO             541\n",
            "53                      468\n",
            "ESPÍRITO SANTO          416\n",
            "MATO GROSSO DO SUL      405\n",
            "PARAÍBA                 372\n",
            "SERGIPE                 327\n",
            "PIAUÍ                   311\n",
            "ALAGOAS                 266\n",
            "TOCANTINS               216\n",
            "RIO GRANDE DO NORTE     187\n",
            "RONDÔNIA                186\n",
            "AMAPÁ                   134\n",
            "ACRE                    130\n",
            "RORAIMA                 114\n",
            "Name: count, dtype: int64\n"
          ]
        }
      ]
    },
    {
      "cell_type": "markdown",
      "source": [
        "Os estados com mais mortes fetais em 2023 foram: São Paulo (4478), Bahia (2053), Minas Gerais (1994), Rio de Janeiro (1367) e Pará (1343).\n",
        "Observação: o código 53 não foi devidamente modificado mas representa o Distrito Federal."
      ],
      "metadata": {
        "id": "RwkzI5ij_jS0"
      }
    },
    {
      "cell_type": "markdown",
      "source": [
        "**CONCLUSÃO**\n",
        "\n",
        "Analisar os dados sobre mortalidade fetal é importante para compreender a situação da saúde pública brasileira.\n",
        "\n",
        "O Aborto, por outro lado, é questão a ser tratada, não escondida. Até que ponto tais mortes fetais foram naturais, provocadas ou frutos de erros médicos ?\n",
        "\n",
        "Enfim, a coleta e a análise dos dados são passos relevantes a fim de buscar entender os problemas crônicos sociais e implementar alternativas no âmbito legal e de políticas públicas."
      ],
      "metadata": {
        "id": "m2P6OZoojwcp"
      }
    }
  ],
  "metadata": {
    "colab": {
      "provenance": [],
      "include_colab_link": true
    },
    "kernelspec": {
      "display_name": "Python 3",
      "name": "python3"
    },
    "language_info": {
      "name": "python"
    }
  },
  "nbformat": 4,
  "nbformat_minor": 0
}